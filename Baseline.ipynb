{
 "cells": [
  {
   "cell_type": "markdown",
   "id": "791d71d5",
   "metadata": {},
   "source": [
    "# MFDP. RecSys"
   ]
  },
  {
   "cell_type": "code",
   "execution_count": 1,
   "id": "32d4f086",
   "metadata": {},
   "outputs": [],
   "source": [
    "%load_ext autoreload\n",
    "%autoreload 2"
   ]
  },
  {
   "cell_type": "markdown",
   "id": "3cdccd56",
   "metadata": {},
   "source": [
    "Необходимо реализовать baseline для задачи рекомендации контента. Пока что не будем учитывать ни время, которое есть у клиента (потому что пока таких данных нет), ни прочие данные о клиентах. Простой baseline, как отправная точка, для разработки сервиса."
   ]
  },
  {
   "cell_type": "code",
   "execution_count": 2,
   "id": "4916896f",
   "metadata": {},
   "outputs": [],
   "source": [
    "import pandas as pd\n",
    "import numpy as np\n",
    "from pathlib import Path\n",
    "from tqdm import tqdm\n",
    "\n",
    "from src.models.BaseModel import BaseRecommendModel"
   ]
  },
  {
   "cell_type": "code",
   "execution_count": 3,
   "id": "73db8c96",
   "metadata": {},
   "outputs": [],
   "source": [
    "data_path = Path('data')"
   ]
  },
  {
   "cell_type": "code",
   "execution_count": 4,
   "id": "62c8fdba",
   "metadata": {},
   "outputs": [],
   "source": [
    "df_train = pd.read_parquet(data_path / 'df_train.parquet')"
   ]
  },
  {
   "cell_type": "code",
   "execution_count": 5,
   "id": "15d8d282",
   "metadata": {},
   "outputs": [],
   "source": [
    "users_bd = pd.read_parquet(data_path / 'users_bd.parquet')"
   ]
  },
  {
   "cell_type": "code",
   "execution_count": 6,
   "id": "1a490cbe",
   "metadata": {},
   "outputs": [],
   "source": [
    "users_bd = users_bd.groupby('user').agg({'item': lambda x: ', '.join(x)})"
   ]
  },
  {
   "cell_type": "code",
   "execution_count": 7,
   "id": "011bc1a8",
   "metadata": {},
   "outputs": [],
   "source": [
    "model = BaseRecommendModel()"
   ]
  },
  {
   "cell_type": "code",
   "execution_count": 8,
   "id": "3dd826c5",
   "metadata": {},
   "outputs": [],
   "source": [
    "model.fit(df_train, history=users_bd)"
   ]
  },
  {
   "cell_type": "code",
   "execution_count": 57,
   "id": "3be6178e",
   "metadata": {},
   "outputs": [],
   "source": [
    "df_test = pd.read_parquet(data_path / 'df_test.parquet')"
   ]
  },
  {
   "cell_type": "code",
   "execution_count": null,
   "id": "9b50765f",
   "metadata": {},
   "outputs": [],
   "source": []
  },
  {
   "cell_type": "code",
   "execution_count": 75,
   "id": "d52dda93",
   "metadata": {},
   "outputs": [
    {
     "data": {
      "text/plain": [
       "178554      b38781\n",
       "855661     b206944\n",
       "1087901    b260840\n",
       "1036242    b247747\n",
       "309523      b74076\n",
       "            ...   \n",
       "421090     b100648\n",
       "529964     b127779\n",
       "1061959    b253821\n",
       "1270       b277230\n",
       "611158     b147847\n",
       "Name: user, Length: 1000, dtype: object"
      ]
     },
     "execution_count": 75,
     "metadata": {},
     "output_type": "execute_result"
    }
   ],
   "source": [
    "df_test.user.iloc[:1000]"
   ]
  },
  {
   "cell_type": "code",
   "execution_count": 76,
   "id": "9e936f30",
   "metadata": {},
   "outputs": [],
   "source": [
    "def recommend_all_for(users, n):\n",
    "    recommends = []\n",
    "    for user in users:\n",
    "        recommends.append(model.recommend_single(user, n))\n",
    "        \n",
    "    return recommends"
   ]
  },
  {
   "cell_type": "code",
   "execution_count": null,
   "id": "c6a3cb97",
   "metadata": {},
   "outputs": [],
   "source": [
    "recommend_all_for(df_test.user.iloc[:1000], 20)"
   ]
  },
  {
   "cell_type": "code",
   "execution_count": null,
   "id": "cbd7113a",
   "metadata": {},
   "outputs": [],
   "source": []
  }
 ],
 "metadata": {
  "kernelspec": {
   "display_name": "Python 3 (ipykernel)",
   "language": "python",
   "name": "python3"
  },
  "language_info": {
   "codemirror_mode": {
    "name": "ipython",
    "version": 3
   },
   "file_extension": ".py",
   "mimetype": "text/x-python",
   "name": "python",
   "nbconvert_exporter": "python",
   "pygments_lexer": "ipython3",
   "version": "3.8.3"
  }
 },
 "nbformat": 4,
 "nbformat_minor": 5
}
