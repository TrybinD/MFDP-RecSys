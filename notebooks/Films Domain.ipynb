{
 "cells": [
  {
   "cell_type": "markdown",
   "id": "da674175",
   "metadata": {},
   "source": [
    "# Эксперименты с films доменом"
   ]
  },
  {
   "cell_type": "code",
   "execution_count": 1,
   "id": "66246987",
   "metadata": {},
   "outputs": [],
   "source": [
    "%load_ext autoreload\n",
    "%autoreload 2\n",
    "\n",
    "import sys\n",
    "sys.path.append('../')"
   ]
  },
  {
   "cell_type": "code",
   "execution_count": 2,
   "id": "bbd4aa23",
   "metadata": {},
   "outputs": [
    {
     "name": "stderr",
     "output_type": "stream",
     "text": [
      "C:\\Users\\trybi\\anaconda3\\envs\\IndexHockey\\lib\\site-packages\\lightfm\\_lightfm_fast.py:9: UserWarning: LightFM was compiled without OpenMP support. Only a single thread will be used.\n",
      "  warnings.warn('LightFM was compiled without OpenMP support. '\n"
     ]
    }
   ],
   "source": [
    "from pathlib import Path\n",
    "from tqdm import tqdm\n",
    "import pickle\n",
    "from time import time\n",
    "from tqdm import tqdm\n",
    "import pandas as pd\n",
    "import numpy as np\n",
    "\n",
    "import mlflow\n",
    "import optuna\n",
    "\n",
    "from src.models.BaseModel import TopRecommender\n",
    "from src.models.ItemBasedRecommenders import CosineDistanceRecommender\n",
    "from src.models.MatrixFactorizationRecommenders import ALSBasedRecommender, LightFMBasedRecommender\n",
    "\n",
    "from src.metrics import average_single_precision"
   ]
  },
  {
   "cell_type": "code",
   "execution_count": 35,
   "id": "070dedd9",
   "metadata": {},
   "outputs": [
    {
     "data": {
      "text/plain": [
       "<Experiment: artifact_location='file:///C:/Users/trybi/PycharmProjects/MFDP-RecSys/src/models/mlflow_tracking/mlruns/3', creation_time=1681633083831, experiment_id='3', last_update_time=1681633083831, lifecycle_stage='active', name='Films Domain', tags={}>"
      ]
     },
     "execution_count": 35,
     "metadata": {},
     "output_type": "execute_result"
    }
   ],
   "source": [
    "# Настраиваем MLFlow\n",
    "mlflow.set_tracking_uri((Path.cwd() / '../src/models/mlflow_tracking/mlruns'))\n",
    "mlflow.set_experiment('Films Domain')"
   ]
  },
  {
   "cell_type": "code",
   "execution_count": 36,
   "id": "23af8223",
   "metadata": {},
   "outputs": [],
   "source": [
    "data_path = Path('../data')"
   ]
  },
  {
   "cell_type": "code",
   "execution_count": 37,
   "id": "b7307e4d",
   "metadata": {},
   "outputs": [],
   "source": [
    "df_interactions = pd.read_parquet(data_path / 'films_interactions.parquet')\n",
    "df_films = pd.read_parquet(data_path / 'films_bd.parquet')"
   ]
  },
  {
   "cell_type": "code",
   "execution_count": 38,
   "id": "b31818f7",
   "metadata": {},
   "outputs": [],
   "source": [
    "df_interactions = df_interactions.reset_index().drop('index', axis=1)"
   ]
  },
  {
   "cell_type": "code",
   "execution_count": 39,
   "id": "9efd28a7",
   "metadata": {},
   "outputs": [
    {
     "data": {
      "text/html": [
       "<div>\n",
       "<style scoped>\n",
       "    .dataframe tbody tr th:only-of-type {\n",
       "        vertical-align: middle;\n",
       "    }\n",
       "\n",
       "    .dataframe tbody tr th {\n",
       "        vertical-align: top;\n",
       "    }\n",
       "\n",
       "    .dataframe thead th {\n",
       "        text-align: right;\n",
       "    }\n",
       "</style>\n",
       "<table border=\"1\" class=\"dataframe\">\n",
       "  <thead>\n",
       "    <tr style=\"text-align: right;\">\n",
       "      <th></th>\n",
       "      <th>user_id</th>\n",
       "      <th>item_id</th>\n",
       "      <th>rating</th>\n",
       "    </tr>\n",
       "  </thead>\n",
       "  <tbody>\n",
       "    <tr>\n",
       "      <th>0</th>\n",
       "      <td>176549</td>\n",
       "      <td>f9506</td>\n",
       "      <td>-1</td>\n",
       "    </tr>\n",
       "    <tr>\n",
       "      <th>1</th>\n",
       "      <td>699317</td>\n",
       "      <td>f1659</td>\n",
       "      <td>1</td>\n",
       "    </tr>\n",
       "    <tr>\n",
       "      <th>2</th>\n",
       "      <td>1032142</td>\n",
       "      <td>f6686</td>\n",
       "      <td>1</td>\n",
       "    </tr>\n",
       "    <tr>\n",
       "      <th>3</th>\n",
       "      <td>1016458</td>\n",
       "      <td>f354</td>\n",
       "      <td>-1</td>\n",
       "    </tr>\n",
       "    <tr>\n",
       "      <th>4</th>\n",
       "      <td>884009</td>\n",
       "      <td>f693</td>\n",
       "      <td>-1</td>\n",
       "    </tr>\n",
       "    <tr>\n",
       "      <th>...</th>\n",
       "      <td>...</td>\n",
       "      <td>...</td>\n",
       "      <td>...</td>\n",
       "    </tr>\n",
       "    <tr>\n",
       "      <th>2397261</th>\n",
       "      <td>268216</td>\n",
       "      <td>f3071</td>\n",
       "      <td>1</td>\n",
       "    </tr>\n",
       "    <tr>\n",
       "      <th>2397262</th>\n",
       "      <td>438585</td>\n",
       "      <td>f7829</td>\n",
       "      <td>1</td>\n",
       "    </tr>\n",
       "    <tr>\n",
       "      <th>2397263</th>\n",
       "      <td>546862</td>\n",
       "      <td>f9673</td>\n",
       "      <td>-1</td>\n",
       "    </tr>\n",
       "    <tr>\n",
       "      <th>2397264</th>\n",
       "      <td>384202</td>\n",
       "      <td>f16197</td>\n",
       "      <td>1</td>\n",
       "    </tr>\n",
       "    <tr>\n",
       "      <th>2397265</th>\n",
       "      <td>319709</td>\n",
       "      <td>f4436</td>\n",
       "      <td>-1</td>\n",
       "    </tr>\n",
       "  </tbody>\n",
       "</table>\n",
       "<p>2397266 rows × 3 columns</p>\n",
       "</div>"
      ],
      "text/plain": [
       "         user_id item_id  rating\n",
       "0         176549   f9506      -1\n",
       "1         699317   f1659       1\n",
       "2        1032142   f6686       1\n",
       "3        1016458    f354      -1\n",
       "4         884009    f693      -1\n",
       "...          ...     ...     ...\n",
       "2397261   268216   f3071       1\n",
       "2397262   438585   f7829       1\n",
       "2397263   546862   f9673      -1\n",
       "2397264   384202  f16197       1\n",
       "2397265   319709   f4436      -1\n",
       "\n",
       "[2397266 rows x 3 columns]"
      ]
     },
     "execution_count": 39,
     "metadata": {},
     "output_type": "execute_result"
    }
   ],
   "source": [
    "df_interactions"
   ]
  },
  {
   "cell_type": "code",
   "execution_count": 40,
   "id": "37a0afdb",
   "metadata": {},
   "outputs": [],
   "source": [
    "# Отложим 1000 наблюдений в качестве тестовой выборки. На них будем считать метрику MAP@10.\n",
    "\n",
    "test_samples = np.random.choice(range(len(df_interactions)), size = 1000, replace=False)\n",
    "\n",
    "df_train = df_interactions.drop(test_samples)\n",
    "df_test = df_interactions.iloc[test_samples]"
   ]
  },
  {
   "cell_type": "code",
   "execution_count": 41,
   "id": "57d7a9ef",
   "metadata": {},
   "outputs": [],
   "source": [
    "# Соберем словарь {user: [items]}, потому что так быстрее будет работать поиск истории по юзерам\n",
    "train_db = {user: items.item().split(', ') for user, items in (df_train\n",
    "                                                               .groupby('user_id')\n",
    "                                                               .agg({'item_id': lambda x: ', '.join(x)})\n",
    "                                                               .iterrows())}"
   ]
  },
  {
   "cell_type": "code",
   "execution_count": 42,
   "id": "bee76328",
   "metadata": {},
   "outputs": [
    {
     "data": {
      "text/plain": [
       "350"
      ]
     },
     "execution_count": 42,
     "metadata": {},
     "output_type": "execute_result"
    }
   ],
   "source": [
    "# Посмотрим максимальное количество посмотренных фильмов одним человеком.\n",
    "max(len(i) for i in train_db.values())"
   ]
  },
  {
   "cell_type": "code",
   "execution_count": 43,
   "id": "9411bd4c",
   "metadata": {},
   "outputs": [],
   "source": [
    "# Соберем список пар (user: item) из test, чтобы по нему итерироваться\n",
    "test_data = df_test[['user_id', 'item_id']].values"
   ]
  },
  {
   "cell_type": "code",
   "execution_count": 44,
   "id": "b031bf85",
   "metadata": {},
   "outputs": [],
   "source": [
    "# Функция, которая будет считать эксперименты \n",
    "def experiment(run_name, model, model_params, recommend_params, my_favorites, k=10):\n",
    "    with mlflow.start_run(run_name=run_name):\n",
    "        mlflow.log_params(model_params)\n",
    "        \n",
    "        time_start = time()\n",
    "        model.fit(interaction_data=df_train.rename({'user_id': 'user', 'item_id': 'item'}, axis=1),\n",
    "                  **model_params)\n",
    "        mlflow.log_metric(f'fit_time', time()-time_start)\n",
    "        \n",
    "        maps = []\n",
    "        times = []\n",
    "        for new_user, new_item in tqdm(test_data):\n",
    "            user_favorites = train_db.get(new_user, [])\n",
    "            time_start = time()\n",
    "            recs = model.recommend(user_favorites, k, **recommend_params)\n",
    "            times.append(time()-time_start)\n",
    "            maps.append(average_single_precision(new_item, recs))\n",
    "        \n",
    "        \n",
    "        mlflow.log_metric(f'MAP_on_{k}', sum(maps)/len(maps))\n",
    "        mlflow.log_metric(f'time_to_rec', sum(times)/len(times))\n",
    "        \n",
    "        my_recs = model.recommend(my_favorites, k, **recommend_params)\n",
    "        \n",
    "        \n",
    "        mlflow.log_text(' \\n '.join(str(i) + ' - ' + str(j) + ' - ' + str(round(z)) + ' - ' + str(g) \n",
    "                                    for k in my_recs for i, j, z, g in df_films.query('item_id==@k')[['title',\n",
    "                                                                                                      'directors',\n",
    "                                                                                                      'release_year',\n",
    "                                                                                                      'genres']].values),\n",
    "                        'my_recs.txt')\n",
    "\n",
    "        with open(model_path / f'{run_name}_model_series.pickle', 'wb') as f:\n",
    "            pickle.dump(model, f)\n",
    "\n",
    "        mlflow.log_artifact(model_path / f'{run_name}_model_series.pickle')"
   ]
  },
  {
   "cell_type": "code",
   "execution_count": 45,
   "id": "d36f1025",
   "metadata": {},
   "outputs": [],
   "source": [
    "model_path = Path('../src/models/models_storage')"
   ]
  },
  {
   "cell_type": "code",
   "execution_count": 46,
   "id": "1e1bca36",
   "metadata": {},
   "outputs": [],
   "source": [
    "my_favorites = ['f8148', 'f14804', 'f11760', 'f3969', 'f1048', 'f2866', 'f4482', 'f11459', 'f3755', 'f10696']"
   ]
  },
  {
   "cell_type": "code",
   "execution_count": 47,
   "id": "c76f45e8",
   "metadata": {},
   "outputs": [
    {
     "data": {
      "text/html": [
       "<div>\n",
       "<style scoped>\n",
       "    .dataframe tbody tr th:only-of-type {\n",
       "        vertical-align: middle;\n",
       "    }\n",
       "\n",
       "    .dataframe tbody tr th {\n",
       "        vertical-align: top;\n",
       "    }\n",
       "\n",
       "    .dataframe thead th {\n",
       "        text-align: right;\n",
       "    }\n",
       "</style>\n",
       "<table border=\"1\" class=\"dataframe\">\n",
       "  <thead>\n",
       "    <tr style=\"text-align: right;\">\n",
       "      <th></th>\n",
       "      <th>item_id</th>\n",
       "      <th>title</th>\n",
       "      <th>release_year</th>\n",
       "      <th>genres</th>\n",
       "      <th>countries</th>\n",
       "      <th>age_rating</th>\n",
       "      <th>directors</th>\n",
       "    </tr>\n",
       "  </thead>\n",
       "  <tbody>\n",
       "    <tr>\n",
       "      <th>107</th>\n",
       "      <td>f14804</td>\n",
       "      <td>Криминальное чтиво</td>\n",
       "      <td>1994.0</td>\n",
       "      <td>зарубежные, триллеры, криминал, комедии</td>\n",
       "      <td>США</td>\n",
       "      <td>18.0</td>\n",
       "      <td>Квентин Тарантино</td>\n",
       "    </tr>\n",
       "    <tr>\n",
       "      <th>3123</th>\n",
       "      <td>f11459</td>\n",
       "      <td>Драйв</td>\n",
       "      <td>2011.0</td>\n",
       "      <td>драмы, зарубежные, криминал</td>\n",
       "      <td>США</td>\n",
       "      <td>18.0</td>\n",
       "      <td>Николас Виндинг Рефн</td>\n",
       "    </tr>\n",
       "    <tr>\n",
       "      <th>8609</th>\n",
       "      <td>f4482</td>\n",
       "      <td>Господин никто</td>\n",
       "      <td>2009.0</td>\n",
       "      <td>драмы, фантастика, фэнтези, мелодрамы</td>\n",
       "      <td>Германия, Бельгия</td>\n",
       "      <td>18.0</td>\n",
       "      <td>Жако Ван Дормель</td>\n",
       "    </tr>\n",
       "    <tr>\n",
       "      <th>9706</th>\n",
       "      <td>f3969</td>\n",
       "      <td>Пи</td>\n",
       "      <td>1997.0</td>\n",
       "      <td>драмы, ужасы, фантастика, триллеры</td>\n",
       "      <td>США</td>\n",
       "      <td>16.0</td>\n",
       "      <td>Даррен Аронофски</td>\n",
       "    </tr>\n",
       "    <tr>\n",
       "      <th>9927</th>\n",
       "      <td>f11760</td>\n",
       "      <td>Реквием по мечте</td>\n",
       "      <td>2000.0</td>\n",
       "      <td>драмы</td>\n",
       "      <td>США</td>\n",
       "      <td>18.0</td>\n",
       "      <td>Даррен Аронофски</td>\n",
       "    </tr>\n",
       "    <tr>\n",
       "      <th>10785</th>\n",
       "      <td>f3755</td>\n",
       "      <td>Форрест Гамп</td>\n",
       "      <td>1994.0</td>\n",
       "      <td>драмы, мелодрамы</td>\n",
       "      <td>США</td>\n",
       "      <td>12.0</td>\n",
       "      <td>Роберт Земекис</td>\n",
       "    </tr>\n",
       "    <tr>\n",
       "      <th>11420</th>\n",
       "      <td>f2866</td>\n",
       "      <td>Карты, деньги, два ствола</td>\n",
       "      <td>1999.0</td>\n",
       "      <td>комедии</td>\n",
       "      <td>Великобритания</td>\n",
       "      <td>18.0</td>\n",
       "      <td>Гай Ричи</td>\n",
       "    </tr>\n",
       "    <tr>\n",
       "      <th>13279</th>\n",
       "      <td>f1048</td>\n",
       "      <td>Чёрный лебедь</td>\n",
       "      <td>2010.0</td>\n",
       "      <td>драмы, триллеры</td>\n",
       "      <td>США</td>\n",
       "      <td>16.0</td>\n",
       "      <td>Даррен Аронофски</td>\n",
       "    </tr>\n",
       "    <tr>\n",
       "      <th>13803</th>\n",
       "      <td>f8148</td>\n",
       "      <td>Бешеные псы</td>\n",
       "      <td>1991.0</td>\n",
       "      <td>драмы, триллеры</td>\n",
       "      <td>США</td>\n",
       "      <td>18.0</td>\n",
       "      <td>Квентин Тарантино</td>\n",
       "    </tr>\n",
       "    <tr>\n",
       "      <th>15296</th>\n",
       "      <td>f10696</td>\n",
       "      <td>Назад в будущее</td>\n",
       "      <td>1985.0</td>\n",
       "      <td>фантастика, приключения, комедии</td>\n",
       "      <td>США</td>\n",
       "      <td>6.0</td>\n",
       "      <td>Роберт Земекис</td>\n",
       "    </tr>\n",
       "  </tbody>\n",
       "</table>\n",
       "</div>"
      ],
      "text/plain": [
       "      item_id                      title  release_year  \\\n",
       "107    f14804         Криминальное чтиво        1994.0   \n",
       "3123   f11459                      Драйв        2011.0   \n",
       "8609    f4482             Господин никто        2009.0   \n",
       "9706    f3969                         Пи        1997.0   \n",
       "9927   f11760           Реквием по мечте        2000.0   \n",
       "10785   f3755               Форрест Гамп        1994.0   \n",
       "11420   f2866  Карты, деньги, два ствола        1999.0   \n",
       "13279   f1048              Чёрный лебедь        2010.0   \n",
       "13803   f8148                Бешеные псы        1991.0   \n",
       "15296  f10696            Назад в будущее        1985.0   \n",
       "\n",
       "                                        genres          countries  age_rating  \\\n",
       "107    зарубежные, триллеры, криминал, комедии                США        18.0   \n",
       "3123               драмы, зарубежные, криминал                США        18.0   \n",
       "8609     драмы, фантастика, фэнтези, мелодрамы  Германия, Бельгия        18.0   \n",
       "9706        драмы, ужасы, фантастика, триллеры                США        16.0   \n",
       "9927                                     драмы                США        18.0   \n",
       "10785                         драмы, мелодрамы                США        12.0   \n",
       "11420                                  комедии     Великобритания        18.0   \n",
       "13279                          драмы, триллеры                США        16.0   \n",
       "13803                          драмы, триллеры                США        18.0   \n",
       "15296         фантастика, приключения, комедии                США         6.0   \n",
       "\n",
       "                  directors  \n",
       "107       Квентин Тарантино  \n",
       "3123   Николас Виндинг Рефн  \n",
       "8609       Жако Ван Дормель  \n",
       "9706       Даррен Аронофски  \n",
       "9927       Даррен Аронофски  \n",
       "10785        Роберт Земекис  \n",
       "11420              Гай Ричи  \n",
       "13279      Даррен Аронофски  \n",
       "13803     Квентин Тарантино  \n",
       "15296        Роберт Земекис  "
      ]
     },
     "execution_count": 47,
     "metadata": {},
     "output_type": "execute_result"
    }
   ],
   "source": [
    "df_films[df_films.item_id.isin(my_favorites)]"
   ]
  },
  {
   "cell_type": "code",
   "execution_count": 55,
   "id": "5640cf5c",
   "metadata": {},
   "outputs": [
    {
     "name": "stderr",
     "output_type": "stream",
     "text": [
      "100%|████████████████████████████████████████████████████████████████████████████| 1000/1000 [00:00<00:00, 3254.88it/s]\n"
     ]
    }
   ],
   "source": [
    "experiment('Top count recommends', TopRecommender(), {'n_to_save':500, 'metric':'count'}, {'mode':'deterministic'},\n",
    "           my_favorites, k=10)"
   ]
  },
  {
   "cell_type": "code",
   "execution_count": 56,
   "id": "059f73ea",
   "metadata": {},
   "outputs": [
    {
     "name": "stderr",
     "output_type": "stream",
     "text": [
      "100%|████████████████████████████████████████████████████████████████████████████| 1000/1000 [00:00<00:00, 1785.71it/s]\n"
     ]
    }
   ],
   "source": [
    "experiment('Random recommends', TopRecommender(), {'n_to_save':500, 'metric':'count'}, {'mode':'probabilistic'},\n",
    "           my_favorites, k=10)"
   ]
  },
  {
   "cell_type": "code",
   "execution_count": 58,
   "id": "117cc2fb",
   "metadata": {},
   "outputs": [
    {
     "name": "stderr",
     "output_type": "stream",
     "text": [
      "100%|██████████████████████████████████████████████████████████████████████████████| 1000/1000 [00:26<00:00, 37.95it/s]\n"
     ]
    }
   ],
   "source": [
    "experiment('CosineDistanceRecommender', CosineDistanceRecommender(), {}, {'mode':'deterministic'},\n",
    "           my_favorites, k=10)"
   ]
  },
  {
   "cell_type": "code",
   "execution_count": 64,
   "id": "050bc2c2",
   "metadata": {},
   "outputs": [
    {
     "name": "stderr",
     "output_type": "stream",
     "text": [
      "100%|██████████████████████████████████████████████████████████████████████████████| 1000/1000 [00:27<00:00, 36.11it/s]\n"
     ]
    }
   ],
   "source": [
    "experiment('CosineDistanceRecommender + random', CosineDistanceRecommender(), {}, {'mode':'probabilistic'},\n",
    "           my_favorites, k=10)"
   ]
  },
  {
   "cell_type": "code",
   "execution_count": 65,
   "id": "8245ee52",
   "metadata": {},
   "outputs": [
    {
     "name": "stderr",
     "output_type": "stream",
     "text": [
      "C:\\Users\\trybi\\anaconda3\\envs\\IndexHockey\\lib\\site-packages\\implicit\\utils.py:34: UserWarning: Intel MKL BLAS detected. Its highly recommend to set the environment variable 'export MKL_NUM_THREADS=1' to disable its internal multithreading\n",
      "  \"Intel MKL BLAS detected. Its highly recommend to set the environment \"\n"
     ]
    },
    {
     "data": {
      "application/vnd.jupyter.widget-view+json": {
       "model_id": "afeb1e5b6ab941659cdb7ad2ad14b673",
       "version_major": 2,
       "version_minor": 0
      },
      "text/plain": [
       "  0%|          | 0/15 [00:00<?, ?it/s]"
      ]
     },
     "metadata": {},
     "output_type": "display_data"
    },
    {
     "name": "stderr",
     "output_type": "stream",
     "text": [
      "100%|█████████████████████████████████████████████████████████████████████████████| 1000/1000 [00:09<00:00, 110.88it/s]\n"
     ]
    }
   ],
   "source": [
    "experiment('ALS Recommender', ALSBasedRecommender(), {}, {},\n",
    "           my_favorites, k=10)"
   ]
  },
  {
   "cell_type": "code",
   "execution_count": 48,
   "id": "f4526c1e",
   "metadata": {},
   "outputs": [],
   "source": [
    "df_train['rating'] += 2"
   ]
  },
  {
   "cell_type": "code",
   "execution_count": 67,
   "id": "ce34f176",
   "metadata": {},
   "outputs": [
    {
     "data": {
      "application/vnd.jupyter.widget-view+json": {
       "model_id": "b89a954bffb743dc8090ce46390185a2",
       "version_major": 2,
       "version_minor": 0
      },
      "text/plain": [
       "  0%|          | 0/15 [00:00<?, ?it/s]"
      ]
     },
     "metadata": {},
     "output_type": "display_data"
    },
    {
     "name": "stderr",
     "output_type": "stream",
     "text": [
      "100%|██████████████████████████████████████████████████████████████████████████████| 1000/1000 [00:10<00:00, 98.29it/s]\n"
     ]
    }
   ],
   "source": [
    "experiment('ALS Recommender + changed DS', ALSBasedRecommender(), {}, {},\n",
    "           my_favorites, k=10)"
   ]
  },
  {
   "cell_type": "code",
   "execution_count": 68,
   "id": "23767626",
   "metadata": {},
   "outputs": [
    {
     "data": {
      "application/vnd.jupyter.widget-view+json": {
       "model_id": "73175a80df2c410db443994cdf70a564",
       "version_major": 2,
       "version_minor": 0
      },
      "text/plain": [
       "  0%|          | 0/30 [00:00<?, ?it/s]"
      ]
     },
     "metadata": {},
     "output_type": "display_data"
    },
    {
     "name": "stderr",
     "output_type": "stream",
     "text": [
      "100%|█████████████████████████████████████████████████████████████████████████████| 1000/1000 [00:09<00:00, 102.19it/s]\n"
     ]
    }
   ],
   "source": [
    "experiment('ALS Recommender + changed DS', ALSBasedRecommender(), {'factors': 10, 'regularization': 0.5, 'iterations': 30}, {},\n",
    "           my_favorites, k=10)"
   ]
  },
  {
   "cell_type": "code",
   "execution_count": 69,
   "id": "e06e478c",
   "metadata": {},
   "outputs": [
    {
     "data": {
      "application/vnd.jupyter.widget-view+json": {
       "model_id": "4de7aa2032a84d56a126e0329ac5c88d",
       "version_major": 2,
       "version_minor": 0
      },
      "text/plain": [
       "  0%|          | 0/30 [00:00<?, ?it/s]"
      ]
     },
     "metadata": {},
     "output_type": "display_data"
    },
    {
     "name": "stderr",
     "output_type": "stream",
     "text": [
      "100%|█████████████████████████████████████████████████████████████████████████████| 1000/1000 [00:08<00:00, 114.63it/s]\n"
     ]
    }
   ],
   "source": [
    "experiment('ALS Recommender + changed DS', ALSBasedRecommender(), {'factors': 50, 'regularization': 1, 'iterations': 30}, {},\n",
    "           my_favorites, k=10)"
   ]
  },
  {
   "cell_type": "code",
   "execution_count": 70,
   "id": "11f6447c",
   "metadata": {},
   "outputs": [
    {
     "data": {
      "application/vnd.jupyter.widget-view+json": {
       "model_id": "2aa1bd4d41984e6c8124ce149d947571",
       "version_major": 2,
       "version_minor": 0
      },
      "text/plain": [
       "  0%|          | 0/50 [00:00<?, ?it/s]"
      ]
     },
     "metadata": {},
     "output_type": "display_data"
    },
    {
     "name": "stderr",
     "output_type": "stream",
     "text": [
      "100%|█████████████████████████████████████████████████████████████████████████████| 1000/1000 [00:08<00:00, 124.39it/s]\n"
     ]
    }
   ],
   "source": [
    "experiment('ALS Recommender + changed DS', ALSBasedRecommender(), {'factors': 20, 'regularization': 3, 'iterations': 50}, {},\n",
    "           my_favorites, k=10)"
   ]
  },
  {
   "cell_type": "code",
   "execution_count": 71,
   "id": "d8cb6289",
   "metadata": {},
   "outputs": [
    {
     "data": {
      "application/vnd.jupyter.widget-view+json": {
       "model_id": "6036baeaded94700a7fc5cd4d55d10a4",
       "version_major": 2,
       "version_minor": 0
      },
      "text/plain": [
       "  0%|          | 0/50 [00:00<?, ?it/s]"
      ]
     },
     "metadata": {},
     "output_type": "display_data"
    },
    {
     "name": "stderr",
     "output_type": "stream",
     "text": [
      "100%|██████████████████████████████████████████████████████████████████████████████| 1000/1000 [00:15<00:00, 63.87it/s]\n"
     ]
    }
   ],
   "source": [
    "experiment('ALS Recommender + changed DS', ALSBasedRecommender(), {'factors': 200, 'regularization': 1, 'iterations': 50}, {},\n",
    "           my_favorites, k=10)"
   ]
  },
  {
   "cell_type": "markdown",
   "id": "92d12ac7",
   "metadata": {},
   "source": [
    "### Подбор гипперпараметров"
   ]
  },
  {
   "cell_type": "code",
   "execution_count": 18,
   "id": "c6c3ab79",
   "metadata": {},
   "outputs": [],
   "source": [
    "# Отложим 1000 наблюдений в качестве валидационной выборки\n",
    "\n",
    "val_samples = np.random.choice(range(len(df_train)), size = 1000, replace=False)\n",
    "\n",
    "df_train_val = df_train.iloc[val_samples]\n",
    "df_train_train = df_train[~df_train.index.isin(df_train_val.index)]"
   ]
  },
  {
   "cell_type": "code",
   "execution_count": 19,
   "id": "e794b66a",
   "metadata": {},
   "outputs": [],
   "source": [
    "train_db_new = {user: items.item().split(', ') for user, items in (df_train_train\n",
    "                                                               .groupby('user_id')\n",
    "                                                               .agg({'item_id': lambda x: ', '.join(x)})\n",
    "                                                               .iterrows())}"
   ]
  },
  {
   "cell_type": "code",
   "execution_count": 20,
   "id": "1266eaa9",
   "metadata": {},
   "outputs": [],
   "source": [
    "# Напишем функцию для подбора гипперов\n",
    "def objective(trial):\n",
    "    factors = trial.suggest_int(\"factors\", 5, 200)\n",
    "    regularization = trial.suggest_float(\"regularization\", 0, 20)\n",
    "    \n",
    "    model.fit(interaction_data=df_train_train.rename({'user_id': 'user', 'item_id': 'item'}, axis=1),\n",
    "              factors = factors,\n",
    "              regularization = regularization,\n",
    "              iterations=30)\n",
    "    \n",
    "    maps = []\n",
    "    for new_user, new_item in df_train_val[['user_id', 'item_id']].values:\n",
    "        user_favorites = train_db_new.get(new_user, [])\n",
    "        recs = model.recommend(user_favorites, 10)\n",
    "        maps.append(average_single_precision(new_item, recs))\n",
    "\n",
    "    \n",
    "    return sum(maps)/len(maps)"
   ]
  },
  {
   "cell_type": "code",
   "execution_count": 21,
   "id": "0de082a1",
   "metadata": {},
   "outputs": [],
   "source": [
    "model = ALSBasedRecommender()"
   ]
  },
  {
   "cell_type": "code",
   "execution_count": 22,
   "id": "598da2f8",
   "metadata": {
    "scrolled": true
   },
   "outputs": [
    {
     "name": "stderr",
     "output_type": "stream",
     "text": [
      "\u001b[32m[I 2023-04-18 13:21:02,147]\u001b[0m A new study created in memory with name: no-name-13eec682-6dc4-49c1-ade2-557a382cd8af\u001b[0m\n"
     ]
    },
    {
     "data": {
      "application/vnd.jupyter.widget-view+json": {
       "model_id": "2f3563df43434c22bbd3c401e6f03e9a",
       "version_major": 2,
       "version_minor": 0
      },
      "text/plain": [
       "  0%|          | 0/30 [00:00<?, ?it/s]"
      ]
     },
     "metadata": {},
     "output_type": "display_data"
    },
    {
     "name": "stderr",
     "output_type": "stream",
     "text": [
      "\u001b[32m[I 2023-04-18 13:23:58,403]\u001b[0m Trial 0 finished with value: 0.00535535714285714 and parameters: {'factors': 98, 'regularization': 6.672605043737711}. Best is trial 0 with value: 0.00535535714285714.\u001b[0m\n"
     ]
    },
    {
     "data": {
      "application/vnd.jupyter.widget-view+json": {
       "model_id": "e97db84d6ffb4051902e3382fda26eda",
       "version_major": 2,
       "version_minor": 0
      },
      "text/plain": [
       "  0%|          | 0/30 [00:00<?, ?it/s]"
      ]
     },
     "metadata": {},
     "output_type": "display_data"
    },
    {
     "name": "stderr",
     "output_type": "stream",
     "text": [
      "\u001b[32m[I 2023-04-18 13:26:37,229]\u001b[0m Trial 1 finished with value: 0.0051353174603174555 and parameters: {'factors': 102, 'regularization': 3.778660492292516}. Best is trial 0 with value: 0.00535535714285714.\u001b[0m\n"
     ]
    },
    {
     "data": {
      "application/vnd.jupyter.widget-view+json": {
       "model_id": "52eaba2512714ee78a56b834c6005e7a",
       "version_major": 2,
       "version_minor": 0
      },
      "text/plain": [
       "  0%|          | 0/30 [00:00<?, ?it/s]"
      ]
     },
     "metadata": {},
     "output_type": "display_data"
    },
    {
     "name": "stderr",
     "output_type": "stream",
     "text": [
      "\u001b[32m[I 2023-04-18 13:30:10,179]\u001b[0m Trial 2 finished with value: 0.005113373015873011 and parameters: {'factors': 137, 'regularization': 9.134532017165212}. Best is trial 0 with value: 0.00535535714285714.\u001b[0m\n"
     ]
    },
    {
     "data": {
      "application/vnd.jupyter.widget-view+json": {
       "model_id": "cad7afb9b5704aa49e689e17060a716c",
       "version_major": 2,
       "version_minor": 0
      },
      "text/plain": [
       "  0%|          | 0/30 [00:00<?, ?it/s]"
      ]
     },
     "metadata": {},
     "output_type": "display_data"
    },
    {
     "name": "stderr",
     "output_type": "stream",
     "text": [
      "\u001b[32m[I 2023-04-18 13:31:11,386]\u001b[0m Trial 3 finished with value: 0.007372103174603161 and parameters: {'factors': 5, 'regularization': 1.4987281575143663}. Best is trial 3 with value: 0.007372103174603161.\u001b[0m\n"
     ]
    },
    {
     "data": {
      "application/vnd.jupyter.widget-view+json": {
       "model_id": "ab235413d72f42c9b3505927ef454db0",
       "version_major": 2,
       "version_minor": 0
      },
      "text/plain": [
       "  0%|          | 0/30 [00:00<?, ?it/s]"
      ]
     },
     "metadata": {},
     "output_type": "display_data"
    },
    {
     "name": "stderr",
     "output_type": "stream",
     "text": [
      "\u001b[32m[I 2023-04-18 13:33:41,385]\u001b[0m Trial 4 finished with value: 0.005553690476190471 and parameters: {'factors': 91, 'regularization': 10.880985662030596}. Best is trial 3 with value: 0.007372103174603161.\u001b[0m\n"
     ]
    },
    {
     "data": {
      "application/vnd.jupyter.widget-view+json": {
       "model_id": "399a7a6db0064339b0bab783c37bb658",
       "version_major": 2,
       "version_minor": 0
      },
      "text/plain": [
       "  0%|          | 0/30 [00:00<?, ?it/s]"
      ]
     },
     "metadata": {},
     "output_type": "display_data"
    },
    {
     "name": "stderr",
     "output_type": "stream",
     "text": [
      "\u001b[32m[I 2023-04-18 13:34:57,284]\u001b[0m Trial 5 finished with value: 0.004868134920634914 and parameters: {'factors': 27, 'regularization': 5.240495333320672}. Best is trial 3 with value: 0.007372103174603161.\u001b[0m\n"
     ]
    },
    {
     "data": {
      "application/vnd.jupyter.widget-view+json": {
       "model_id": "1d9958ad454e4ef08b9b91eaeb07d665",
       "version_major": 2,
       "version_minor": 0
      },
      "text/plain": [
       "  0%|          | 0/30 [00:00<?, ?it/s]"
      ]
     },
     "metadata": {},
     "output_type": "display_data"
    },
    {
     "name": "stderr",
     "output_type": "stream",
     "text": [
      "\u001b[32m[I 2023-04-18 13:35:56,101]\u001b[0m Trial 6 finished with value: 0.005333015873015868 and parameters: {'factors': 10, 'regularization': 8.157105460246276}. Best is trial 3 with value: 0.007372103174603161.\u001b[0m\n"
     ]
    },
    {
     "data": {
      "application/vnd.jupyter.widget-view+json": {
       "model_id": "ce24c1ae467040928fbf61eb622019fa",
       "version_major": 2,
       "version_minor": 0
      },
      "text/plain": [
       "  0%|          | 0/30 [00:00<?, ?it/s]"
      ]
     },
     "metadata": {},
     "output_type": "display_data"
    },
    {
     "name": "stderr",
     "output_type": "stream",
     "text": [
      "\u001b[32m[I 2023-04-18 13:38:47,001]\u001b[0m Trial 7 finished with value: 0.005227817460317458 and parameters: {'factors': 115, 'regularization': 15.083078367930657}. Best is trial 3 with value: 0.007372103174603161.\u001b[0m\n"
     ]
    },
    {
     "data": {
      "application/vnd.jupyter.widget-view+json": {
       "model_id": "6c8b901d3ee8489384125e912994a904",
       "version_major": 2,
       "version_minor": 0
      },
      "text/plain": [
       "  0%|          | 0/30 [00:00<?, ?it/s]"
      ]
     },
     "metadata": {},
     "output_type": "display_data"
    },
    {
     "name": "stderr",
     "output_type": "stream",
     "text": [
      "\u001b[32m[I 2023-04-18 13:41:30,707]\u001b[0m Trial 8 finished with value: 0.005022499999999996 and parameters: {'factors': 134, 'regularization': 7.823498448654853}. Best is trial 3 with value: 0.007372103174603161.\u001b[0m\n"
     ]
    },
    {
     "data": {
      "application/vnd.jupyter.widget-view+json": {
       "model_id": "e9f0a39839a04ad79be9aff99e7b1cc8",
       "version_major": 2,
       "version_minor": 0
      },
      "text/plain": [
       "  0%|          | 0/30 [00:00<?, ?it/s]"
      ]
     },
     "metadata": {},
     "output_type": "display_data"
    },
    {
     "name": "stderr",
     "output_type": "stream",
     "text": [
      "\u001b[32m[I 2023-04-18 13:44:38,819]\u001b[0m Trial 9 finished with value: 0.004770119047619045 and parameters: {'factors': 154, 'regularization': 4.571326758106212}. Best is trial 3 with value: 0.007372103174603161.\u001b[0m\n"
     ]
    },
    {
     "data": {
      "application/vnd.jupyter.widget-view+json": {
       "model_id": "24020dcd9e1741bf92d2292f64861fc6",
       "version_major": 2,
       "version_minor": 0
      },
      "text/plain": [
       "  0%|          | 0/30 [00:00<?, ?it/s]"
      ]
     },
     "metadata": {},
     "output_type": "display_data"
    },
    {
     "name": "stderr",
     "output_type": "stream",
     "text": [
      "\u001b[32m[I 2023-04-18 13:48:48,761]\u001b[0m Trial 10 finished with value: 0.004923134920634918 and parameters: {'factors': 189, 'regularization': 1.877306617967399}. Best is trial 3 with value: 0.007372103174603161.\u001b[0m\n"
     ]
    },
    {
     "data": {
      "application/vnd.jupyter.widget-view+json": {
       "model_id": "cbce583068174b588da68d7d8fbf2dba",
       "version_major": 2,
       "version_minor": 0
      },
      "text/plain": [
       "  0%|          | 0/30 [00:00<?, ?it/s]"
      ]
     },
     "metadata": {},
     "output_type": "display_data"
    },
    {
     "name": "stderr",
     "output_type": "stream",
     "text": [
      "\u001b[32m[I 2023-04-18 13:50:13,280]\u001b[0m Trial 11 finished with value: 0.005130119047619042 and parameters: {'factors': 55, 'regularization': 0.08158122073573537}. Best is trial 3 with value: 0.007372103174603161.\u001b[0m\n"
     ]
    },
    {
     "data": {
      "application/vnd.jupyter.widget-view+json": {
       "model_id": "45122a5b60ef4a3dbafea1e4bb99d12a",
       "version_major": 2,
       "version_minor": 0
      },
      "text/plain": [
       "  0%|          | 0/30 [00:00<?, ?it/s]"
      ]
     },
     "metadata": {},
     "output_type": "display_data"
    },
    {
     "name": "stderr",
     "output_type": "stream",
     "text": [
      "\u001b[32m[I 2023-04-18 13:51:29,215]\u001b[0m Trial 12 finished with value: 0.00484646825396825 and parameters: {'factors': 60, 'regularization': 13.101630956811313}. Best is trial 3 with value: 0.007372103174603161.\u001b[0m\n"
     ]
    },
    {
     "data": {
      "application/vnd.jupyter.widget-view+json": {
       "model_id": "e5fc937615c54896aef1a21ca42ada38",
       "version_major": 2,
       "version_minor": 0
      },
      "text/plain": [
       "  0%|          | 0/30 [00:00<?, ?it/s]"
      ]
     },
     "metadata": {},
     "output_type": "display_data"
    },
    {
     "name": "stderr",
     "output_type": "stream",
     "text": [
      "\u001b[32m[I 2023-04-18 13:53:14,149]\u001b[0m Trial 13 finished with value: 0.005223293650793645 and parameters: {'factors': 64, 'regularization': 12.15988946538011}. Best is trial 3 with value: 0.007372103174603161.\u001b[0m\n"
     ]
    },
    {
     "data": {
      "application/vnd.jupyter.widget-view+json": {
       "model_id": "72bec89d0bc54e64ac77e959f0a1dc32",
       "version_major": 2,
       "version_minor": 0
      },
      "text/plain": [
       "  0%|          | 0/30 [00:00<?, ?it/s]"
      ]
     },
     "metadata": {},
     "output_type": "display_data"
    },
    {
     "name": "stderr",
     "output_type": "stream",
     "text": [
      "\u001b[32m[I 2023-04-18 13:54:34,648]\u001b[0m Trial 14 finished with value: 0.005036111111111102 and parameters: {'factors': 33, 'regularization': 19.585928180505377}. Best is trial 3 with value: 0.007372103174603161.\u001b[0m\n"
     ]
    },
    {
     "data": {
      "application/vnd.jupyter.widget-view+json": {
       "model_id": "223557be5417427288d5e01da3c10cf7",
       "version_major": 2,
       "version_minor": 0
      },
      "text/plain": [
       "  0%|          | 0/30 [00:00<?, ?it/s]"
      ]
     },
     "metadata": {},
     "output_type": "display_data"
    },
    {
     "name": "stderr",
     "output_type": "stream",
     "text": [
      "\u001b[32m[I 2023-04-18 13:57:13,732]\u001b[0m Trial 15 finished with value: 0.0055520238095238044 and parameters: {'factors': 82, 'regularization': 0.03550220477643706}. Best is trial 3 with value: 0.007372103174603161.\u001b[0m\n"
     ]
    },
    {
     "data": {
      "application/vnd.jupyter.widget-view+json": {
       "model_id": "d9ab91b1f8874c208238e14087ce9996",
       "version_major": 2,
       "version_minor": 0
      },
      "text/plain": [
       "  0%|          | 0/30 [00:00<?, ?it/s]"
      ]
     },
     "metadata": {},
     "output_type": "display_data"
    },
    {
     "name": "stderr",
     "output_type": "stream",
     "text": [
      "\u001b[32m[I 2023-04-18 13:58:04,227]\u001b[0m Trial 16 finished with value: 0.007771190476190463 and parameters: {'factors': 6, 'regularization': 10.704300633455523}. Best is trial 16 with value: 0.007771190476190463.\u001b[0m\n"
     ]
    },
    {
     "data": {
      "application/vnd.jupyter.widget-view+json": {
       "model_id": "ef0ff032b2c340f8b8a2dfb803bf4cbf",
       "version_major": 2,
       "version_minor": 0
      },
      "text/plain": [
       "  0%|          | 0/30 [00:00<?, ?it/s]"
      ]
     },
     "metadata": {},
     "output_type": "display_data"
    },
    {
     "name": "stderr",
     "output_type": "stream",
     "text": [
      "\u001b[32m[I 2023-04-18 13:58:48,810]\u001b[0m Trial 17 finished with value: 0.007758333333333319 and parameters: {'factors': 5, 'regularization': 6.270995751097528}. Best is trial 16 with value: 0.007771190476190463.\u001b[0m\n"
     ]
    },
    {
     "data": {
      "application/vnd.jupyter.widget-view+json": {
       "model_id": "ea31c568677d41f5b7816be0d84fea29",
       "version_major": 2,
       "version_minor": 0
      },
      "text/plain": [
       "  0%|          | 0/30 [00:00<?, ?it/s]"
      ]
     },
     "metadata": {},
     "output_type": "display_data"
    },
    {
     "name": "stderr",
     "output_type": "stream",
     "text": [
      "\u001b[32m[I 2023-04-18 14:00:05,151]\u001b[0m Trial 18 finished with value: 0.004799880952380946 and parameters: {'factors': 35, 'regularization': 9.819390138222932}. Best is trial 16 with value: 0.007771190476190463.\u001b[0m\n"
     ]
    },
    {
     "data": {
      "application/vnd.jupyter.widget-view+json": {
       "model_id": "d23ee172243a483abcab1a00ec108b65",
       "version_major": 2,
       "version_minor": 0
      },
      "text/plain": [
       "  0%|          | 0/30 [00:00<?, ?it/s]"
      ]
     },
     "metadata": {},
     "output_type": "display_data"
    },
    {
     "name": "stderr",
     "output_type": "stream",
     "text": [
      "\u001b[32m[I 2023-04-18 14:01:21,653]\u001b[0m Trial 19 finished with value: 0.004700674603174599 and parameters: {'factors': 27, 'regularization': 6.967374725586941}. Best is trial 16 with value: 0.007771190476190463.\u001b[0m\n"
     ]
    },
    {
     "data": {
      "application/vnd.jupyter.widget-view+json": {
       "model_id": "2e24be90ed53496a90608ce83ce319c9",
       "version_major": 2,
       "version_minor": 0
      },
      "text/plain": [
       "  0%|          | 0/30 [00:00<?, ?it/s]"
      ]
     },
     "metadata": {},
     "output_type": "display_data"
    },
    {
     "name": "stderr",
     "output_type": "stream",
     "text": [
      "\u001b[32m[I 2023-04-18 14:05:57,164]\u001b[0m Trial 20 finished with value: 0.004627420634920634 and parameters: {'factors': 191, 'regularization': 5.995348502786856}. Best is trial 16 with value: 0.007771190476190463.\u001b[0m\n"
     ]
    },
    {
     "data": {
      "application/vnd.jupyter.widget-view+json": {
       "model_id": "13158d4474194036b6a4e6aec66e4779",
       "version_major": 2,
       "version_minor": 0
      },
      "text/plain": [
       "  0%|          | 0/30 [00:00<?, ?it/s]"
      ]
     },
     "metadata": {},
     "output_type": "display_data"
    },
    {
     "name": "stderr",
     "output_type": "stream",
     "text": [
      "\u001b[32m[I 2023-04-18 14:06:49,947]\u001b[0m Trial 21 finished with value: 0.007213650793650783 and parameters: {'factors': 6, 'regularization': 2.8998027089442138}. Best is trial 16 with value: 0.007771190476190463.\u001b[0m\n"
     ]
    },
    {
     "data": {
      "application/vnd.jupyter.widget-view+json": {
       "model_id": "99208bccd2414e8cbf0a3a69a6d77136",
       "version_major": 2,
       "version_minor": 0
      },
      "text/plain": [
       "  0%|          | 0/30 [00:00<?, ?it/s]"
      ]
     },
     "metadata": {},
     "output_type": "display_data"
    },
    {
     "name": "stderr",
     "output_type": "stream",
     "text": [
      "\u001b[32m[I 2023-04-18 14:07:43,624]\u001b[0m Trial 22 finished with value: 0.0075706746031745905 and parameters: {'factors': 5, 'regularization': 1.9775115478008432}. Best is trial 16 with value: 0.007771190476190463.\u001b[0m\n"
     ]
    },
    {
     "data": {
      "application/vnd.jupyter.widget-view+json": {
       "model_id": "40346040b92a497f8d1130ef0e816091",
       "version_major": 2,
       "version_minor": 0
      },
      "text/plain": [
       "  0%|          | 0/30 [00:00<?, ?it/s]"
      ]
     },
     "metadata": {},
     "output_type": "display_data"
    },
    {
     "name": "stderr",
     "output_type": "stream",
     "text": [
      "\u001b[32m[I 2023-04-18 14:09:31,528]\u001b[0m Trial 23 finished with value: 0.005299285714285708 and parameters: {'factors': 50, 'regularization': 4.307182119822377}. Best is trial 16 with value: 0.007771190476190463.\u001b[0m\n"
     ]
    },
    {
     "data": {
      "application/vnd.jupyter.widget-view+json": {
       "model_id": "afc13638219e4077ac26db9c3dab32c3",
       "version_major": 2,
       "version_minor": 0
      },
      "text/plain": [
       "  0%|          | 0/30 [00:00<?, ?it/s]"
      ]
     },
     "metadata": {},
     "output_type": "display_data"
    },
    {
     "name": "stderr",
     "output_type": "stream",
     "text": [
      "\u001b[32m[I 2023-04-18 14:10:39,706]\u001b[0m Trial 24 finished with value: 0.004548849206349202 and parameters: {'factors': 20, 'regularization': 5.913854948283012}. Best is trial 16 with value: 0.007771190476190463.\u001b[0m\n"
     ]
    },
    {
     "data": {
      "application/vnd.jupyter.widget-view+json": {
       "model_id": "af86ece3b2df4d7b877f07b4ded9c94d",
       "version_major": 2,
       "version_minor": 0
      },
      "text/plain": [
       "  0%|          | 0/30 [00:00<?, ?it/s]"
      ]
     },
     "metadata": {},
     "output_type": "display_data"
    },
    {
     "name": "stderr",
     "output_type": "stream",
     "text": [
      "\u001b[32m[I 2023-04-18 14:12:30,582]\u001b[0m Trial 25 finished with value: 0.005341230158730153 and parameters: {'factors': 47, 'regularization': 3.02068678769128}. Best is trial 16 with value: 0.007771190476190463.\u001b[0m\n"
     ]
    },
    {
     "data": {
      "application/vnd.jupyter.widget-view+json": {
       "model_id": "8380655197c74dddb0b252faa6e0aaed",
       "version_major": 2,
       "version_minor": 0
      },
      "text/plain": [
       "  0%|          | 0/30 [00:00<?, ?it/s]"
      ]
     },
     "metadata": {},
     "output_type": "display_data"
    },
    {
     "name": "stderr",
     "output_type": "stream",
     "text": [
      "\u001b[32m[I 2023-04-18 14:14:42,121]\u001b[0m Trial 26 finished with value: 0.005371507936507931 and parameters: {'factors': 75, 'regularization': 8.610281704701972}. Best is trial 16 with value: 0.007771190476190463.\u001b[0m\n"
     ]
    },
    {
     "data": {
      "application/vnd.jupyter.widget-view+json": {
       "model_id": "beead49b64a9486f9c6f8cb7cd5706e6",
       "version_major": 2,
       "version_minor": 0
      },
      "text/plain": [
       "  0%|          | 0/30 [00:00<?, ?it/s]"
      ]
     },
     "metadata": {},
     "output_type": "display_data"
    },
    {
     "name": "stderr",
     "output_type": "stream",
     "text": [
      "\u001b[32m[I 2023-04-18 14:15:46,067]\u001b[0m Trial 27 finished with value: 0.004572539682539681 and parameters: {'factors': 17, 'regularization': 5.499655164395529}. Best is trial 16 with value: 0.007771190476190463.\u001b[0m\n"
     ]
    },
    {
     "data": {
      "application/vnd.jupyter.widget-view+json": {
       "model_id": "2079686cacc74c7385480aae7e80558b",
       "version_major": 2,
       "version_minor": 0
      },
      "text/plain": [
       "  0%|          | 0/30 [00:00<?, ?it/s]"
      ]
     },
     "metadata": {},
     "output_type": "display_data"
    },
    {
     "name": "stderr",
     "output_type": "stream",
     "text": [
      "\u001b[32m[I 2023-04-18 14:17:21,412]\u001b[0m Trial 28 finished with value: 0.005191666666666663 and parameters: {'factors': 39, 'regularization': 7.013371587694641}. Best is trial 16 with value: 0.007771190476190463.\u001b[0m\n"
     ]
    },
    {
     "data": {
      "application/vnd.jupyter.widget-view+json": {
       "model_id": "aff6ae23d67c43178b1d50918f0b754f",
       "version_major": 2,
       "version_minor": 0
      },
      "text/plain": [
       "  0%|          | 0/30 [00:00<?, ?it/s]"
      ]
     },
     "metadata": {},
     "output_type": "display_data"
    },
    {
     "name": "stderr",
     "output_type": "stream",
     "text": [
      "\u001b[32m[I 2023-04-18 14:18:20,333]\u001b[0m Trial 29 finished with value: 0.004674722222222219 and parameters: {'factors': 17, 'regularization': 6.763057550345998}. Best is trial 16 with value: 0.007771190476190463.\u001b[0m\n"
     ]
    },
    {
     "data": {
      "application/vnd.jupyter.widget-view+json": {
       "model_id": "8773460ef33a4ea498e9930b38f57373",
       "version_major": 2,
       "version_minor": 0
      },
      "text/plain": [
       "  0%|          | 0/30 [00:00<?, ?it/s]"
      ]
     },
     "metadata": {},
     "output_type": "display_data"
    },
    {
     "name": "stderr",
     "output_type": "stream",
     "text": [
      "\u001b[32m[I 2023-04-18 14:20:00,167]\u001b[0m Trial 30 finished with value: 0.005393730158730153 and parameters: {'factors': 70, 'regularization': 3.973100116938614}. Best is trial 16 with value: 0.007771190476190463.\u001b[0m\n"
     ]
    },
    {
     "data": {
      "application/vnd.jupyter.widget-view+json": {
       "model_id": "c8914ac4c5cf4d6bb246b8547c75a117",
       "version_major": 2,
       "version_minor": 0
      },
      "text/plain": [
       "  0%|          | 0/30 [00:00<?, ?it/s]"
      ]
     },
     "metadata": {},
     "output_type": "display_data"
    },
    {
     "name": "stderr",
     "output_type": "stream",
     "text": [
      "\u001b[32m[I 2023-04-18 14:20:45,139]\u001b[0m Trial 31 finished with value: 0.0075711111111111005 and parameters: {'factors': 5, 'regularization': 2.24475340609706}. Best is trial 16 with value: 0.007771190476190463.\u001b[0m\n"
     ]
    },
    {
     "data": {
      "application/vnd.jupyter.widget-view+json": {
       "model_id": "53526a98583748f89d4ed358e6d1f6c2",
       "version_major": 2,
       "version_minor": 0
      },
      "text/plain": [
       "  0%|          | 0/30 [00:00<?, ?it/s]"
      ]
     },
     "metadata": {},
     "output_type": "display_data"
    },
    {
     "name": "stderr",
     "output_type": "stream",
     "text": [
      "\u001b[32m[I 2023-04-18 14:21:32,771]\u001b[0m Trial 32 finished with value: 0.007456190476190467 and parameters: {'factors': 6, 'regularization': 2.032717927445736}. Best is trial 16 with value: 0.007771190476190463.\u001b[0m\n"
     ]
    },
    {
     "data": {
      "application/vnd.jupyter.widget-view+json": {
       "model_id": "34c5830f6dcd43a5a2b54def20b627e3",
       "version_major": 2,
       "version_minor": 0
      },
      "text/plain": [
       "  0%|          | 0/30 [00:00<?, ?it/s]"
      ]
     },
     "metadata": {},
     "output_type": "display_data"
    },
    {
     "name": "stderr",
     "output_type": "stream",
     "text": [
      "\u001b[32m[I 2023-04-18 14:22:38,550]\u001b[0m Trial 33 finished with value: 0.004700317460317456 and parameters: {'factors': 22, 'regularization': 3.248395205429092}. Best is trial 16 with value: 0.007771190476190463.\u001b[0m\n"
     ]
    },
    {
     "data": {
      "application/vnd.jupyter.widget-view+json": {
       "model_id": "bdf2c861e7914c80ab525979fd3135d5",
       "version_major": 2,
       "version_minor": 0
      },
      "text/plain": [
       "  0%|          | 0/30 [00:00<?, ?it/s]"
      ]
     },
     "metadata": {},
     "output_type": "display_data"
    },
    {
     "name": "stderr",
     "output_type": "stream",
     "text": [
      "\u001b[32m[I 2023-04-18 14:23:50,961]\u001b[0m Trial 34 finished with value: 0.005105515873015866 and parameters: {'factors': 44, 'regularization': 0.9337992127549315}. Best is trial 16 with value: 0.007771190476190463.\u001b[0m\n"
     ]
    },
    {
     "data": {
      "application/vnd.jupyter.widget-view+json": {
       "model_id": "2482d2ffca3545d8b5756da5e2898568",
       "version_major": 2,
       "version_minor": 0
      },
      "text/plain": [
       "  0%|          | 0/30 [00:00<?, ?it/s]"
      ]
     },
     "metadata": {},
     "output_type": "display_data"
    },
    {
     "name": "stderr",
     "output_type": "stream",
     "text": [
      "\u001b[32m[I 2023-04-18 14:24:41,712]\u001b[0m Trial 35 finished with value: 0.007657023809523796 and parameters: {'factors': 5, 'regularization': 2.3933689397027074}. Best is trial 16 with value: 0.007771190476190463.\u001b[0m\n"
     ]
    },
    {
     "data": {
      "application/vnd.jupyter.widget-view+json": {
       "model_id": "245cddd640d14b8bbc681fccaa693c7f",
       "version_major": 2,
       "version_minor": 0
      },
      "text/plain": [
       "  0%|          | 0/30 [00:00<?, ?it/s]"
      ]
     },
     "metadata": {},
     "output_type": "display_data"
    },
    {
     "name": "stderr",
     "output_type": "stream",
     "text": [
      "\u001b[32m[I 2023-04-18 14:25:53,389]\u001b[0m Trial 36 finished with value: 0.005081944444444437 and parameters: {'factors': 30, 'regularization': 4.73505202807431}. Best is trial 16 with value: 0.007771190476190463.\u001b[0m\n"
     ]
    },
    {
     "data": {
      "application/vnd.jupyter.widget-view+json": {
       "model_id": "1c79107a5ef94780a4bab9787f9247ea",
       "version_major": 2,
       "version_minor": 0
      },
      "text/plain": [
       "  0%|          | 0/30 [00:00<?, ?it/s]"
      ]
     },
     "metadata": {},
     "output_type": "display_data"
    },
    {
     "name": "stderr",
     "output_type": "stream",
     "text": [
      "\u001b[32m[I 2023-04-18 14:26:51,989]\u001b[0m Trial 37 finished with value: 0.004769087301587299 and parameters: {'factors': 13, 'regularization': 3.640101597809995}. Best is trial 16 with value: 0.007771190476190463.\u001b[0m\n"
     ]
    },
    {
     "data": {
      "application/vnd.jupyter.widget-view+json": {
       "model_id": "62ad3815e32d4abca1ab81e7ca5cd406",
       "version_major": 2,
       "version_minor": 0
      },
      "text/plain": [
       "  0%|          | 0/30 [00:00<?, ?it/s]"
      ]
     },
     "metadata": {},
     "output_type": "display_data"
    },
    {
     "name": "stderr",
     "output_type": "stream",
     "text": [
      "\u001b[32m[I 2023-04-18 14:27:50,826]\u001b[0m Trial 38 finished with value: 0.004839880952380949 and parameters: {'factors': 24, 'regularization': 9.04561607693111}. Best is trial 16 with value: 0.007771190476190463.\u001b[0m\n"
     ]
    },
    {
     "data": {
      "application/vnd.jupyter.widget-view+json": {
       "model_id": "72507bc151d94646a21bc224b97af88e",
       "version_major": 2,
       "version_minor": 0
      },
      "text/plain": [
       "  0%|          | 0/30 [00:00<?, ?it/s]"
      ]
     },
     "metadata": {},
     "output_type": "display_data"
    },
    {
     "name": "stderr",
     "output_type": "stream",
     "text": [
      "\u001b[32m[I 2023-04-18 14:30:13,790]\u001b[0m Trial 39 finished with value: 0.005313888888888883 and parameters: {'factors': 103, 'regularization': 5.209907133441384}. Best is trial 16 with value: 0.007771190476190463.\u001b[0m\n"
     ]
    }
   ],
   "source": [
    "study = optuna.create_study(direction='maximize')\n",
    "study.optimize(objective, n_trials=40)"
   ]
  },
  {
   "cell_type": "code",
   "execution_count": 23,
   "id": "0083ae09",
   "metadata": {},
   "outputs": [
    {
     "data": {
      "text/plain": [
       "{'factors': 6, 'regularization': 10.704300633455523}"
      ]
     },
     "execution_count": 23,
     "metadata": {},
     "output_type": "execute_result"
    }
   ],
   "source": [
    "study.best_params"
   ]
  },
  {
   "cell_type": "code",
   "execution_count": 49,
   "id": "181843a6",
   "metadata": {},
   "outputs": [
    {
     "data": {
      "application/vnd.jupyter.widget-view+json": {
       "model_id": "78ebb8ea2c634e1c9ff9be5bcf9c512e",
       "version_major": 2,
       "version_minor": 0
      },
      "text/plain": [
       "  0%|          | 0/30 [00:00<?, ?it/s]"
      ]
     },
     "metadata": {},
     "output_type": "display_data"
    },
    {
     "name": "stderr",
     "output_type": "stream",
     "text": [
      "100%|█████████████████████████████████████████████████████████████████████████████| 1000/1000 [00:09<00:00, 100.94it/s]\n"
     ]
    }
   ],
   "source": [
    "experiment('ALS Recommender + changed DS + optuna', ALSBasedRecommender(), {'factors': 6, \n",
    "                                                                   'regularization': 10.704300633455523, \n",
    "                                                                   'iterations': 30}, {},\n",
    "           my_favorites, k=10)"
   ]
  },
  {
   "cell_type": "code",
   "execution_count": null,
   "id": "d4d7e4da",
   "metadata": {},
   "outputs": [],
   "source": []
  }
 ],
 "metadata": {
  "kernelspec": {
   "display_name": "Python 3 (ipykernel)",
   "language": "python",
   "name": "python3"
  },
  "language_info": {
   "codemirror_mode": {
    "name": "ipython",
    "version": 3
   },
   "file_extension": ".py",
   "mimetype": "text/x-python",
   "name": "python",
   "nbconvert_exporter": "python",
   "pygments_lexer": "ipython3",
   "version": "3.7.13"
  }
 },
 "nbformat": 4,
 "nbformat_minor": 5
}
