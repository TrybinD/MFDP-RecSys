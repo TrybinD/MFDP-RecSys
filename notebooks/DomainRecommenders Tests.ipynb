{
 "cells": [
  {
   "cell_type": "markdown",
   "id": "bf2f5519",
   "metadata": {},
   "source": [
    "# Эксперименты с DomainRecommenders"
   ]
  },
  {
   "cell_type": "code",
   "execution_count": 50,
   "id": "65bd187c",
   "metadata": {},
   "outputs": [
    {
     "name": "stdout",
     "output_type": "stream",
     "text": [
      "The autoreload extension is already loaded. To reload it, use:\n",
      "  %reload_ext autoreload\n"
     ]
    }
   ],
   "source": [
    "%load_ext autoreload\n",
    "%autoreload 2\n",
    "\n",
    "import sys\n",
    "sys.path.append('../')"
   ]
  },
  {
   "cell_type": "markdown",
   "id": "315ef239",
   "metadata": {},
   "source": [
    "Маленький ноутбук с проверкой работоспособности рекомендатора домена"
   ]
  },
  {
   "cell_type": "code",
   "execution_count": 51,
   "id": "b321e858",
   "metadata": {},
   "outputs": [],
   "source": [
    "import pandas as pd\n",
    "import numpy as np\n",
    "from pathlib import Path\n",
    "from tqdm import tqdm\n",
    "from scipy.stats import dirichlet\n",
    "\n",
    "from src.models.DomainRecommender import PopularDomainRecommender, AdaptiveDomainRecommender"
   ]
  },
  {
   "cell_type": "code",
   "execution_count": 5,
   "id": "49164a75",
   "metadata": {},
   "outputs": [],
   "source": [
    "data_path = Path('../data')"
   ]
  },
  {
   "cell_type": "code",
   "execution_count": 6,
   "id": "132c0302",
   "metadata": {},
   "outputs": [],
   "source": [
    "df_train = pd.read_parquet(data_path / 'df_train.parquet')"
   ]
  },
  {
   "cell_type": "code",
   "execution_count": 55,
   "id": "962013db",
   "metadata": {},
   "outputs": [
    {
     "name": "stdout",
     "output_type": "stream",
     "text": [
      "Wall time: 0 ns\n"
     ]
    },
    {
     "data": {
      "text/plain": [
       "array(['kion', 'kion', 'kion', 'kion', 'books', 'kion', 'kion', 'kion',\n",
       "       'kion', 'kion', 'kion', 'kion', 'kion', 'books', 'kion', 'kion',\n",
       "       'books', 'books', 'books', 'kion'], dtype='<U20')"
      ]
     },
     "execution_count": 55,
     "metadata": {},
     "output_type": "execute_result"
    }
   ],
   "source": [
    "recommander_pop = PopularDomainRecommender()\n",
    "recommander_pop.fit(df_train)\n",
    "%time recommander_pop.recommend([], 20)"
   ]
  },
  {
   "cell_type": "code",
   "execution_count": 54,
   "id": "9ca0568a",
   "metadata": {},
   "outputs": [
    {
     "name": "stdout",
     "output_type": "stream",
     "text": [
      "Wall time: 1.02 ms\n"
     ]
    },
    {
     "data": {
      "text/plain": [
       "array(['books', 'books', 'books', 'books', 'books', 'books', 'books',\n",
       "       'books', 'books', 'kion', 'books', 'kion', 'books', 'books',\n",
       "       'kion', 'kion', 'kion', 'books', 'books', 'books'], dtype='<U20')"
      ]
     },
     "execution_count": 54,
     "metadata": {},
     "output_type": "execute_result"
    }
   ],
   "source": [
    "recommander_ada = AdaptiveDomainRecommender(['books', 'kion'], [5, 3])\n",
    "\n",
    "%time recommander_ada.recommend([], 20)"
   ]
  },
  {
   "cell_type": "code",
   "execution_count": 61,
   "id": "14d3ef3a",
   "metadata": {},
   "outputs": [
    {
     "data": {
      "text/plain": [
       "array(['books', 'books', 'kion', 'books', 'kion', 'books', 'kion',\n",
       "       'books', 'books', 'books', 'books', 'books', 'books', 'kion',\n",
       "       'books', 'books', 'kion', 'books', 'kion', 'kion'], dtype='<U20')"
      ]
     },
     "execution_count": 61,
     "metadata": {},
     "output_type": "execute_result"
    }
   ],
   "source": [
    "recommander_ada.recommend(['b57754', 'k78875457', 'b578754', 'k75457890', 'b457890',\n",
    "                          'b45789', 'b457890', 'b45789087'], 20)"
   ]
  },
  {
   "cell_type": "code",
   "execution_count": null,
   "id": "e87dc798",
   "metadata": {},
   "outputs": [],
   "source": []
  }
 ],
 "metadata": {
  "kernelspec": {
   "display_name": "Python 3 (ipykernel)",
   "language": "python",
   "name": "python3"
  },
  "language_info": {
   "codemirror_mode": {
    "name": "ipython",
    "version": 3
   },
   "file_extension": ".py",
   "mimetype": "text/x-python",
   "name": "python",
   "nbconvert_exporter": "python",
   "pygments_lexer": "ipython3",
   "version": "3.7.13"
  }
 },
 "nbformat": 4,
 "nbformat_minor": 5
}
