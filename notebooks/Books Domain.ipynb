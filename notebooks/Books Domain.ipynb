{
 "cells": [
  {
   "cell_type": "markdown",
   "id": "28dcc834",
   "metadata": {},
   "source": [
    "# Эксперименты с books доменом"
   ]
  },
  {
   "cell_type": "code",
   "execution_count": 1,
   "id": "3a370428",
   "metadata": {},
   "outputs": [],
   "source": [
    "%load_ext autoreload\n",
    "%autoreload 2\n",
    "\n",
    "import sys\n",
    "sys.path.append('../')"
   ]
  },
  {
   "cell_type": "code",
   "execution_count": 2,
   "id": "f4b156de",
   "metadata": {},
   "outputs": [
    {
     "name": "stderr",
     "output_type": "stream",
     "text": [
      "C:\\Users\\trybi\\anaconda3\\envs\\IndexHockey\\lib\\site-packages\\lightfm\\_lightfm_fast.py:9: UserWarning: LightFM was compiled without OpenMP support. Only a single thread will be used.\n",
      "  warnings.warn('LightFM was compiled without OpenMP support. '\n"
     ]
    }
   ],
   "source": [
    "import pandas as pd\n",
    "import numpy as np\n",
    "from pathlib import Path\n",
    "from tqdm import tqdm\n",
    "\n",
    "from scipy import sparse\n",
    "from sklearn.preprocessing import normalize\n",
    "\n",
    "import implicit\n",
    "from lightfm import LightFM"
   ]
  },
  {
   "cell_type": "code",
   "execution_count": 3,
   "id": "c9391fec",
   "metadata": {},
   "outputs": [],
   "source": [
    "data_path = Path('../data')"
   ]
  },
  {
   "cell_type": "code",
   "execution_count": 4,
   "id": "3798998d",
   "metadata": {},
   "outputs": [],
   "source": [
    "df_books_rating = pd.read_parquet(data_path / 'df_books_rating.parquet')"
   ]
  },
  {
   "cell_type": "code",
   "execution_count": 530,
   "id": "87afe0bc",
   "metadata": {},
   "outputs": [],
   "source": [
    "df_books_rating['Book-Rating'] = df_books_rating['Book-Rating'].replace(0, np.nan)"
   ]
  },
  {
   "cell_type": "code",
   "execution_count": 540,
   "id": "83ef754f",
   "metadata": {},
   "outputs": [],
   "source": [
    "df_books_rating['Book-Rating'] = (df_books_rating.groupby('ISBN', sort=False)['Book-Rating']\n",
    "                                  .apply(lambda x: x.fillna(x.mean())))"
   ]
  },
  {
   "cell_type": "code",
   "execution_count": 5,
   "id": "bb6e3c52",
   "metadata": {},
   "outputs": [
    {
     "data": {
      "text/html": [
       "<div>\n",
       "<style scoped>\n",
       "    .dataframe tbody tr th:only-of-type {\n",
       "        vertical-align: middle;\n",
       "    }\n",
       "\n",
       "    .dataframe tbody tr th {\n",
       "        vertical-align: top;\n",
       "    }\n",
       "\n",
       "    .dataframe thead th {\n",
       "        text-align: right;\n",
       "    }\n",
       "</style>\n",
       "<table border=\"1\" class=\"dataframe\">\n",
       "  <thead>\n",
       "    <tr style=\"text-align: right;\">\n",
       "      <th></th>\n",
       "      <th>User-ID</th>\n",
       "      <th>ISBN</th>\n",
       "      <th>Book-Rating</th>\n",
       "    </tr>\n",
       "  </thead>\n",
       "  <tbody>\n",
       "    <tr>\n",
       "      <th>10</th>\n",
       "      <td>276746</td>\n",
       "      <td>b0425115801</td>\n",
       "      <td>0</td>\n",
       "    </tr>\n",
       "    <tr>\n",
       "      <th>11</th>\n",
       "      <td>276746</td>\n",
       "      <td>b0449006522</td>\n",
       "      <td>0</td>\n",
       "    </tr>\n",
       "    <tr>\n",
       "      <th>12</th>\n",
       "      <td>276746</td>\n",
       "      <td>b0553561618</td>\n",
       "      <td>0</td>\n",
       "    </tr>\n",
       "    <tr>\n",
       "      <th>13</th>\n",
       "      <td>276746</td>\n",
       "      <td>b055356451X</td>\n",
       "      <td>0</td>\n",
       "    </tr>\n",
       "    <tr>\n",
       "      <th>16</th>\n",
       "      <td>276747</td>\n",
       "      <td>b0060976845</td>\n",
       "      <td>9</td>\n",
       "    </tr>\n",
       "    <tr>\n",
       "      <th>...</th>\n",
       "      <td>...</td>\n",
       "      <td>...</td>\n",
       "      <td>...</td>\n",
       "    </tr>\n",
       "    <tr>\n",
       "      <th>1149766</th>\n",
       "      <td>276704</td>\n",
       "      <td>b0441007813</td>\n",
       "      <td>0</td>\n",
       "    </tr>\n",
       "    <tr>\n",
       "      <th>1149767</th>\n",
       "      <td>276704</td>\n",
       "      <td>b0446353957</td>\n",
       "      <td>0</td>\n",
       "    </tr>\n",
       "    <tr>\n",
       "      <th>1149768</th>\n",
       "      <td>276704</td>\n",
       "      <td>b0446605409</td>\n",
       "      <td>0</td>\n",
       "    </tr>\n",
       "    <tr>\n",
       "      <th>1149771</th>\n",
       "      <td>276704</td>\n",
       "      <td>b0743211383</td>\n",
       "      <td>7</td>\n",
       "    </tr>\n",
       "    <tr>\n",
       "      <th>1149772</th>\n",
       "      <td>276704</td>\n",
       "      <td>b080410526X</td>\n",
       "      <td>0</td>\n",
       "    </tr>\n",
       "  </tbody>\n",
       "</table>\n",
       "<p>433823 rows × 3 columns</p>\n",
       "</div>"
      ],
      "text/plain": [
       "         User-ID         ISBN  Book-Rating\n",
       "10        276746  b0425115801            0\n",
       "11        276746  b0449006522            0\n",
       "12        276746  b0553561618            0\n",
       "13        276746  b055356451X            0\n",
       "16        276747  b0060976845            9\n",
       "...          ...          ...          ...\n",
       "1149766   276704  b0441007813            0\n",
       "1149767   276704  b0446353957            0\n",
       "1149768   276704  b0446605409            0\n",
       "1149771   276704  b0743211383            7\n",
       "1149772   276704  b080410526X            0\n",
       "\n",
       "[433823 rows x 3 columns]"
      ]
     },
     "execution_count": 5,
     "metadata": {},
     "output_type": "execute_result"
    }
   ],
   "source": [
    "df_books_rating"
   ]
  },
  {
   "cell_type": "code",
   "execution_count": 31,
   "id": "dfef9df1",
   "metadata": {},
   "outputs": [],
   "source": [
    "rows, r_pos = np.unique(df_books_rating.values[:, 0], return_inverse=True)\n",
    "cols, c_pos = np.unique(df_books_rating.values[:, 1], return_inverse=True)"
   ]
  },
  {
   "cell_type": "code",
   "execution_count": 32,
   "id": "f2954d56",
   "metadata": {},
   "outputs": [],
   "source": [
    "sparse_interactions = sparse.csc_matrix((df_books_rating.values[:, 2].astype(int), (r_pos, c_pos)))"
   ]
  },
  {
   "cell_type": "code",
   "execution_count": 33,
   "id": "bd46faaa",
   "metadata": {},
   "outputs": [
    {
     "data": {
      "text/plain": [
       "<27498x9673 sparse matrix of type '<class 'numpy.intc'>'\n",
       "\twith 430478 stored elements in Compressed Sparse Column format>"
      ]
     },
     "execution_count": 33,
     "metadata": {},
     "output_type": "execute_result"
    }
   ],
   "source": [
    "sparse_interactions"
   ]
  },
  {
   "cell_type": "code",
   "execution_count": 187,
   "id": "a41699ee",
   "metadata": {},
   "outputs": [],
   "source": [
    "Pui = normalize(sparse_interactions, norm='l2', axis=1)"
   ]
  },
  {
   "cell_type": "code",
   "execution_count": 188,
   "id": "5fd753ff",
   "metadata": {},
   "outputs": [],
   "source": [
    "sim = Pui.T * Pui"
   ]
  },
  {
   "cell_type": "code",
   "execution_count": 189,
   "id": "5787501c",
   "metadata": {},
   "outputs": [
    {
     "data": {
      "text/plain": [
       "<9673x9673 sparse matrix of type '<class 'numpy.float64'>'\n",
       "\twith 11437274 stored elements in Compressed Sparse Column format>"
      ]
     },
     "execution_count": 189,
     "metadata": {},
     "output_type": "execute_result"
    }
   ],
   "source": [
    "sim"
   ]
  },
  {
   "cell_type": "code",
   "execution_count": 14,
   "id": "7588aa1f",
   "metadata": {},
   "outputs": [],
   "source": [
    "books_df = pd.read_parquet(data_path/'books_bd.parquet')"
   ]
  },
  {
   "cell_type": "code",
   "execution_count": 15,
   "id": "71981730",
   "metadata": {},
   "outputs": [
    {
     "data": {
      "text/html": [
       "<div>\n",
       "<style scoped>\n",
       "    .dataframe tbody tr th:only-of-type {\n",
       "        vertical-align: middle;\n",
       "    }\n",
       "\n",
       "    .dataframe tbody tr th {\n",
       "        vertical-align: top;\n",
       "    }\n",
       "\n",
       "    .dataframe thead th {\n",
       "        text-align: right;\n",
       "    }\n",
       "</style>\n",
       "<table border=\"1\" class=\"dataframe\">\n",
       "  <thead>\n",
       "    <tr style=\"text-align: right;\">\n",
       "      <th></th>\n",
       "      <th>Book-Title</th>\n",
       "      <th>Book-Author</th>\n",
       "      <th>ISBN</th>\n",
       "      <th>Year-Of-Publication</th>\n",
       "      <th>Image-URL-M</th>\n",
       "    </tr>\n",
       "  </thead>\n",
       "  <tbody>\n",
       "    <tr>\n",
       "      <th>109090</th>\n",
       "      <td>Le portrait de Dorian Gray</td>\n",
       "      <td>Oscar Wilde</td>\n",
       "      <td>b2253002887</td>\n",
       "      <td>1972</td>\n",
       "      <td>http://images.amazon.com/images/P/2253002887.0...</td>\n",
       "    </tr>\n",
       "    <tr>\n",
       "      <th>145420</th>\n",
       "      <td>Picture of Dorian Gray</td>\n",
       "      <td>Oscar Wilde</td>\n",
       "      <td>b0140620338</td>\n",
       "      <td>0</td>\n",
       "      <td>http://images.amazon.com/images/P/0140620338.0...</td>\n",
       "    </tr>\n",
       "    <tr>\n",
       "      <th>145423</th>\n",
       "      <td>Picture of Dorian Gray (Wordsworth Classics)</td>\n",
       "      <td>Oscar Wilde</td>\n",
       "      <td>b1853260150</td>\n",
       "      <td>1997</td>\n",
       "      <td>http://images.amazon.com/images/P/1853260150.0...</td>\n",
       "    </tr>\n",
       "    <tr>\n",
       "      <th>209725</th>\n",
       "      <td>The Picture of Dorian Gray</td>\n",
       "      <td>Oscar Wilde</td>\n",
       "      <td>b1593080255</td>\n",
       "      <td>1983</td>\n",
       "      <td>http://images.amazon.com/images/P/1593080255.0...</td>\n",
       "    </tr>\n",
       "    <tr>\n",
       "      <th>209726</th>\n",
       "      <td>The Picture of Dorian Gray (Bantam Classics)</td>\n",
       "      <td>OSCAR WILDE</td>\n",
       "      <td>b0553212540</td>\n",
       "      <td>1982</td>\n",
       "      <td>http://images.amazon.com/images/P/0553212540.0...</td>\n",
       "    </tr>\n",
       "    <tr>\n",
       "      <th>209728</th>\n",
       "      <td>The Picture of Dorian Gray (Dover Thrift Editi...</td>\n",
       "      <td>Oscar Wilde</td>\n",
       "      <td>b0486278077</td>\n",
       "      <td>1993</td>\n",
       "      <td>http://images.amazon.com/images/P/0486278077.0...</td>\n",
       "    </tr>\n",
       "    <tr>\n",
       "      <th>209731</th>\n",
       "      <td>The Picture of Dorian Gray (Modern Library (Pa...</td>\n",
       "      <td>OSCAR WILDE</td>\n",
       "      <td>b0375751513</td>\n",
       "      <td>1998</td>\n",
       "      <td>http://images.amazon.com/images/P/0375751513.0...</td>\n",
       "    </tr>\n",
       "    <tr>\n",
       "      <th>209734</th>\n",
       "      <td>The Picture of Dorian Gray (Penguin Classic)</td>\n",
       "      <td>Oscar Wilde</td>\n",
       "      <td>b014043187X</td>\n",
       "      <td>1985</td>\n",
       "      <td>http://images.amazon.com/images/P/014043187X.0...</td>\n",
       "    </tr>\n",
       "  </tbody>\n",
       "</table>\n",
       "</div>"
      ],
      "text/plain": [
       "                                               Book-Title  Book-Author  \\\n",
       "109090                         Le portrait de Dorian Gray  Oscar Wilde   \n",
       "145420                             Picture of Dorian Gray  Oscar Wilde   \n",
       "145423       Picture of Dorian Gray (Wordsworth Classics)  Oscar Wilde   \n",
       "209725                         The Picture of Dorian Gray  Oscar Wilde   \n",
       "209726       The Picture of Dorian Gray (Bantam Classics)  OSCAR WILDE   \n",
       "209728  The Picture of Dorian Gray (Dover Thrift Editi...  Oscar Wilde   \n",
       "209731  The Picture of Dorian Gray (Modern Library (Pa...  OSCAR WILDE   \n",
       "209734       The Picture of Dorian Gray (Penguin Classic)  Oscar Wilde   \n",
       "\n",
       "               ISBN  Year-Of-Publication  \\\n",
       "109090  b2253002887                 1972   \n",
       "145420  b0140620338                    0   \n",
       "145423  b1853260150                 1997   \n",
       "209725  b1593080255                 1983   \n",
       "209726  b0553212540                 1982   \n",
       "209728  b0486278077                 1993   \n",
       "209731  b0375751513                 1998   \n",
       "209734  b014043187X                 1985   \n",
       "\n",
       "                                              Image-URL-M  \n",
       "109090  http://images.amazon.com/images/P/2253002887.0...  \n",
       "145420  http://images.amazon.com/images/P/0140620338.0...  \n",
       "145423  http://images.amazon.com/images/P/1853260150.0...  \n",
       "209725  http://images.amazon.com/images/P/1593080255.0...  \n",
       "209726  http://images.amazon.com/images/P/0553212540.0...  \n",
       "209728  http://images.amazon.com/images/P/0486278077.0...  \n",
       "209731  http://images.amazon.com/images/P/0375751513.0...  \n",
       "209734  http://images.amazon.com/images/P/014043187X.0...  "
      ]
     },
     "execution_count": 15,
     "metadata": {},
     "output_type": "execute_result"
    }
   ],
   "source": [
    "books_df[books_df['Book-Title'].str.contains('Dorian')]"
   ]
  },
  {
   "cell_type": "code",
   "execution_count": null,
   "id": "e8942cda",
   "metadata": {},
   "outputs": [],
   "source": []
  },
  {
   "cell_type": "code",
   "execution_count": 63,
   "id": "38f0e472",
   "metadata": {},
   "outputs": [
    {
     "data": {
      "text/plain": [
       "array([5916, 8348, 9386], dtype=int64)"
      ]
     },
     "execution_count": 63,
     "metadata": {},
     "output_type": "execute_result"
    }
   ],
   "source": [
    "book_isbn = ['b0802130119', 'b0553211757', 'b1853260150']\n",
    "\n",
    "book_id = np.where(np.isin(cols,book_isbn))[0]\n",
    "book_id"
   ]
  },
  {
   "cell_type": "code",
   "execution_count": 342,
   "id": "8199ef7a",
   "metadata": {},
   "outputs": [],
   "source": [
    "a = sim[book_id].toarray()"
   ]
  },
  {
   "cell_type": "code",
   "execution_count": 343,
   "id": "317fd624",
   "metadata": {},
   "outputs": [],
   "source": [
    "recs = a.argsort()[0][-20:]"
   ]
  },
  {
   "cell_type": "code",
   "execution_count": 344,
   "id": "5d64a204",
   "metadata": {},
   "outputs": [
    {
     "data": {
      "text/plain": [
       "array(['b0061099155', 'b0375708278', 'b0385486804', 'b0385494785',\n",
       "       'b006103004X', 'b0345435796', 'b1400032806', 'b0688171877',\n",
       "       'b0553266055', 'b039304016X', 'b0385489129', 'b0743203178',\n",
       "       'b0142002267', 'b0151001006', 'b0140280553', 'b0618002235',\n",
       "       'b0618002227', 'b0345417623', 'b0345436911', 'b0393307050'],\n",
       "      dtype=object)"
      ]
     },
     "execution_count": 344,
     "metadata": {},
     "output_type": "execute_result"
    }
   ],
   "source": [
    "recs = cols[recs]\n",
    "recs"
   ]
  },
  {
   "cell_type": "code",
   "execution_count": 345,
   "id": "1aaf6aff",
   "metadata": {},
   "outputs": [
    {
     "data": {
      "text/html": [
       "<div>\n",
       "<style scoped>\n",
       "    .dataframe tbody tr th:only-of-type {\n",
       "        vertical-align: middle;\n",
       "    }\n",
       "\n",
       "    .dataframe tbody tr th {\n",
       "        vertical-align: top;\n",
       "    }\n",
       "\n",
       "    .dataframe thead th {\n",
       "        text-align: right;\n",
       "    }\n",
       "</style>\n",
       "<table border=\"1\" class=\"dataframe\">\n",
       "  <thead>\n",
       "    <tr style=\"text-align: right;\">\n",
       "      <th></th>\n",
       "      <th>Book-Title</th>\n",
       "      <th>Book-Author</th>\n",
       "      <th>ISBN</th>\n",
       "      <th>Year-Of-Publication</th>\n",
       "      <th>Image-URL-M</th>\n",
       "    </tr>\n",
       "  </thead>\n",
       "  <tbody>\n",
       "    <tr>\n",
       "      <th>10555</th>\n",
       "      <td>Ahab's Wife: Or, The Star-Gazer</td>\n",
       "      <td>Sena Jeter Naslund</td>\n",
       "      <td>b0688171877</td>\n",
       "      <td>1999</td>\n",
       "      <td>http://images.amazon.com/images/P/0688171877.0...</td>\n",
       "    </tr>\n",
       "    <tr>\n",
       "      <th>11670</th>\n",
       "      <td>All Things Wise and Wonderful</td>\n",
       "      <td>James Herriot</td>\n",
       "      <td>b0553266055</td>\n",
       "      <td>0</td>\n",
       "      <td>http://images.amazon.com/images/P/0553266055.0...</td>\n",
       "    </tr>\n",
       "    <tr>\n",
       "      <th>25927</th>\n",
       "      <td>Blind Man's Bluff: The Untold Story of America...</td>\n",
       "      <td>Sherry Sontag</td>\n",
       "      <td>b006103004X</td>\n",
       "      <td>1998</td>\n",
       "      <td>http://images.amazon.com/images/P/006103004X.0...</td>\n",
       "    </tr>\n",
       "    <tr>\n",
       "      <th>75147</th>\n",
       "      <td>Galileo's Daughter: A Historical Memoir of Sci...</td>\n",
       "      <td>Dava Sobel</td>\n",
       "      <td>b0140280553</td>\n",
       "      <td>1999</td>\n",
       "      <td>http://images.amazon.com/images/P/0140280553.0...</td>\n",
       "    </tr>\n",
       "    <tr>\n",
       "      <th>96788</th>\n",
       "      <td>Into Thin Air : A Personal Account of the Mt. ...</td>\n",
       "      <td>JON KRAKAUER</td>\n",
       "      <td>b0385494785</td>\n",
       "      <td>1998</td>\n",
       "      <td>http://images.amazon.com/images/P/0385494785.0...</td>\n",
       "    </tr>\n",
       "    <tr>\n",
       "      <th>96873</th>\n",
       "      <td>Into the Wild</td>\n",
       "      <td>Jon Krakauer</td>\n",
       "      <td>b0385486804</td>\n",
       "      <td>1996</td>\n",
       "      <td>http://images.amazon.com/images/P/0385486804.0...</td>\n",
       "    </tr>\n",
       "    <tr>\n",
       "      <th>97740</th>\n",
       "      <td>Isaac's Storm: A Man, a Time, and the Deadlies...</td>\n",
       "      <td>Erik Larson</td>\n",
       "      <td>b0375708278</td>\n",
       "      <td>2000</td>\n",
       "      <td>http://images.amazon.com/images/P/0375708278.0...</td>\n",
       "    </tr>\n",
       "    <tr>\n",
       "      <th>121725</th>\n",
       "      <td>Master and Commander (Aubrey-Maturin (Paperback))</td>\n",
       "      <td>Patrick O'Brian</td>\n",
       "      <td>b0393307050</td>\n",
       "      <td>1990</td>\n",
       "      <td>http://images.amazon.com/images/P/0393307050.0...</td>\n",
       "    </tr>\n",
       "    <tr>\n",
       "      <th>130732</th>\n",
       "      <td>My Losing Season (Alex Awards (Awards))</td>\n",
       "      <td>Pat Conroy</td>\n",
       "      <td>b0385489129</td>\n",
       "      <td>2002</td>\n",
       "      <td>http://images.amazon.com/images/P/0385489129.0...</td>\n",
       "    </tr>\n",
       "    <tr>\n",
       "      <th>136228</th>\n",
       "      <td>Nothing Like It In the World : The Men Who Bui...</td>\n",
       "      <td>Stephen E. Ambrose</td>\n",
       "      <td>b0743203178</td>\n",
       "      <td>2001</td>\n",
       "      <td>http://images.amazon.com/images/P/0743203178.0...</td>\n",
       "    </tr>\n",
       "    <tr>\n",
       "      <th>144117</th>\n",
       "      <td>People of Darkness (Jim Chee Novels)</td>\n",
       "      <td>Tony Hillerman</td>\n",
       "      <td>b0061099155</td>\n",
       "      <td>1991</td>\n",
       "      <td>http://images.amazon.com/images/P/0061099155.0...</td>\n",
       "    </tr>\n",
       "    <tr>\n",
       "      <th>168862</th>\n",
       "      <td>Snow Falling on Cedars</td>\n",
       "      <td>David Guterson</td>\n",
       "      <td>b0151001006</td>\n",
       "      <td>1994</td>\n",
       "      <td>http://images.amazon.com/images/P/0151001006.0...</td>\n",
       "    </tr>\n",
       "    <tr>\n",
       "      <th>192432</th>\n",
       "      <td>The Dress Lodger (Ballantine Reader's Circle)</td>\n",
       "      <td>Sheri Holman</td>\n",
       "      <td>b0345436911</td>\n",
       "      <td>2001</td>\n",
       "      <td>http://images.amazon.com/images/P/0345436911.0...</td>\n",
       "    </tr>\n",
       "    <tr>\n",
       "      <th>194427</th>\n",
       "      <td>The Fellowship of the Ring (The Lord of the Ri...</td>\n",
       "      <td>J. R. R. Tolkien</td>\n",
       "      <td>b0618002227</td>\n",
       "      <td>1988</td>\n",
       "      <td>http://images.amazon.com/images/P/0618002227.0...</td>\n",
       "    </tr>\n",
       "    <tr>\n",
       "      <th>194823</th>\n",
       "      <td>The First Horseman</td>\n",
       "      <td>John Case</td>\n",
       "      <td>b0345435796</td>\n",
       "      <td>1998</td>\n",
       "      <td>http://images.amazon.com/images/P/0345435796.0...</td>\n",
       "    </tr>\n",
       "    <tr>\n",
       "      <th>209480</th>\n",
       "      <td>The Perfect Storm: A True Story of Men Against...</td>\n",
       "      <td>Sebastian Junger</td>\n",
       "      <td>b039304016X</td>\n",
       "      <td>1997</td>\n",
       "      <td>http://images.amazon.com/images/P/039304016X.0...</td>\n",
       "    </tr>\n",
       "    <tr>\n",
       "      <th>219299</th>\n",
       "      <td>The Two Towers (The Lord of the Rings, Part 2)</td>\n",
       "      <td>J. R. R. Tolkien</td>\n",
       "      <td>b0618002235</td>\n",
       "      <td>1988</td>\n",
       "      <td>http://images.amazon.com/images/P/0618002235.0...</td>\n",
       "    </tr>\n",
       "    <tr>\n",
       "      <th>227504</th>\n",
       "      <td>Timeline</td>\n",
       "      <td>MICHAEL CRICHTON</td>\n",
       "      <td>b0345417623</td>\n",
       "      <td>2000</td>\n",
       "      <td>http://images.amazon.com/images/P/0345417623.0...</td>\n",
       "    </tr>\n",
       "    <tr>\n",
       "      <th>233358</th>\n",
       "      <td>Under the Banner of Heaven : A Story of Violen...</td>\n",
       "      <td>JON KRAKAUER</td>\n",
       "      <td>b1400032806</td>\n",
       "      <td>2003</td>\n",
       "      <td>http://images.amazon.com/images/P/1400032806.0...</td>\n",
       "    </tr>\n",
       "    <tr>\n",
       "      <th>246531</th>\n",
       "      <td>Word Freak: Heartbreak, Triumph, Genius, and O...</td>\n",
       "      <td>Stefan Fatsis</td>\n",
       "      <td>b0142002267</td>\n",
       "      <td>2001</td>\n",
       "      <td>http://images.amazon.com/images/P/0142002267.0...</td>\n",
       "    </tr>\n",
       "  </tbody>\n",
       "</table>\n",
       "</div>"
      ],
      "text/plain": [
       "                                               Book-Title         Book-Author  \\\n",
       "10555                     Ahab's Wife: Or, The Star-Gazer  Sena Jeter Naslund   \n",
       "11670                       All Things Wise and Wonderful       James Herriot   \n",
       "25927   Blind Man's Bluff: The Untold Story of America...       Sherry Sontag   \n",
       "75147   Galileo's Daughter: A Historical Memoir of Sci...          Dava Sobel   \n",
       "96788   Into Thin Air : A Personal Account of the Mt. ...        JON KRAKAUER   \n",
       "96873                                       Into the Wild        Jon Krakauer   \n",
       "97740   Isaac's Storm: A Man, a Time, and the Deadlies...         Erik Larson   \n",
       "121725  Master and Commander (Aubrey-Maturin (Paperback))     Patrick O'Brian   \n",
       "130732            My Losing Season (Alex Awards (Awards))          Pat Conroy   \n",
       "136228  Nothing Like It In the World : The Men Who Bui...  Stephen E. Ambrose   \n",
       "144117               People of Darkness (Jim Chee Novels)      Tony Hillerman   \n",
       "168862                             Snow Falling on Cedars      David Guterson   \n",
       "192432      The Dress Lodger (Ballantine Reader's Circle)        Sheri Holman   \n",
       "194427  The Fellowship of the Ring (The Lord of the Ri...    J. R. R. Tolkien   \n",
       "194823                                 The First Horseman           John Case   \n",
       "209480  The Perfect Storm: A True Story of Men Against...    Sebastian Junger   \n",
       "219299     The Two Towers (The Lord of the Rings, Part 2)    J. R. R. Tolkien   \n",
       "227504                                           Timeline    MICHAEL CRICHTON   \n",
       "233358  Under the Banner of Heaven : A Story of Violen...        JON KRAKAUER   \n",
       "246531  Word Freak: Heartbreak, Triumph, Genius, and O...       Stefan Fatsis   \n",
       "\n",
       "               ISBN  Year-Of-Publication  \\\n",
       "10555   b0688171877                 1999   \n",
       "11670   b0553266055                    0   \n",
       "25927   b006103004X                 1998   \n",
       "75147   b0140280553                 1999   \n",
       "96788   b0385494785                 1998   \n",
       "96873   b0385486804                 1996   \n",
       "97740   b0375708278                 2000   \n",
       "121725  b0393307050                 1990   \n",
       "130732  b0385489129                 2002   \n",
       "136228  b0743203178                 2001   \n",
       "144117  b0061099155                 1991   \n",
       "168862  b0151001006                 1994   \n",
       "192432  b0345436911                 2001   \n",
       "194427  b0618002227                 1988   \n",
       "194823  b0345435796                 1998   \n",
       "209480  b039304016X                 1997   \n",
       "219299  b0618002235                 1988   \n",
       "227504  b0345417623                 2000   \n",
       "233358  b1400032806                 2003   \n",
       "246531  b0142002267                 2001   \n",
       "\n",
       "                                              Image-URL-M  \n",
       "10555   http://images.amazon.com/images/P/0688171877.0...  \n",
       "11670   http://images.amazon.com/images/P/0553266055.0...  \n",
       "25927   http://images.amazon.com/images/P/006103004X.0...  \n",
       "75147   http://images.amazon.com/images/P/0140280553.0...  \n",
       "96788   http://images.amazon.com/images/P/0385494785.0...  \n",
       "96873   http://images.amazon.com/images/P/0385486804.0...  \n",
       "97740   http://images.amazon.com/images/P/0375708278.0...  \n",
       "121725  http://images.amazon.com/images/P/0393307050.0...  \n",
       "130732  http://images.amazon.com/images/P/0385489129.0...  \n",
       "136228  http://images.amazon.com/images/P/0743203178.0...  \n",
       "144117  http://images.amazon.com/images/P/0061099155.0...  \n",
       "168862  http://images.amazon.com/images/P/0151001006.0...  \n",
       "192432  http://images.amazon.com/images/P/0345436911.0...  \n",
       "194427  http://images.amazon.com/images/P/0618002227.0...  \n",
       "194823  http://images.amazon.com/images/P/0345435796.0...  \n",
       "209480  http://images.amazon.com/images/P/039304016X.0...  \n",
       "219299  http://images.amazon.com/images/P/0618002235.0...  \n",
       "227504  http://images.amazon.com/images/P/0345417623.0...  \n",
       "233358  http://images.amazon.com/images/P/1400032806.0...  \n",
       "246531  http://images.amazon.com/images/P/0142002267.0...  "
      ]
     },
     "execution_count": 345,
     "metadata": {},
     "output_type": "execute_result"
    }
   ],
   "source": [
    "books_df[books_df['ISBN'].isin(recs)]"
   ]
  },
  {
   "cell_type": "code",
   "execution_count": null,
   "id": "a41521ed",
   "metadata": {},
   "outputs": [],
   "source": []
  },
  {
   "cell_type": "code",
   "execution_count": 323,
   "id": "0fd3d3d2",
   "metadata": {},
   "outputs": [],
   "source": [
    "book_id = [8348, 579, 445, 875]"
   ]
  },
  {
   "cell_type": "code",
   "execution_count": 373,
   "id": "fed316ca",
   "metadata": {},
   "outputs": [],
   "source": [
    "a = np.array(sim[book_id].sum(axis=0))"
   ]
  },
  {
   "cell_type": "code",
   "execution_count": 377,
   "id": "e4723143",
   "metadata": {},
   "outputs": [
    {
     "data": {
      "text/plain": [
       "[0.2175628337591385,\n",
       " 0.2334142099946892,\n",
       " 0.2608695652173913,\n",
       " 0.26118459829586455,\n",
       " 0.27639086259242884,\n",
       " 0.2861643329692475,\n",
       " 0.3038208337718157,\n",
       " 0.3337833805882951,\n",
       " 0.33405340894127217,\n",
       " 0.49438767541180056,\n",
       " 0.495575221238938,\n",
       " 0.4970017713928928,\n",
       " 0.4999999999999999,\n",
       " 0.5013613279534618,\n",
       " 0.5040160411276088,\n",
       " 0.5043529258691772,\n",
       " 0.5160671781734036,\n",
       " 1.4976203163043833,\n",
       " 2.0285944218812055,\n",
       " 5.870760869792546]"
      ]
     },
     "execution_count": 377,
     "metadata": {},
     "output_type": "execute_result"
    }
   ],
   "source": [
    "sorted(a[0])[-20:]"
   ]
  },
  {
   "cell_type": "code",
   "execution_count": null,
   "id": "436979ba",
   "metadata": {},
   "outputs": [],
   "source": []
  },
  {
   "cell_type": "code",
   "execution_count": 378,
   "id": "47c084af",
   "metadata": {},
   "outputs": [
    {
     "data": {
      "text/plain": [
       "array([   0, 5917, 5916, ..., 3165, 3146, 8348], dtype=int64)"
      ]
     },
     "execution_count": 378,
     "metadata": {},
     "output_type": "execute_result"
    }
   ],
   "source": [
    "a.argsort()[0]"
   ]
  },
  {
   "cell_type": "code",
   "execution_count": 326,
   "id": "57bc1a0b",
   "metadata": {},
   "outputs": [],
   "source": [
    "recs = a.argsort()[0][-20:]"
   ]
  },
  {
   "cell_type": "code",
   "execution_count": 327,
   "id": "b07cc28c",
   "metadata": {},
   "outputs": [
    {
     "data": {
      "text/plain": [
       "array([1495,  545, 7112, 8837, 2719,  893,  981, 3085, 7418, 5426, 2734,\n",
       "       1677, 6478, 5411, 4252,  316,  579,  875,  445, 8348], dtype=int64)"
      ]
     },
     "execution_count": 327,
     "metadata": {},
     "output_type": "execute_result"
    }
   ],
   "source": [
    "recs"
   ]
  },
  {
   "cell_type": "code",
   "execution_count": 328,
   "id": "a486f4fb",
   "metadata": {},
   "outputs": [
    {
     "data": {
      "text/plain": [
       "array(['b0330332775', 'b0061097357', 'b0671617028', 'b0877017883',\n",
       "       'b0380789035', 'b0140430725', 'b0142001805', 'b0385494785',\n",
       "       'b0671880187', 'b0452282152', 'b0380791994', 'b0345348036',\n",
       "       'b0553579312', 'b0452280621', 'b0441003257', 'b0060955775',\n",
       "       'b0062513982', 'b0140366784', 'b0061044431', 'b0802130119'],\n",
       "      dtype=object)"
      ]
     },
     "execution_count": 328,
     "metadata": {},
     "output_type": "execute_result"
    }
   ],
   "source": [
    "recs = cols[recs]\n",
    "recs"
   ]
  },
  {
   "cell_type": "code",
   "execution_count": 329,
   "id": "b141a8e8",
   "metadata": {},
   "outputs": [
    {
     "data": {
      "text/html": [
       "<div>\n",
       "<style scoped>\n",
       "    .dataframe tbody tr th:only-of-type {\n",
       "        vertical-align: middle;\n",
       "    }\n",
       "\n",
       "    .dataframe tbody tr th {\n",
       "        vertical-align: top;\n",
       "    }\n",
       "\n",
       "    .dataframe thead th {\n",
       "        text-align: right;\n",
       "    }\n",
       "</style>\n",
       "<table border=\"1\" class=\"dataframe\">\n",
       "  <thead>\n",
       "    <tr style=\"text-align: right;\">\n",
       "      <th></th>\n",
       "      <th>Book-Title</th>\n",
       "      <th>Book-Author</th>\n",
       "      <th>ISBN</th>\n",
       "      <th>Year-Of-Publication</th>\n",
       "      <th>Image-URL-M</th>\n",
       "    </tr>\n",
       "  </thead>\n",
       "  <tbody>\n",
       "    <tr>\n",
       "      <th>13015</th>\n",
       "      <td>American Gods</td>\n",
       "      <td>Neil Gaiman</td>\n",
       "      <td>b0380789035</td>\n",
       "      <td>2001</td>\n",
       "      <td>http://images.amazon.com/images/P/0380789035.0...</td>\n",
       "    </tr>\n",
       "    <tr>\n",
       "      <th>22552</th>\n",
       "      <td>Beloved</td>\n",
       "      <td>Toni Morrison</td>\n",
       "      <td>b0452280621</td>\n",
       "      <td>0</td>\n",
       "      <td>http://images.amazon.com/images/P/0452280621.0...</td>\n",
       "    </tr>\n",
       "    <tr>\n",
       "      <th>28916</th>\n",
       "      <td>Bridget Jones's Diary</td>\n",
       "      <td>Helen Fielding</td>\n",
       "      <td>b0330332775</td>\n",
       "      <td>1996</td>\n",
       "      <td>http://images.amazon.com/images/P/0330332775.0...</td>\n",
       "    </tr>\n",
       "    <tr>\n",
       "      <th>30598</th>\n",
       "      <td>By the River Piedra I Sat Down and Wept</td>\n",
       "      <td>Paulo Coelho</td>\n",
       "      <td>b0062513982</td>\n",
       "      <td>1996</td>\n",
       "      <td>http://images.amazon.com/images/P/0062513982.0...</td>\n",
       "    </tr>\n",
       "    <tr>\n",
       "      <th>57473</th>\n",
       "      <td>Dreaming of the Bones</td>\n",
       "      <td>Deborah Crombie</td>\n",
       "      <td>b0553579312</td>\n",
       "      <td>1998</td>\n",
       "      <td>http://images.amazon.com/images/P/0553579312.0...</td>\n",
       "    </tr>\n",
       "    <tr>\n",
       "      <th>77553</th>\n",
       "      <td>Girl with a Pearl Earring</td>\n",
       "      <td>Tracy Chevalier</td>\n",
       "      <td>b0452282152</td>\n",
       "      <td>2001</td>\n",
       "      <td>http://images.amazon.com/images/P/0452282152.0...</td>\n",
       "    </tr>\n",
       "    <tr>\n",
       "      <th>79153</th>\n",
       "      <td>Good Omens</td>\n",
       "      <td>Neil Gaiman</td>\n",
       "      <td>b0441003257</td>\n",
       "      <td>1996</td>\n",
       "      <td>http://images.amazon.com/images/P/0441003257.0...</td>\n",
       "    </tr>\n",
       "    <tr>\n",
       "      <th>80729</th>\n",
       "      <td>Griffin &amp;amp; Sabine: An Extraordinary Corresp...</td>\n",
       "      <td>Nick Bantock</td>\n",
       "      <td>b0877017883</td>\n",
       "      <td>1991</td>\n",
       "      <td>http://images.amazon.com/images/P/0877017883.0...</td>\n",
       "    </tr>\n",
       "    <tr>\n",
       "      <th>96788</th>\n",
       "      <td>Into Thin Air : A Personal Account of the Mt. ...</td>\n",
       "      <td>JON KRAKAUER</td>\n",
       "      <td>b0385494785</td>\n",
       "      <td>1998</td>\n",
       "      <td>http://images.amazon.com/images/P/0385494785.0...</td>\n",
       "    </tr>\n",
       "    <tr>\n",
       "      <th>99143</th>\n",
       "      <td>Jane Eyre (Puffin Classics)</td>\n",
       "      <td>Charlotte Bronte</td>\n",
       "      <td>b0140366784</td>\n",
       "      <td>1991</td>\n",
       "      <td>http://images.amazon.com/images/P/0140366784.0...</td>\n",
       "    </tr>\n",
       "    <tr>\n",
       "      <th>103741</th>\n",
       "      <td>Kitchen</td>\n",
       "      <td>Banana Yoshimoto</td>\n",
       "      <td>b0671880187</td>\n",
       "      <td>1993</td>\n",
       "      <td>http://images.amazon.com/images/P/0671880187.0...</td>\n",
       "    </tr>\n",
       "    <tr>\n",
       "      <th>148795</th>\n",
       "      <td>Pride and Prejudice (The Penguin English Libra...</td>\n",
       "      <td>Jane Austen</td>\n",
       "      <td>b0140430725</td>\n",
       "      <td>1985</td>\n",
       "      <td>http://images.amazon.com/images/P/0140430725.0...</td>\n",
       "    </tr>\n",
       "    <tr>\n",
       "      <th>167117</th>\n",
       "      <td>Singer from the Sea</td>\n",
       "      <td>Sheri S. Tepper</td>\n",
       "      <td>b0380791994</td>\n",
       "      <td>1999</td>\n",
       "      <td>http://images.amazon.com/images/P/0380791994.0...</td>\n",
       "    </tr>\n",
       "    <tr>\n",
       "      <th>188570</th>\n",
       "      <td>The Color Purple</td>\n",
       "      <td>Alice Walker</td>\n",
       "      <td>b0671617028</td>\n",
       "      <td>1982</td>\n",
       "      <td>http://images.amazon.com/images/P/0671617028.0...</td>\n",
       "    </tr>\n",
       "    <tr>\n",
       "      <th>193898</th>\n",
       "      <td>The Eyre Affair</td>\n",
       "      <td>Jasper Fforde</td>\n",
       "      <td>b0142001805</td>\n",
       "      <td>2003</td>\n",
       "      <td>http://images.amazon.com/images/P/0142001805.0...</td>\n",
       "    </tr>\n",
       "    <tr>\n",
       "      <th>195046</th>\n",
       "      <td>The Floating Girl</td>\n",
       "      <td>Sujata Massey</td>\n",
       "      <td>b0061097357</td>\n",
       "      <td>2000</td>\n",
       "      <td>http://images.amazon.com/images/P/0061097357.0...</td>\n",
       "    </tr>\n",
       "    <tr>\n",
       "      <th>204880</th>\n",
       "      <td>The Master and Margarita</td>\n",
       "      <td>Mikhail Bulgakov</td>\n",
       "      <td>b0802130119</td>\n",
       "      <td>1987</td>\n",
       "      <td>http://images.amazon.com/images/P/0802130119.0...</td>\n",
       "    </tr>\n",
       "    <tr>\n",
       "      <th>210805</th>\n",
       "      <td>The Princess Bride: S Morgenstern's Classic Ta...</td>\n",
       "      <td>WILLIAM GOLDMAN</td>\n",
       "      <td>b0345348036</td>\n",
       "      <td>1987</td>\n",
       "      <td>http://images.amazon.com/images/P/0345348036.0...</td>\n",
       "    </tr>\n",
       "    <tr>\n",
       "      <th>213478</th>\n",
       "      <td>The Salaryman's Wife (Children of Violence Ser...</td>\n",
       "      <td>Sujata Massey</td>\n",
       "      <td>b0061044431</td>\n",
       "      <td>2000</td>\n",
       "      <td>http://images.amazon.com/images/P/0061044431.0...</td>\n",
       "    </tr>\n",
       "    <tr>\n",
       "      <th>235690</th>\n",
       "      <td>Veronika Decides to Die</td>\n",
       "      <td>Paulo Coelho</td>\n",
       "      <td>b0060955775</td>\n",
       "      <td>2000</td>\n",
       "      <td>http://images.amazon.com/images/P/0060955775.0...</td>\n",
       "    </tr>\n",
       "  </tbody>\n",
       "</table>\n",
       "</div>"
      ],
      "text/plain": [
       "                                               Book-Title       Book-Author  \\\n",
       "13015                                       American Gods       Neil Gaiman   \n",
       "22552                                             Beloved     Toni Morrison   \n",
       "28916                               Bridget Jones's Diary    Helen Fielding   \n",
       "30598             By the River Piedra I Sat Down and Wept      Paulo Coelho   \n",
       "57473                               Dreaming of the Bones   Deborah Crombie   \n",
       "77553                           Girl with a Pearl Earring   Tracy Chevalier   \n",
       "79153                                          Good Omens       Neil Gaiman   \n",
       "80729   Griffin &amp; Sabine: An Extraordinary Corresp...      Nick Bantock   \n",
       "96788   Into Thin Air : A Personal Account of the Mt. ...      JON KRAKAUER   \n",
       "99143                         Jane Eyre (Puffin Classics)  Charlotte Bronte   \n",
       "103741                                            Kitchen  Banana Yoshimoto   \n",
       "148795  Pride and Prejudice (The Penguin English Libra...       Jane Austen   \n",
       "167117                                Singer from the Sea   Sheri S. Tepper   \n",
       "188570                                   The Color Purple      Alice Walker   \n",
       "193898                                    The Eyre Affair     Jasper Fforde   \n",
       "195046                                  The Floating Girl     Sujata Massey   \n",
       "204880                           The Master and Margarita  Mikhail Bulgakov   \n",
       "210805  The Princess Bride: S Morgenstern's Classic Ta...   WILLIAM GOLDMAN   \n",
       "213478  The Salaryman's Wife (Children of Violence Ser...     Sujata Massey   \n",
       "235690                            Veronika Decides to Die      Paulo Coelho   \n",
       "\n",
       "               ISBN  Year-Of-Publication  \\\n",
       "13015   b0380789035                 2001   \n",
       "22552   b0452280621                    0   \n",
       "28916   b0330332775                 1996   \n",
       "30598   b0062513982                 1996   \n",
       "57473   b0553579312                 1998   \n",
       "77553   b0452282152                 2001   \n",
       "79153   b0441003257                 1996   \n",
       "80729   b0877017883                 1991   \n",
       "96788   b0385494785                 1998   \n",
       "99143   b0140366784                 1991   \n",
       "103741  b0671880187                 1993   \n",
       "148795  b0140430725                 1985   \n",
       "167117  b0380791994                 1999   \n",
       "188570  b0671617028                 1982   \n",
       "193898  b0142001805                 2003   \n",
       "195046  b0061097357                 2000   \n",
       "204880  b0802130119                 1987   \n",
       "210805  b0345348036                 1987   \n",
       "213478  b0061044431                 2000   \n",
       "235690  b0060955775                 2000   \n",
       "\n",
       "                                              Image-URL-M  \n",
       "13015   http://images.amazon.com/images/P/0380789035.0...  \n",
       "22552   http://images.amazon.com/images/P/0452280621.0...  \n",
       "28916   http://images.amazon.com/images/P/0330332775.0...  \n",
       "30598   http://images.amazon.com/images/P/0062513982.0...  \n",
       "57473   http://images.amazon.com/images/P/0553579312.0...  \n",
       "77553   http://images.amazon.com/images/P/0452282152.0...  \n",
       "79153   http://images.amazon.com/images/P/0441003257.0...  \n",
       "80729   http://images.amazon.com/images/P/0877017883.0...  \n",
       "96788   http://images.amazon.com/images/P/0385494785.0...  \n",
       "99143   http://images.amazon.com/images/P/0140366784.0...  \n",
       "103741  http://images.amazon.com/images/P/0671880187.0...  \n",
       "148795  http://images.amazon.com/images/P/0140430725.0...  \n",
       "167117  http://images.amazon.com/images/P/0380791994.0...  \n",
       "188570  http://images.amazon.com/images/P/0671617028.0...  \n",
       "193898  http://images.amazon.com/images/P/0142001805.0...  \n",
       "195046  http://images.amazon.com/images/P/0061097357.0...  \n",
       "204880  http://images.amazon.com/images/P/0802130119.0...  \n",
       "210805  http://images.amazon.com/images/P/0345348036.0...  \n",
       "213478  http://images.amazon.com/images/P/0061044431.0...  \n",
       "235690  http://images.amazon.com/images/P/0060955775.0...  "
      ]
     },
     "execution_count": 329,
     "metadata": {},
     "output_type": "execute_result"
    }
   ],
   "source": [
    "books_df[books_df['ISBN'].isin(recs)]"
   ]
  },
  {
   "cell_type": "code",
   "execution_count": 10,
   "id": "2591a9c0",
   "metadata": {},
   "outputs": [],
   "source": [
    "class CosineDistanceRecommender:\n",
    "    def __init__(self):\n",
    "        pass\n",
    "    \n",
    "    def fit(self, interactions_data):\n",
    "        self.rows, r_pos = np.unique(interactions_data['user'].values, return_inverse=True)\n",
    "        self.cols, c_pos = np.unique(interactions_data['item'].values, return_inverse=True)\n",
    "        \n",
    "        sparse_interactions = sparse.csc_matrix((df_books_rating.values[:, 2].astype(int), (r_pos, c_pos)))\n",
    "        \n",
    "        Pui = normalize(sparse_interactions, norm='l2', axis=1)\n",
    "        \n",
    "        self.simularity = Pui.T * Pui\n",
    "        \n",
    "    def recommend(self, user_history, n_to_recommend, mode='probabilistic'):\n",
    "        book_id = np.where(np.isin(self.cols, user_history))[0]\n",
    "        a = np.array(self.simularity[book_id].sum(axis=0))\n",
    "        if mode == 'probabilistic':\n",
    "            recs = np.random.choice(cols, p=(a[0]/a.sum()), size=n_to_recommend+len(book_id), replace=False)\n",
    "        elif mode == 'deterministic':\n",
    "            recs = a.argsort()[0][-(n_to_recommend+len(book_id)):]\n",
    "            recs = self.cols[recs]\n",
    "        recs = recs[~np.isin(recs, user_history)][-n_to_recommend:]\n",
    "        return recs[::-1], a"
   ]
  },
  {
   "cell_type": "code",
   "execution_count": 11,
   "id": "be9d1fb0",
   "metadata": {},
   "outputs": [],
   "source": [
    "recomender = CosineDistanceRecommender()"
   ]
  },
  {
   "cell_type": "code",
   "execution_count": 12,
   "id": "6ef50c44",
   "metadata": {},
   "outputs": [],
   "source": [
    "recomender.fit(df_books_rating.rename({'User-ID': 'user', 'ISBN': 'item'}, axis=1))"
   ]
  },
  {
   "cell_type": "code",
   "execution_count": 16,
   "id": "8c3ffd7c",
   "metadata": {},
   "outputs": [
    {
     "name": "stdout",
     "output_type": "stream",
     "text": [
      "Brave New World\n",
      "Good Omens\n",
      "Beloved\n",
      "The Princess Bride: S Morgenstern's Classic Tale of True Love and High Adventure\n",
      "A Pale View of Hills (Vintage International)\n",
      "Westing Game\n",
      "Into Thin Air : A Personal Account of the Mt. Everest Disaster\n",
      "Griffin &amp; Sabine: An Extraordinary Correspondence\n",
      "The Poisonwood Bible\n",
      "One Hundred Years of Solitude\n",
      "Naked\n",
      "American Gods\n",
      "Orlando: A Biography\n",
      "Rabbit at Rest\n",
      "A Clockwork Orange (Norton Paperback Fiction)\n",
      "Waiting: The True Confessions of a Waitress\n",
      "Persepolis : The Story of a Childhood (Alex Awards (Awards))\n",
      "Frankenstein (Dover Thrift Editions)\n",
      "Filth\n",
      "In the Beauty of the Lilies\n"
     ]
    }
   ],
   "source": [
    "recs, a = recomender.recommend(['b0802130119', 'b0553211757', 'b1853260150'], 20, mode='deterministic')\n",
    "for i in recs:\n",
    "    print(books_df[books_df['ISBN'] == i]['Book-Title'].item())"
   ]
  },
  {
   "cell_type": "code",
   "execution_count": 562,
   "id": "39933866",
   "metadata": {},
   "outputs": [
    {
     "data": {
      "text/plain": [
       "20.971"
      ]
     },
     "execution_count": 562,
     "metadata": {},
     "output_type": "execute_result"
    }
   ],
   "source": [
    "res = 0\n",
    "for _ in range(1000):\n",
    "    try:\n",
    "        res += np.where('b0374522928'==np.random.choice(cols, p=(a[0]/a.sum()), size=20))[0].item()\n",
    "    except ValueError: \n",
    "        res += 21\n",
    "res/1000"
   ]
  },
  {
   "cell_type": "code",
   "execution_count": 557,
   "id": "b9b76eba",
   "metadata": {},
   "outputs": [
    {
     "data": {
      "text/plain": [
       "array(['b0380730847', 'b0385491026', 'b0385334583', 'b0060987103',\n",
       "       'b0064407667', 'b0140088946', 'b0060199652', 'b0449219623',\n",
       "       'b3453007867', 'b0553579606', 'b0812566785', 'b0380807149',\n",
       "       'b1551669080', 'b031284879X', 'b0385494785', 'b0821764527',\n",
       "       'b0767902831', 'b0099521016', 'b0786866586', 'b0374522928'],\n",
       "      dtype=object)"
      ]
     },
     "execution_count": 557,
     "metadata": {},
     "output_type": "execute_result"
    }
   ],
   "source": [
    "recs"
   ]
  },
  {
   "cell_type": "code",
   "execution_count": 503,
   "id": "098b922a",
   "metadata": {},
   "outputs": [
    {
     "data": {
      "text/plain": [
       "array(['b0553279572', 'b0446605239', 'b0385483503', 'b0140274146',\n",
       "       'b1551666839', 'b0140444173', 'b0140449132', 'b0140620869',\n",
       "       'b0373825064', 'b0140449132', 'b0140449132', 'b0517618141',\n",
       "       'b0140043519', 'b1593080255', 'b0393312836', 'b0060977493',\n",
       "       'b1853260363', 'b0679745653', 'b0880389052', 'b0385721234',\n",
       "       'b0880389052', 'b0140043519', 'b0811807843'], dtype=object)"
      ]
     },
     "execution_count": 503,
     "metadata": {},
     "output_type": "execute_result"
    }
   ],
   "source": [
    "np.random.choice(cols, p=(a[0]/a.sum()), size=20+len(book_id))"
   ]
  },
  {
   "cell_type": "code",
   "execution_count": 504,
   "id": "490119a8",
   "metadata": {},
   "outputs": [
    {
     "data": {
      "text/plain": [
       "array([9242, 5758, 8860, 8859,  889,  834, 6573, 5952, 7051, 1697,  965,\n",
       "        760, 1148,  936, 8475, 6576, 3061, 6579,  713,  340, 7762, 9371,\n",
       "        920], dtype=int64)"
      ]
     },
     "execution_count": 504,
     "metadata": {},
     "output_type": "execute_result"
    }
   ],
   "source": [
    "a.argsort()[0][-(20+len(book_id)):]"
   ]
  },
  {
   "cell_type": "code",
   "execution_count": 180,
   "id": "94ecad83",
   "metadata": {},
   "outputs": [],
   "source": [
    "model_l = LightFM(loss='warp')"
   ]
  },
  {
   "cell_type": "code",
   "execution_count": 181,
   "id": "916355cf",
   "metadata": {},
   "outputs": [],
   "source": [
    "sparse_interactions = sparse.csc_matrix((df_books_rating.values[:, 2].astype(int), (r_pos, c_pos)), shape=(len(rows)+1, len(cols)))"
   ]
  },
  {
   "cell_type": "code",
   "execution_count": 182,
   "id": "5bfbdf5b",
   "metadata": {},
   "outputs": [
    {
     "name": "stdout",
     "output_type": "stream",
     "text": [
      "Epoch 0\n",
      "Epoch 1\n",
      "Epoch 2\n",
      "Epoch 3\n",
      "Epoch 4\n",
      "Epoch 5\n",
      "Epoch 6\n",
      "Epoch 7\n",
      "Epoch 8\n",
      "Epoch 9\n",
      "Epoch 10\n",
      "Epoch 11\n",
      "Epoch 12\n",
      "Epoch 13\n",
      "Epoch 14\n",
      "Epoch 15\n",
      "Epoch 16\n",
      "Epoch 17\n",
      "Epoch 18\n",
      "Epoch 19\n"
     ]
    }
   ],
   "source": [
    "a = model_l.fit(sparse_interactions, epochs=20, verbose=True)"
   ]
  },
  {
   "cell_type": "code",
   "execution_count": 191,
   "id": "07fbe942",
   "metadata": {},
   "outputs": [],
   "source": [
    "recs_l = model_l.predict([27498], [i for i in range(len(cols))]).argsort()[-20:][::-1]\n",
    "recs_l = cols[recs_l]"
   ]
  },
  {
   "cell_type": "code",
   "execution_count": 192,
   "id": "99044517",
   "metadata": {},
   "outputs": [
    {
     "name": "stdout",
     "output_type": "stream",
     "text": [
      "The Lovely Bones\n",
      "Wild Animus\n",
      "The Da Vinci Code\n",
      "Harry Potter and the Sorcerer's Stone (Harry Potter (Paperback))\n",
      "The Nanny Diaries\n",
      "Bridget Jones's Diary\n",
      "The Secret Life of Bees\n",
      "Divine Secrets of the Ya-Ya Sisterhood\n",
      "Angels &amp; Demons\n",
      "Life of Pi\n",
      "To Kill a Mockingbird\n",
      "Where the Heart Is (Oprah's Book Club (Paperback))\n",
      "Interview with the Vampire\n",
      "Harry Potter and the Chamber of Secrets (Book 2)\n",
      "Harry Potter and the Order of the Phoenix (Book 5)\n",
      "The Catcher in the Rye\n",
      "The Girls' Guide to Hunting and Fishing\n",
      "Snow Falling on Cedars\n",
      "The Bridges of Madison County\n",
      "The Summons\n"
     ]
    }
   ],
   "source": [
    "for i in recs_l:\n",
    "    print(books_df[books_df['ISBN'] == i]['Book-Title'].item())"
   ]
  },
  {
   "cell_type": "code",
   "execution_count": 193,
   "id": "3d16771f",
   "metadata": {},
   "outputs": [],
   "source": [
    "sp_row = sparse.coo_matrix(([5 for _ in book_id], ([0 for i in book_id], book_id)), shape=(1, sparse_interactions.shape[1]))"
   ]
  },
  {
   "cell_type": "code",
   "execution_count": 194,
   "id": "1881884a",
   "metadata": {},
   "outputs": [
    {
     "data": {
      "text/plain": [
       "0"
      ]
     },
     "execution_count": 194,
     "metadata": {},
     "output_type": "execute_result"
    }
   ],
   "source": [
    "sparse_interactions[-1].todense().sum()"
   ]
  },
  {
   "cell_type": "code",
   "execution_count": 195,
   "id": "f2ec40da",
   "metadata": {},
   "outputs": [],
   "source": [
    "sparse_interactions[-1] = sp_row"
   ]
  },
  {
   "cell_type": "code",
   "execution_count": 196,
   "id": "71fcc6fd",
   "metadata": {},
   "outputs": [
    {
     "data": {
      "text/plain": [
       "15"
      ]
     },
     "execution_count": 196,
     "metadata": {},
     "output_type": "execute_result"
    }
   ],
   "source": [
    "sparse_interactions[-1].todense().sum()"
   ]
  },
  {
   "cell_type": "code",
   "execution_count": 200,
   "id": "78c5460e",
   "metadata": {},
   "outputs": [
    {
     "name": "stdout",
     "output_type": "stream",
     "text": [
      "Epoch 0\n",
      "Epoch 1\n",
      "Epoch 2\n",
      "Epoch 3\n",
      "Epoch 4\n",
      "Epoch 5\n",
      "Epoch 6\n",
      "Epoch 7\n",
      "Epoch 8\n",
      "Epoch 9\n"
     ]
    },
    {
     "data": {
      "text/plain": [
       "<lightfm.lightfm.LightFM at 0x1af1c054a08>"
      ]
     },
     "execution_count": 200,
     "metadata": {},
     "output_type": "execute_result"
    }
   ],
   "source": [
    "model_l.fit_partial(sparse_interactions, epochs=10, verbose=True)"
   ]
  },
  {
   "cell_type": "code",
   "execution_count": 201,
   "id": "13c4b30f",
   "metadata": {},
   "outputs": [],
   "source": [
    "recs_l = model_l.predict([27498], [i for i in range(len(cols))]).argsort()[-20:][::-1]\n",
    "recs_l = cols[recs_l]"
   ]
  },
  {
   "cell_type": "code",
   "execution_count": 202,
   "id": "2241b21c",
   "metadata": {},
   "outputs": [
    {
     "name": "stdout",
     "output_type": "stream",
     "text": [
      "Ender's Game (Ender Wiggins Saga (Paperback))\n",
      "High Fidelity\n",
      "The Catcher in the Rye\n",
      "Stupid White Men ...and Other Sorry Excuses for the State of the Nation!\n",
      "Coraline\n",
      "Jurassic Park\n",
      "American Gods\n",
      "Lolita (Vintage International)\n",
      "Dune (Remembering Tomorrow)\n",
      "Artemis Fowl (Artemis Fowl, Book 1)\n",
      "Girl with a Pearl Earring\n",
      "Atlas Shrugged\n",
      "Brave New World\n",
      "Girl, Interrupted\n",
      "Lord of the Flies\n",
      "Neverwhere\n",
      "Watership Down\n",
      "The Perfect Storm : A True Story of Men Against the Sea\n",
      "Fast Food Nation: The Dark Side of the All-American Meal\n",
      "The Hobbit : The Enchanting Prelude to The Lord of the Rings\n"
     ]
    }
   ],
   "source": [
    "for i in recs_l:\n",
    "    print(books_df[books_df['ISBN'] == i]['Book-Title'].item())"
   ]
  },
  {
   "cell_type": "code",
   "execution_count": null,
   "id": "c0f19702",
   "metadata": {},
   "outputs": [],
   "source": []
  },
  {
   "cell_type": "code",
   "execution_count": null,
   "id": "a48a70c8",
   "metadata": {},
   "outputs": [],
   "source": []
  },
  {
   "cell_type": "code",
   "execution_count": 164,
   "id": "9410dc3d",
   "metadata": {},
   "outputs": [
    {
     "name": "stderr",
     "output_type": "stream",
     "text": [
      "C:\\Users\\trybi\\anaconda3\\envs\\IndexHockey\\lib\\site-packages\\implicit\\utils.py:34: UserWarning: Intel MKL BLAS detected. Its highly recommend to set the environment variable 'export MKL_NUM_THREADS=1' to disable its internal multithreading\n",
      "  \"Intel MKL BLAS detected. Its highly recommend to set the environment \"\n"
     ]
    }
   ],
   "source": [
    "model_i = implicit.als.AlternatingLeastSquares()"
   ]
  },
  {
   "cell_type": "code",
   "execution_count": 172,
   "id": "aebc12d7",
   "metadata": {},
   "outputs": [
    {
     "name": "stderr",
     "output_type": "stream",
     "text": [
      "C:\\Users\\trybi\\anaconda3\\envs\\IndexHockey\\lib\\site-packages\\implicit\\utils.py:141: ParameterWarning: Method expects CSR input, and was passed csc_matrix instead. Converting to CSR took 0.006001472473144531 seconds\n",
      "  ParameterWarning,\n"
     ]
    },
    {
     "data": {
      "application/vnd.jupyter.widget-view+json": {
       "model_id": "01aaa28011cc400d8c49432dfb870500",
       "version_major": 2,
       "version_minor": 0
      },
      "text/plain": [
       "  0%|          | 0/15 [00:00<?, ?it/s]"
      ]
     },
     "metadata": {},
     "output_type": "display_data"
    }
   ],
   "source": [
    "model_i.fit(sparse_interactions)"
   ]
  },
  {
   "cell_type": "code",
   "execution_count": 173,
   "id": "87165ac5",
   "metadata": {},
   "outputs": [
    {
     "data": {
      "text/plain": [
       "(27499, 9673)"
      ]
     },
     "execution_count": 173,
     "metadata": {},
     "output_type": "execute_result"
    }
   ],
   "source": [
    "sparse_interactions.shape"
   ]
  },
  {
   "cell_type": "code",
   "execution_count": 174,
   "id": "306972d8",
   "metadata": {},
   "outputs": [
    {
     "data": {
      "text/plain": [
       "array([5916, 8348, 9386], dtype=int64)"
      ]
     },
     "execution_count": 174,
     "metadata": {},
     "output_type": "execute_result"
    }
   ],
   "source": [
    "book_id"
   ]
  },
  {
   "cell_type": "code",
   "execution_count": 175,
   "id": "b82abfbb",
   "metadata": {},
   "outputs": [],
   "source": [
    "sp_row = sparse.coo_matrix(([5 for _ in book_id], ([0 for i in book_id], book_id)), shape=(1, sparse_interactions.shape[1]))"
   ]
  },
  {
   "cell_type": "code",
   "execution_count": 176,
   "id": "975ed940",
   "metadata": {},
   "outputs": [],
   "source": [
    "i_recs = model_i.recommend(0, sp_row.tocsr(), recalculate_user=True, N=20)[0]"
   ]
  },
  {
   "cell_type": "code",
   "execution_count": 177,
   "id": "e4de7b87",
   "metadata": {},
   "outputs": [],
   "source": [
    "i_recs = cols[i_recs]"
   ]
  },
  {
   "cell_type": "code",
   "execution_count": 178,
   "id": "8ffd19b0",
   "metadata": {},
   "outputs": [
    {
     "name": "stdout",
     "output_type": "stream",
     "text": [
      "Brave New World\n",
      "The Nanny Diaries\n",
      "Slaughterhouse Five or the Children's Crusade: A Duty Dance With Death\n",
      "Siddhartha\n",
      "The Firm\n",
      "Cat's Cradle\n",
      "Lolita (Vintage International)\n",
      "Daisy Fay and the Miracle Man\n",
      "Confessions of a Shopaholic (Summer Display Opportunity)\n",
      "House of Leaves\n",
      "A Clockwork Orange (Norton Paperback Fiction)\n",
      "Beloved\n",
      "Bastard Out of Carolina\n",
      "Confessions of an Ugly Stepsister\n",
      "The Pelican Brief\n",
      "1984\n",
      "Skinny Legs and All\n",
      "Blindness (Harvest Book)\n",
      "Hannibal\n",
      "Ishmael: An Adventure of the Mind and Spirit\n"
     ]
    }
   ],
   "source": [
    "for i in i_recs:\n",
    "    print(books_df[books_df['ISBN'] == i]['Book-Title'].item())"
   ]
  },
  {
   "cell_type": "code",
   "execution_count": null,
   "id": "89fb7336",
   "metadata": {},
   "outputs": [],
   "source": []
  }
 ],
 "metadata": {
  "kernelspec": {
   "display_name": "Python 3 (ipykernel)",
   "language": "python",
   "name": "python3"
  },
  "language_info": {
   "codemirror_mode": {
    "name": "ipython",
    "version": 3
   },
   "file_extension": ".py",
   "mimetype": "text/x-python",
   "name": "python",
   "nbconvert_exporter": "python",
   "pygments_lexer": "ipython3",
   "version": "3.7.13"
  }
 },
 "nbformat": 4,
 "nbformat_minor": 5
}
