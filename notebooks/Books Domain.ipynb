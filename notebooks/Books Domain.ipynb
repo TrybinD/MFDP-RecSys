{
 "cells": [
  {
   "cell_type": "markdown",
   "id": "28dcc834",
   "metadata": {},
   "source": [
    "# Эксперименты с books доменом"
   ]
  },
  {
   "cell_type": "code",
   "execution_count": 1,
   "id": "3a370428",
   "metadata": {},
   "outputs": [],
   "source": [
    "%load_ext autoreload\n",
    "%autoreload 2\n",
    "\n",
    "import sys\n",
    "sys.path.append('../')"
   ]
  },
  {
   "cell_type": "code",
   "execution_count": 2,
   "id": "f4b156de",
   "metadata": {},
   "outputs": [
    {
     "name": "stderr",
     "output_type": "stream",
     "text": [
      "C:\\Users\\trybi\\anaconda3\\envs\\IndexHockey\\lib\\site-packages\\lightfm\\_lightfm_fast.py:9: UserWarning: LightFM was compiled without OpenMP support. Only a single thread will be used.\n",
      "  warnings.warn('LightFM was compiled without OpenMP support. '\n"
     ]
    }
   ],
   "source": [
    "from pathlib import Path\n",
    "from tqdm import tqdm\n",
    "import pickle\n",
    "from time import time\n",
    "from tqdm import tqdm\n",
    "import pandas as pd\n",
    "import numpy as np\n",
    "\n",
    "import mlflow\n",
    "\n",
    "from src.models.BaseModel import TopRecommender\n",
    "from src.models.ItemBasedRecommenders import CosineDistanceRecommender\n",
    "from src.models.MatrixFactorizationRecommenders import ALSBasedRecommender, LightFMBasedRecommender\n",
    "\n",
    "from src.metrics import average_single_precision"
   ]
  },
  {
   "cell_type": "code",
   "execution_count": 3,
   "id": "a7527a0d",
   "metadata": {},
   "outputs": [
    {
     "data": {
      "text/plain": [
       "<Experiment: artifact_location='file:///C:/Users/trybi/PycharmProjects/MFDP-RecSys/src/models/mlflow_tracking/mlruns/1', creation_time=1681388593965, experiment_id='1', last_update_time=1681388593965, lifecycle_stage='active', name='Books Domain', tags={'mlflow.note.content': 'Эксперименты с рекомендацией книг для пользователей'}>"
      ]
     },
     "execution_count": 3,
     "metadata": {},
     "output_type": "execute_result"
    }
   ],
   "source": [
    "# Настраиваем MLFlow (Использую его потому что знаком с ним:))\n",
    "mlflow.set_tracking_uri((Path.cwd() / '../src/models/mlflow_tracking/mlruns'))\n",
    "mlflow.set_experiment('Books Domain')"
   ]
  },
  {
   "cell_type": "code",
   "execution_count": 4,
   "id": "5c079e5c",
   "metadata": {},
   "outputs": [],
   "source": [
    "data_path = Path('../data')"
   ]
  },
  {
   "cell_type": "code",
   "execution_count": 5,
   "id": "3798998d",
   "metadata": {},
   "outputs": [],
   "source": [
    "df_books_rating = pd.read_parquet(data_path / 'df_books_rating.parquet')\n",
    "books_df = pd.read_parquet(data_path/'books_bd.parquet')"
   ]
  },
  {
   "cell_type": "code",
   "execution_count": 6,
   "id": "7b333b54",
   "metadata": {},
   "outputs": [],
   "source": [
    "df_books_rating['Book-Rating'] = df_books_rating['Book-Rating'].replace(0, np.nan)"
   ]
  },
  {
   "cell_type": "code",
   "execution_count": 7,
   "id": "9c45a6c7",
   "metadata": {},
   "outputs": [],
   "source": [
    "# Заполнение 0 (неявная оценка - прочитал, но не оценил) - заполняем средним по датасету\n",
    "df_books_rating['Book-Rating'] = df_books_rating['Book-Rating'].fillna(df_books_rating['Book-Rating'].mean())"
   ]
  },
  {
   "cell_type": "code",
   "execution_count": 8,
   "id": "8f26e547",
   "metadata": {},
   "outputs": [],
   "source": [
    "df_books_rating = df_books_rating.reset_index().drop('index', axis=1)"
   ]
  },
  {
   "cell_type": "code",
   "execution_count": 9,
   "id": "08dbc018",
   "metadata": {},
   "outputs": [],
   "source": [
    "# Отложим 1000 наблюдений в качестве тестовой выборки. На них будем считать метрику MAP@10.\n",
    "# (не на 20 потому что будем счиаить, что еще 10 уйдут на другой домен). \n",
    "# Немного наблюдений в качестве теста, потому что кажется, что дело это не быстрое. \n",
    "\n",
    "test_samples = np.random.choice(range(len(df_books_rating)), size = 1000, replace=False)\n",
    "\n",
    "df_train = df_books_rating.drop(test_samples)\n",
    "df_test = df_books_rating.iloc[test_samples]"
   ]
  },
  {
   "cell_type": "code",
   "execution_count": 10,
   "id": "cd53308f",
   "metadata": {},
   "outputs": [
    {
     "data": {
      "text/html": [
       "<div>\n",
       "<style scoped>\n",
       "    .dataframe tbody tr th:only-of-type {\n",
       "        vertical-align: middle;\n",
       "    }\n",
       "\n",
       "    .dataframe tbody tr th {\n",
       "        vertical-align: top;\n",
       "    }\n",
       "\n",
       "    .dataframe thead th {\n",
       "        text-align: right;\n",
       "    }\n",
       "</style>\n",
       "<table border=\"1\" class=\"dataframe\">\n",
       "  <thead>\n",
       "    <tr style=\"text-align: right;\">\n",
       "      <th></th>\n",
       "      <th>User-ID</th>\n",
       "      <th>ISBN</th>\n",
       "      <th>Book-Rating</th>\n",
       "    </tr>\n",
       "  </thead>\n",
       "  <tbody>\n",
       "    <tr>\n",
       "      <th>0</th>\n",
       "      <td>276746</td>\n",
       "      <td>b0425115801</td>\n",
       "      <td>7.719876</td>\n",
       "    </tr>\n",
       "    <tr>\n",
       "      <th>1</th>\n",
       "      <td>276746</td>\n",
       "      <td>b0449006522</td>\n",
       "      <td>7.719876</td>\n",
       "    </tr>\n",
       "    <tr>\n",
       "      <th>2</th>\n",
       "      <td>276746</td>\n",
       "      <td>b0553561618</td>\n",
       "      <td>7.719876</td>\n",
       "    </tr>\n",
       "    <tr>\n",
       "      <th>3</th>\n",
       "      <td>276746</td>\n",
       "      <td>b055356451X</td>\n",
       "      <td>7.719876</td>\n",
       "    </tr>\n",
       "    <tr>\n",
       "      <th>4</th>\n",
       "      <td>276747</td>\n",
       "      <td>b0060976845</td>\n",
       "      <td>9.000000</td>\n",
       "    </tr>\n",
       "    <tr>\n",
       "      <th>...</th>\n",
       "      <td>...</td>\n",
       "      <td>...</td>\n",
       "      <td>...</td>\n",
       "    </tr>\n",
       "    <tr>\n",
       "      <th>433818</th>\n",
       "      <td>276704</td>\n",
       "      <td>b0441007813</td>\n",
       "      <td>7.719876</td>\n",
       "    </tr>\n",
       "    <tr>\n",
       "      <th>433819</th>\n",
       "      <td>276704</td>\n",
       "      <td>b0446353957</td>\n",
       "      <td>7.719876</td>\n",
       "    </tr>\n",
       "    <tr>\n",
       "      <th>433820</th>\n",
       "      <td>276704</td>\n",
       "      <td>b0446605409</td>\n",
       "      <td>7.719876</td>\n",
       "    </tr>\n",
       "    <tr>\n",
       "      <th>433821</th>\n",
       "      <td>276704</td>\n",
       "      <td>b0743211383</td>\n",
       "      <td>7.000000</td>\n",
       "    </tr>\n",
       "    <tr>\n",
       "      <th>433822</th>\n",
       "      <td>276704</td>\n",
       "      <td>b080410526X</td>\n",
       "      <td>7.719876</td>\n",
       "    </tr>\n",
       "  </tbody>\n",
       "</table>\n",
       "<p>432823 rows × 3 columns</p>\n",
       "</div>"
      ],
      "text/plain": [
       "        User-ID         ISBN  Book-Rating\n",
       "0        276746  b0425115801     7.719876\n",
       "1        276746  b0449006522     7.719876\n",
       "2        276746  b0553561618     7.719876\n",
       "3        276746  b055356451X     7.719876\n",
       "4        276747  b0060976845     9.000000\n",
       "...         ...          ...          ...\n",
       "433818   276704  b0441007813     7.719876\n",
       "433819   276704  b0446353957     7.719876\n",
       "433820   276704  b0446605409     7.719876\n",
       "433821   276704  b0743211383     7.000000\n",
       "433822   276704  b080410526X     7.719876\n",
       "\n",
       "[432823 rows x 3 columns]"
      ]
     },
     "execution_count": 10,
     "metadata": {},
     "output_type": "execute_result"
    }
   ],
   "source": [
    "df_train"
   ]
  },
  {
   "cell_type": "code",
   "execution_count": 11,
   "id": "3753b95f",
   "metadata": {},
   "outputs": [
    {
     "data": {
      "text/html": [
       "<div>\n",
       "<style scoped>\n",
       "    .dataframe tbody tr th:only-of-type {\n",
       "        vertical-align: middle;\n",
       "    }\n",
       "\n",
       "    .dataframe tbody tr th {\n",
       "        vertical-align: top;\n",
       "    }\n",
       "\n",
       "    .dataframe thead th {\n",
       "        text-align: right;\n",
       "    }\n",
       "</style>\n",
       "<table border=\"1\" class=\"dataframe\">\n",
       "  <thead>\n",
       "    <tr style=\"text-align: right;\">\n",
       "      <th></th>\n",
       "      <th>User-ID</th>\n",
       "      <th>ISBN</th>\n",
       "      <th>Book-Rating</th>\n",
       "    </tr>\n",
       "  </thead>\n",
       "  <tbody>\n",
       "    <tr>\n",
       "      <th>126502</th>\n",
       "      <td>78973</td>\n",
       "      <td>b0451186362</td>\n",
       "      <td>8.000000</td>\n",
       "    </tr>\n",
       "    <tr>\n",
       "      <th>208971</th>\n",
       "      <td>132199</td>\n",
       "      <td>b0312199430</td>\n",
       "      <td>8.000000</td>\n",
       "    </tr>\n",
       "    <tr>\n",
       "      <th>3821</th>\n",
       "      <td>1548</td>\n",
       "      <td>b0553258540</td>\n",
       "      <td>9.000000</td>\n",
       "    </tr>\n",
       "    <tr>\n",
       "      <th>56641</th>\n",
       "      <td>35006</td>\n",
       "      <td>b0440234743</td>\n",
       "      <td>7.000000</td>\n",
       "    </tr>\n",
       "    <tr>\n",
       "      <th>85731</th>\n",
       "      <td>52853</td>\n",
       "      <td>b0440222656</td>\n",
       "      <td>8.000000</td>\n",
       "    </tr>\n",
       "    <tr>\n",
       "      <th>...</th>\n",
       "      <td>...</td>\n",
       "      <td>...</td>\n",
       "      <td>...</td>\n",
       "    </tr>\n",
       "    <tr>\n",
       "      <th>391783</th>\n",
       "      <td>248479</td>\n",
       "      <td>b0060987324</td>\n",
       "      <td>8.000000</td>\n",
       "    </tr>\n",
       "    <tr>\n",
       "      <th>33172</th>\n",
       "      <td>20201</td>\n",
       "      <td>b081257639X</td>\n",
       "      <td>9.000000</td>\n",
       "    </tr>\n",
       "    <tr>\n",
       "      <th>38470</th>\n",
       "      <td>23933</td>\n",
       "      <td>b0385319037</td>\n",
       "      <td>7.000000</td>\n",
       "    </tr>\n",
       "    <tr>\n",
       "      <th>70324</th>\n",
       "      <td>41455</td>\n",
       "      <td>b0892965258</td>\n",
       "      <td>7.719876</td>\n",
       "    </tr>\n",
       "    <tr>\n",
       "      <th>375860</th>\n",
       "      <td>238961</td>\n",
       "      <td>b0717283194</td>\n",
       "      <td>7.719876</td>\n",
       "    </tr>\n",
       "  </tbody>\n",
       "</table>\n",
       "<p>1000 rows × 3 columns</p>\n",
       "</div>"
      ],
      "text/plain": [
       "        User-ID         ISBN  Book-Rating\n",
       "126502    78973  b0451186362     8.000000\n",
       "208971   132199  b0312199430     8.000000\n",
       "3821       1548  b0553258540     9.000000\n",
       "56641     35006  b0440234743     7.000000\n",
       "85731     52853  b0440222656     8.000000\n",
       "...         ...          ...          ...\n",
       "391783   248479  b0060987324     8.000000\n",
       "33172     20201  b081257639X     9.000000\n",
       "38470     23933  b0385319037     7.000000\n",
       "70324     41455  b0892965258     7.719876\n",
       "375860   238961  b0717283194     7.719876\n",
       "\n",
       "[1000 rows x 3 columns]"
      ]
     },
     "execution_count": 11,
     "metadata": {},
     "output_type": "execute_result"
    }
   ],
   "source": [
    "df_test"
   ]
  },
  {
   "cell_type": "code",
   "execution_count": 12,
   "id": "19450d8f",
   "metadata": {},
   "outputs": [],
   "source": [
    "# Соберем словарь {user: [items]}, потому что так быстрее будет работать поиск истории по юзерам\n",
    "train_db = {user: items.item().split(', ') for user, items in (df_train\n",
    "                                                               .groupby('User-ID')\n",
    "                                                               .agg({'ISBN': lambda x: ', '.join(x)})\n",
    "                                                               .iterrows())}"
   ]
  },
  {
   "cell_type": "code",
   "execution_count": 13,
   "id": "4df1b5b6",
   "metadata": {},
   "outputs": [
    {
     "data": {
      "text/plain": [
       "4473"
      ]
     },
     "execution_count": 13,
     "metadata": {},
     "output_type": "execute_result"
    }
   ],
   "source": [
    "# Посмотрим максимальное количество лайкнутых книг. Спойдер - очень много\n",
    "max(len(i) for i in train_db.values())"
   ]
  },
  {
   "cell_type": "code",
   "execution_count": 14,
   "id": "0697c906",
   "metadata": {},
   "outputs": [],
   "source": [
    "# Соберем список пар (user: item) из test, чтобы по нему итерироваться\n",
    "test_data = df_test[['User-ID', 'ISBN']].values"
   ]
  },
  {
   "cell_type": "code",
   "execution_count": 15,
   "id": "852b2215",
   "metadata": {},
   "outputs": [],
   "source": [
    "model_path = Path('../src/models/models_storage')"
   ]
  },
  {
   "cell_type": "code",
   "execution_count": 16,
   "id": "bb7b182a",
   "metadata": {},
   "outputs": [],
   "source": [
    "# Функция, которая будет считать эксперименты \n",
    "def experiment(run_name, model, model_params, recommend_params, my_favorites, k=10):\n",
    "    with mlflow.start_run(run_name=run_name):\n",
    "        mlflow.log_params(model_params)\n",
    "        \n",
    "        time_start = time()\n",
    "        model.fit(interaction_data=df_train.rename({'User-ID': 'user', 'ISBN': 'item', 'Book-Rating': 'rating'}, axis=1),\n",
    "                  **model_params)\n",
    "        mlflow.log_metric(f'fit_time', time()-time_start)\n",
    "        \n",
    "        maps = []\n",
    "        times = []\n",
    "        for new_user, new_item in tqdm(test_data):\n",
    "            user_favorites = train_db.get(new_user, [])\n",
    "            time_start = time()\n",
    "            recs = model.recommend(user_favorites, k, **recommend_params)\n",
    "            times.append(time()-time_start)\n",
    "            maps.append(average_single_precision(new_item, recs))\n",
    "        \n",
    "        \n",
    "        mlflow.log_metric(f'MAP_on_{k}', sum(maps)/len(maps))\n",
    "        mlflow.log_metric(f'time_to_rec', sum(times)/len(times))\n",
    "        \n",
    "        my_recs = model.recommend(my_favorites, k, **recommend_params)\n",
    "        \n",
    "        \n",
    "        mlflow.log_text(' \\n '.join(i + ' - ' + j for k in my_recs for i, j in books_df.query('ISBN==@k')[['Book-Title', \n",
    "                                                                                                        'Book-Author']].values),\n",
    "                        'my_recs.txt')\n",
    "\n",
    "        with open(model_path / f'{run_name}_model.pickle', 'wb') as f:\n",
    "            pickle.dump(model, f)\n",
    "\n",
    "        mlflow.log_artifact(model_path / f'{run_name}_model.pickle')"
   ]
  },
  {
   "cell_type": "code",
   "execution_count": 17,
   "id": "8bd25e8a",
   "metadata": {},
   "outputs": [],
   "source": [
    "my_favorites = ['b1853262005', 'b0451526341', 'b0802130119', 'b0805062971', 'b0385333846']"
   ]
  },
  {
   "cell_type": "code",
   "execution_count": 18,
   "id": "74b3b077",
   "metadata": {},
   "outputs": [
    {
     "data": {
      "text/html": [
       "<div>\n",
       "<style scoped>\n",
       "    .dataframe tbody tr th:only-of-type {\n",
       "        vertical-align: middle;\n",
       "    }\n",
       "\n",
       "    .dataframe tbody tr th {\n",
       "        vertical-align: top;\n",
       "    }\n",
       "\n",
       "    .dataframe thead th {\n",
       "        text-align: right;\n",
       "    }\n",
       "</style>\n",
       "<table border=\"1\" class=\"dataframe\">\n",
       "  <thead>\n",
       "    <tr style=\"text-align: right;\">\n",
       "      <th></th>\n",
       "      <th>Book-Title</th>\n",
       "      <th>Book-Author</th>\n",
       "      <th>ISBN</th>\n",
       "      <th>Year-Of-Publication</th>\n",
       "      <th>Image-URL-M</th>\n",
       "    </tr>\n",
       "  </thead>\n",
       "  <tbody>\n",
       "    <tr>\n",
       "      <th>14991</th>\n",
       "      <td>Animal Farm</td>\n",
       "      <td>George Orwell</td>\n",
       "      <td>b0451526341</td>\n",
       "      <td>1956</td>\n",
       "      <td>http://images.amazon.com/images/P/0451526341.0...</td>\n",
       "    </tr>\n",
       "    <tr>\n",
       "      <th>42652</th>\n",
       "      <td>Crime and Punishment (Wordsworth Classics)</td>\n",
       "      <td>Fyodor Dostoevsky</td>\n",
       "      <td>b1853262005</td>\n",
       "      <td>1997</td>\n",
       "      <td>http://images.amazon.com/images/P/1853262005.0...</td>\n",
       "    </tr>\n",
       "    <tr>\n",
       "      <th>68582</th>\n",
       "      <td>Fight Club</td>\n",
       "      <td>Chuck Palahniuk</td>\n",
       "      <td>b0805062971</td>\n",
       "      <td>1996</td>\n",
       "      <td>http://images.amazon.com/images/P/0805062971.0...</td>\n",
       "    </tr>\n",
       "    <tr>\n",
       "      <th>167962</th>\n",
       "      <td>Slaughterhouse-Five</td>\n",
       "      <td>KURT VONNEGUT</td>\n",
       "      <td>b0385333846</td>\n",
       "      <td>1999</td>\n",
       "      <td>http://images.amazon.com/images/P/0385333846.0...</td>\n",
       "    </tr>\n",
       "    <tr>\n",
       "      <th>204880</th>\n",
       "      <td>The Master and Margarita</td>\n",
       "      <td>Mikhail Bulgakov</td>\n",
       "      <td>b0802130119</td>\n",
       "      <td>1987</td>\n",
       "      <td>http://images.amazon.com/images/P/0802130119.0...</td>\n",
       "    </tr>\n",
       "  </tbody>\n",
       "</table>\n",
       "</div>"
      ],
      "text/plain": [
       "                                        Book-Title        Book-Author  \\\n",
       "14991                                  Animal Farm      George Orwell   \n",
       "42652   Crime and Punishment (Wordsworth Classics)  Fyodor Dostoevsky   \n",
       "68582                                   Fight Club    Chuck Palahniuk   \n",
       "167962                         Slaughterhouse-Five      KURT VONNEGUT   \n",
       "204880                    The Master and Margarita   Mikhail Bulgakov   \n",
       "\n",
       "               ISBN  Year-Of-Publication  \\\n",
       "14991   b0451526341                 1956   \n",
       "42652   b1853262005                 1997   \n",
       "68582   b0805062971                 1996   \n",
       "167962  b0385333846                 1999   \n",
       "204880  b0802130119                 1987   \n",
       "\n",
       "                                              Image-URL-M  \n",
       "14991   http://images.amazon.com/images/P/0451526341.0...  \n",
       "42652   http://images.amazon.com/images/P/1853262005.0...  \n",
       "68582   http://images.amazon.com/images/P/0805062971.0...  \n",
       "167962  http://images.amazon.com/images/P/0385333846.0...  \n",
       "204880  http://images.amazon.com/images/P/0802130119.0...  "
      ]
     },
     "execution_count": 18,
     "metadata": {},
     "output_type": "execute_result"
    }
   ],
   "source": [
    "# Интересно, что посоветует мне каждый из алгоритмов. Быстро накидал любимых книг, которые вспомнил сразу\n",
    "books_df[books_df['ISBN'].isin(my_favorites)]"
   ]
  },
  {
   "cell_type": "code",
   "execution_count": 425,
   "id": "c7f6a032",
   "metadata": {},
   "outputs": [
    {
     "name": "stderr",
     "output_type": "stream",
     "text": [
      "100%|████████████████████████████████████████████████████████████████████████████| 1000/1000 [00:00<00:00, 1016.27it/s]\n"
     ]
    }
   ],
   "source": [
    "experiment('Top count recommends', TopRecommender(), {'n_to_save':5000, 'metric':'count'}, {'mode':'deterministic'},\n",
    "           my_favorites, k=10)"
   ]
  },
  {
   "cell_type": "code",
   "execution_count": 428,
   "id": "f95b16b8",
   "metadata": {},
   "outputs": [
    {
     "name": "stderr",
     "output_type": "stream",
     "text": [
      "100%|████████████████████████████████████████████████████████████████████████████| 1000/1000 [00:00<00:00, 1000.04it/s]\n"
     ]
    }
   ],
   "source": [
    "experiment('Top Rating recommends', TopRecommender(), {'n_to_save':5000, 'metric':'mean'}, {'mode':'deterministic'}, \n",
    "           my_favorites, k=10)"
   ]
  },
  {
   "cell_type": "code",
   "execution_count": 430,
   "id": "9ce6985c",
   "metadata": {},
   "outputs": [
    {
     "name": "stderr",
     "output_type": "stream",
     "text": [
      "100%|█████████████████████████████████████████████████████████████████████████████| 1000/1000 [00:03<00:00, 309.01it/s]\n"
     ]
    }
   ],
   "source": [
    "experiment('Random count recommends', TopRecommender(), {'n_to_save':5000, 'metric':'count'}, {'mode':'probabilistic'},\n",
    "           my_favorites, k=10)"
   ]
  },
  {
   "cell_type": "code",
   "execution_count": 431,
   "id": "c6328338",
   "metadata": {},
   "outputs": [
    {
     "name": "stderr",
     "output_type": "stream",
     "text": [
      "100%|██████████████████████████████████████████████████████████████████████████████| 1000/1000 [03:37<00:00,  4.61it/s]\n"
     ]
    }
   ],
   "source": [
    "experiment('CosineDistanceRecommender', CosineDistanceRecommender(), {}, {'mode':'deterministic'},\n",
    "           my_favorites, k=10)"
   ]
  },
  {
   "cell_type": "code",
   "execution_count": 432,
   "id": "01c44c98",
   "metadata": {},
   "outputs": [
    {
     "name": "stderr",
     "output_type": "stream",
     "text": [
      "100%|██████████████████████████████████████████████████████████████████████████████| 1000/1000 [03:31<00:00,  4.73it/s]\n"
     ]
    }
   ],
   "source": [
    "experiment('CosineDistanceRecommender + random sample recs', CosineDistanceRecommender(), {}, {'mode':'probabilistic'},\n",
    "           my_favorites, k=10)"
   ]
  },
  {
   "cell_type": "code",
   "execution_count": 440,
   "id": "c6e66f2f",
   "metadata": {},
   "outputs": [
    {
     "data": {
      "application/vnd.jupyter.widget-view+json": {
       "model_id": "d80046081b854e2ba8c3f72f2bf337f8",
       "version_major": 2,
       "version_minor": 0
      },
      "text/plain": [
       "  0%|          | 0/15 [00:00<?, ?it/s]"
      ]
     },
     "metadata": {},
     "output_type": "display_data"
    },
    {
     "name": "stderr",
     "output_type": "stream",
     "text": [
      "100%|██████████████████████████████████████████████████████████████████████████████| 1000/1000 [01:28<00:00, 11.32it/s]\n"
     ]
    }
   ],
   "source": [
    "experiment('ALS Recommender', ALSBasedRecommender(), {}, {},\n",
    "           my_favorites, k=10)"
   ]
  },
  {
   "cell_type": "code",
   "execution_count": 442,
   "id": "41fe073f",
   "metadata": {},
   "outputs": [
    {
     "data": {
      "application/vnd.jupyter.widget-view+json": {
       "model_id": "683ce1e91a894407b1e94e7f7351aacc",
       "version_major": 2,
       "version_minor": 0
      },
      "text/plain": [
       "  0%|          | 0/30 [00:00<?, ?it/s]"
      ]
     },
     "metadata": {},
     "output_type": "display_data"
    },
    {
     "name": "stderr",
     "output_type": "stream",
     "text": [
      "100%|██████████████████████████████████████████████████████████████████████████████| 1000/1000 [01:19<00:00, 12.53it/s]\n"
     ]
    }
   ],
   "source": [
    "experiment('ALS Recommender', ALSBasedRecommender(), {'factors': 50, 'iterations': 30}, {},\n",
    "           my_favorites, k=10)"
   ]
  },
  {
   "cell_type": "code",
   "execution_count": 443,
   "id": "3ff8b0f2",
   "metadata": {},
   "outputs": [
    {
     "data": {
      "application/vnd.jupyter.widget-view+json": {
       "model_id": "a3a6f46ada2c405388facb0e45bc3d2d",
       "version_major": 2,
       "version_minor": 0
      },
      "text/plain": [
       "  0%|          | 0/30 [00:00<?, ?it/s]"
      ]
     },
     "metadata": {},
     "output_type": "display_data"
    },
    {
     "name": "stderr",
     "output_type": "stream",
     "text": [
      "100%|██████████████████████████████████████████████████████████████████████████████| 1000/1000 [01:54<00:00,  8.76it/s]\n"
     ]
    }
   ],
   "source": [
    "experiment('ALS Recommender', ALSBasedRecommender(), {'factors': 200, 'iterations': 30}, {},\n",
    "           my_favorites, k=10)"
   ]
  },
  {
   "cell_type": "code",
   "execution_count": 444,
   "id": "a748cdce",
   "metadata": {},
   "outputs": [
    {
     "name": "stdout",
     "output_type": "stream",
     "text": [
      "Epoch 0\n",
      "Epoch 1\n",
      "Epoch 2\n",
      "Epoch 3\n",
      "Epoch 4\n",
      "Epoch 5\n",
      "Epoch 6\n",
      "Epoch 7\n",
      "Epoch 8\n",
      "Epoch 9\n",
      "Epoch 10\n",
      "Epoch 11\n",
      "Epoch 12\n",
      "Epoch 13\n",
      "Epoch 14\n",
      "Epoch 15\n",
      "Epoch 16\n",
      "Epoch 17\n",
      "Epoch 18\n",
      "Epoch 19\n"
     ]
    },
    {
     "name": "stderr",
     "output_type": "stream",
     "text": [
      "  0%|                                                                                         | 0/1000 [00:00<?, ?it/s]C:\\Users\\trybi\\anaconda3\\envs\\IndexHockey\\lib\\site-packages\\scipy\\sparse\\_index.py:116: SparseEfficiencyWarning: Changing the sparsity structure of a csc_matrix is expensive. lil_matrix is more efficient.\n",
      "  self._set_arrayXarray_sparse(i, j, x)\n",
      "100%|████████████████████████████████████████████████████████████████████████████| 1000/1000 [2:05:54<00:00,  7.55s/it]\n"
     ]
    }
   ],
   "source": [
    "experiment('LightFM Recommender', LightFMBasedRecommender(), {}, {'epochs': 1, 'verbose': False},\n",
    "           my_favorites, k=10)"
   ]
  },
  {
   "cell_type": "markdown",
   "id": "35cd311b",
   "metadata": {},
   "source": [
    "### Из-за того, что немного изменил модел пришлось переучить лучшие модели"
   ]
  },
  {
   "cell_type": "code",
   "execution_count": 19,
   "id": "e88400c4",
   "metadata": {},
   "outputs": [
    {
     "name": "stderr",
     "output_type": "stream",
     "text": [
      "C:\\Users\\trybi\\anaconda3\\envs\\IndexHockey\\lib\\site-packages\\implicit\\utils.py:34: UserWarning: Intel MKL BLAS detected. Its highly recommend to set the environment variable 'export MKL_NUM_THREADS=1' to disable its internal multithreading\n",
      "  \"Intel MKL BLAS detected. Its highly recommend to set the environment \"\n"
     ]
    },
    {
     "data": {
      "application/vnd.jupyter.widget-view+json": {
       "model_id": "acf79392e97340988db2d7a1ddfa9bd6",
       "version_major": 2,
       "version_minor": 0
      },
      "text/plain": [
       "  0%|          | 0/15 [00:00<?, ?it/s]"
      ]
     },
     "metadata": {},
     "output_type": "display_data"
    },
    {
     "name": "stderr",
     "output_type": "stream",
     "text": [
      "100%|██████████████████████████████████████████████████████████████████████████████| 1000/1000 [01:37<00:00, 10.24it/s]\n"
     ]
    }
   ],
   "source": [
    "experiment('ALS Recommender new', ALSBasedRecommender(), {}, {},\n",
    "           my_favorites, k=10)"
   ]
  },
  {
   "cell_type": "code",
   "execution_count": 21,
   "id": "2d8f2628",
   "metadata": {},
   "outputs": [
    {
     "data": {
      "application/vnd.jupyter.widget-view+json": {
       "model_id": "6c416547aa124ad399e9862ba92b47b1",
       "version_major": 2,
       "version_minor": 0
      },
      "text/plain": [
       "  0%|          | 0/30 [00:00<?, ?it/s]"
      ]
     },
     "metadata": {},
     "output_type": "display_data"
    },
    {
     "name": "stderr",
     "output_type": "stream",
     "text": [
      "100%|██████████████████████████████████████████████████████████████████████████████| 1000/1000 [01:48<00:00,  9.20it/s]\n"
     ]
    }
   ],
   "source": [
    "experiment('ALS Recommender new', ALSBasedRecommender(), {'factors': 50, 'iterations': 30}, {},\n",
    "           my_favorites, k=10)"
   ]
  },
  {
   "cell_type": "code",
   "execution_count": null,
   "id": "5e1153cb",
   "metadata": {},
   "outputs": [],
   "source": []
  }
 ],
 "metadata": {
  "kernelspec": {
   "display_name": "Python 3 (ipykernel)",
   "language": "python",
   "name": "python3"
  },
  "language_info": {
   "codemirror_mode": {
    "name": "ipython",
    "version": 3
   },
   "file_extension": ".py",
   "mimetype": "text/x-python",
   "name": "python",
   "nbconvert_exporter": "python",
   "pygments_lexer": "ipython3",
   "version": "3.7.13"
  }
 },
 "nbformat": 4,
 "nbformat_minor": 5
}
