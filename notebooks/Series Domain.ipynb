{
 "cells": [
  {
   "cell_type": "markdown",
   "id": "9a6bbc1e",
   "metadata": {},
   "source": [
    "# Эксперименты с series доменом"
   ]
  },
  {
   "cell_type": "code",
   "execution_count": 1,
   "id": "cf94981b",
   "metadata": {},
   "outputs": [],
   "source": [
    "%load_ext autoreload\n",
    "%autoreload 2\n",
    "\n",
    "import sys\n",
    "sys.path.append('../')"
   ]
  },
  {
   "cell_type": "code",
   "execution_count": 77,
   "id": "1b75c44c",
   "metadata": {},
   "outputs": [],
   "source": [
    "from pathlib import Path\n",
    "from tqdm import tqdm\n",
    "import pickle\n",
    "from time import time\n",
    "from tqdm import tqdm\n",
    "import pandas as pd\n",
    "import numpy as np\n",
    "\n",
    "import mlflow\n",
    "import optuna\n",
    "\n",
    "from src.models.BaseModel import TopRecommender\n",
    "from src.models.ItemBasedRecommenders import CosineDistanceRecommender\n",
    "from src.models.MatrixFactorizationRecommenders import ALSBasedRecommender, LightFMBasedRecommender\n",
    "\n",
    "from src.metrics import average_single_precision"
   ]
  },
  {
   "cell_type": "code",
   "execution_count": 3,
   "id": "7bf24ada",
   "metadata": {},
   "outputs": [
    {
     "name": "stderr",
     "output_type": "stream",
     "text": [
      "2023/04/15 19:10:23 INFO mlflow.tracking.fluent: Experiment with name 'Series Domain' does not exist. Creating a new experiment.\n"
     ]
    },
    {
     "data": {
      "text/plain": [
       "<Experiment: artifact_location='file:///C:/Users/trybi/PycharmProjects/MFDP-RecSys/src/models/mlflow_tracking/mlruns/2', creation_time=1681575023415, experiment_id='2', last_update_time=1681575023415, lifecycle_stage='active', name='Series Domain', tags={}>"
      ]
     },
     "execution_count": 3,
     "metadata": {},
     "output_type": "execute_result"
    }
   ],
   "source": [
    "# Настраиваем MLFlow\n",
    "mlflow.set_tracking_uri((Path.cwd() / '../src/models/mlflow_tracking/mlruns'))\n",
    "mlflow.set_experiment('Series Domain')"
   ]
  },
  {
   "cell_type": "code",
   "execution_count": 4,
   "id": "45686bb6",
   "metadata": {},
   "outputs": [],
   "source": [
    "data_path = Path('../data')"
   ]
  },
  {
   "cell_type": "code",
   "execution_count": 6,
   "id": "1174217d",
   "metadata": {},
   "outputs": [],
   "source": [
    "df_interactions = pd.read_parquet(data_path / 'series_interactions.parquet')\n",
    "df_series = pd.read_parquet(data_path / 'series_bd.parquet')"
   ]
  },
  {
   "cell_type": "code",
   "execution_count": 8,
   "id": "4d297052",
   "metadata": {},
   "outputs": [],
   "source": [
    "df_interactions = df_interactions.reset_index().drop('index', axis=1)"
   ]
  },
  {
   "cell_type": "code",
   "execution_count": 9,
   "id": "e1eee634",
   "metadata": {
    "scrolled": false
   },
   "outputs": [
    {
     "data": {
      "text/html": [
       "<div>\n",
       "<style scoped>\n",
       "    .dataframe tbody tr th:only-of-type {\n",
       "        vertical-align: middle;\n",
       "    }\n",
       "\n",
       "    .dataframe tbody tr th {\n",
       "        vertical-align: top;\n",
       "    }\n",
       "\n",
       "    .dataframe thead th {\n",
       "        text-align: right;\n",
       "    }\n",
       "</style>\n",
       "<table border=\"1\" class=\"dataframe\">\n",
       "  <thead>\n",
       "    <tr style=\"text-align: right;\">\n",
       "      <th></th>\n",
       "      <th>user_id</th>\n",
       "      <th>item_id</th>\n",
       "      <th>rating</th>\n",
       "    </tr>\n",
       "  </thead>\n",
       "  <tbody>\n",
       "    <tr>\n",
       "      <th>0</th>\n",
       "      <td>864613</td>\n",
       "      <td>s7638</td>\n",
       "      <td>1</td>\n",
       "    </tr>\n",
       "    <tr>\n",
       "      <th>1</th>\n",
       "      <td>15607</td>\n",
       "      <td>s3043</td>\n",
       "      <td>1</td>\n",
       "    </tr>\n",
       "    <tr>\n",
       "      <th>2</th>\n",
       "      <td>81786</td>\n",
       "      <td>s2616</td>\n",
       "      <td>1</td>\n",
       "    </tr>\n",
       "    <tr>\n",
       "      <th>3</th>\n",
       "      <td>474544</td>\n",
       "      <td>s10440</td>\n",
       "      <td>1</td>\n",
       "    </tr>\n",
       "    <tr>\n",
       "      <th>4</th>\n",
       "      <td>810825</td>\n",
       "      <td>s4223</td>\n",
       "      <td>1</td>\n",
       "    </tr>\n",
       "    <tr>\n",
       "      <th>...</th>\n",
       "      <td>...</td>\n",
       "      <td>...</td>\n",
       "      <td>...</td>\n",
       "    </tr>\n",
       "    <tr>\n",
       "      <th>447401</th>\n",
       "      <td>13243</td>\n",
       "      <td>s2657</td>\n",
       "      <td>-1</td>\n",
       "    </tr>\n",
       "    <tr>\n",
       "      <th>447402</th>\n",
       "      <td>565181</td>\n",
       "      <td>s15297</td>\n",
       "      <td>-1</td>\n",
       "    </tr>\n",
       "    <tr>\n",
       "      <th>447403</th>\n",
       "      <td>616080</td>\n",
       "      <td>s15297</td>\n",
       "      <td>-1</td>\n",
       "    </tr>\n",
       "    <tr>\n",
       "      <th>447404</th>\n",
       "      <td>337043</td>\n",
       "      <td>s9689</td>\n",
       "      <td>1</td>\n",
       "    </tr>\n",
       "    <tr>\n",
       "      <th>447405</th>\n",
       "      <td>610017</td>\n",
       "      <td>s7107</td>\n",
       "      <td>-1</td>\n",
       "    </tr>\n",
       "  </tbody>\n",
       "</table>\n",
       "<p>447406 rows × 3 columns</p>\n",
       "</div>"
      ],
      "text/plain": [
       "        user_id item_id  rating\n",
       "0        864613   s7638       1\n",
       "1         15607   s3043       1\n",
       "2         81786   s2616       1\n",
       "3        474544  s10440       1\n",
       "4        810825   s4223       1\n",
       "...         ...     ...     ...\n",
       "447401    13243   s2657      -1\n",
       "447402   565181  s15297      -1\n",
       "447403   616080  s15297      -1\n",
       "447404   337043   s9689       1\n",
       "447405   610017   s7107      -1\n",
       "\n",
       "[447406 rows x 3 columns]"
      ]
     },
     "execution_count": 9,
     "metadata": {},
     "output_type": "execute_result"
    }
   ],
   "source": [
    "df_interactions"
   ]
  },
  {
   "cell_type": "code",
   "execution_count": 10,
   "id": "99aa1cc5",
   "metadata": {},
   "outputs": [],
   "source": [
    "# Отложим 1000 наблюдений в качестве тестовой выборки. На них будем считать метрику MAP@10.\n",
    "# Немного наблюдений в качестве теста, потому что кажется, что дело это не быстрое. \n",
    "\n",
    "test_samples = np.random.choice(range(len(df_interactions)), size = 1000, replace=False)\n",
    "\n",
    "df_train = df_interactions.drop(test_samples)\n",
    "df_test = df_interactions.iloc[test_samples]"
   ]
  },
  {
   "cell_type": "code",
   "execution_count": 11,
   "id": "823ce899",
   "metadata": {},
   "outputs": [],
   "source": [
    "# Соберем словарь {user: [items]}, потому что так быстрее будет работать поиск истории по юзерам\n",
    "train_db = {user: items.item().split(', ') for user, items in (df_train\n",
    "                                                               .groupby('user_id')\n",
    "                                                               .agg({'item_id': lambda x: ', '.join(x)})\n",
    "                                                               .iterrows())}"
   ]
  },
  {
   "cell_type": "code",
   "execution_count": 12,
   "id": "a021569d",
   "metadata": {},
   "outputs": [
    {
     "data": {
      "text/plain": [
       "70"
      ]
     },
     "execution_count": 12,
     "metadata": {},
     "output_type": "execute_result"
    }
   ],
   "source": [
    "# Посмотрим максимальное количество посмотренных сериалов. Спойлер - не так много\n",
    "max(len(i) for i in train_db.values())"
   ]
  },
  {
   "cell_type": "code",
   "execution_count": 13,
   "id": "5ac03cf6",
   "metadata": {},
   "outputs": [],
   "source": [
    "# Соберем список пар (user: item) из test, чтобы по нему итерироваться\n",
    "test_data = df_test[['user_id', 'item_id']].values"
   ]
  },
  {
   "cell_type": "code",
   "execution_count": 31,
   "id": "5d0b10e7",
   "metadata": {},
   "outputs": [],
   "source": [
    "# Функция, которая будет считать эксперименты \n",
    "def experiment(run_name, model, model_params, recommend_params, my_favorites, k=10):\n",
    "    with mlflow.start_run(run_name=run_name):\n",
    "        mlflow.log_params(model_params)\n",
    "        \n",
    "        time_start = time()\n",
    "        model.fit(interaction_data=df_train.rename({'user_id': 'user', 'item_id': 'item'}, axis=1),\n",
    "                  **model_params)\n",
    "        mlflow.log_metric(f'fit_time', time()-time_start)\n",
    "        \n",
    "        maps = []\n",
    "        times = []\n",
    "        for new_user, new_item in tqdm(test_data):\n",
    "            user_favorites = train_db.get(new_user, [])\n",
    "            time_start = time()\n",
    "            recs = model.recommend(user_favorites, k, **recommend_params)\n",
    "            times.append(time()-time_start)\n",
    "            maps.append(average_single_precision(new_item, recs))\n",
    "        \n",
    "        \n",
    "        mlflow.log_metric(f'MAP_on_{k}', sum(maps)/len(maps))\n",
    "        mlflow.log_metric(f'time_to_rec', sum(times)/len(times))\n",
    "        \n",
    "        my_recs = model.recommend(my_favorites, k, **recommend_params)\n",
    "        \n",
    "        \n",
    "        mlflow.log_text(' \\n '.join(i + ' - ' + j + ' - ' + z for k in my_recs for i, j, z in df_series.query('item_id==@k')[['title', \n",
    "                                                                                                                              'genres',\n",
    "                                                                                                                              'countries']\n",
    "                                                                                                                            ].values),\n",
    "                        'my_recs.txt')\n",
    "\n",
    "        with open(model_path / f'{run_name}_model_series.pickle', 'wb') as f:\n",
    "            pickle.dump(model, f)\n",
    "\n",
    "        mlflow.log_artifact(model_path / f'{run_name}_model_series.pickle')"
   ]
  },
  {
   "cell_type": "code",
   "execution_count": 35,
   "id": "cf3c174d",
   "metadata": {},
   "outputs": [],
   "source": [
    "model_path = Path('../src/models/models_storage')"
   ]
  },
  {
   "cell_type": "code",
   "execution_count": 36,
   "id": "bf2134b0",
   "metadata": {},
   "outputs": [],
   "source": [
    "my_favorites = ['s9157', 's15314', 's1204']"
   ]
  },
  {
   "cell_type": "code",
   "execution_count": 37,
   "id": "b9e1fbb6",
   "metadata": {},
   "outputs": [
    {
     "data": {
      "text/html": [
       "<div>\n",
       "<style scoped>\n",
       "    .dataframe tbody tr th:only-of-type {\n",
       "        vertical-align: middle;\n",
       "    }\n",
       "\n",
       "    .dataframe tbody tr th {\n",
       "        vertical-align: top;\n",
       "    }\n",
       "\n",
       "    .dataframe thead th {\n",
       "        text-align: right;\n",
       "    }\n",
       "</style>\n",
       "<table border=\"1\" class=\"dataframe\">\n",
       "  <thead>\n",
       "    <tr style=\"text-align: right;\">\n",
       "      <th></th>\n",
       "      <th>item_id</th>\n",
       "      <th>title</th>\n",
       "      <th>release_year</th>\n",
       "      <th>genres</th>\n",
       "      <th>countries</th>\n",
       "      <th>age_rating</th>\n",
       "      <th>directors</th>\n",
       "    </tr>\n",
       "  </thead>\n",
       "  <tbody>\n",
       "    <tr>\n",
       "      <th>4890</th>\n",
       "      <td>s1204</td>\n",
       "      <td>Почему женщины убивают</td>\n",
       "      <td>2019.0</td>\n",
       "      <td>драмы, мелодрамы, триллеры, комедии</td>\n",
       "      <td>США</td>\n",
       "      <td>18.0</td>\n",
       "      <td>Дэвид Гроссман, Дэвид Уоррен</td>\n",
       "    </tr>\n",
       "    <tr>\n",
       "      <th>9720</th>\n",
       "      <td>s9157</td>\n",
       "      <td>Твин Пикс</td>\n",
       "      <td>1990.0</td>\n",
       "      <td>драмы, мистика, триллеры, детективы</td>\n",
       "      <td>США</td>\n",
       "      <td>18.0</td>\n",
       "      <td>Дэвид Линч, Калеб Дешанель, Лесли Линка Глаттер</td>\n",
       "    </tr>\n",
       "    <tr>\n",
       "      <th>11848</th>\n",
       "      <td>s15314</td>\n",
       "      <td>Острые козырьки</td>\n",
       "      <td>2013.0</td>\n",
       "      <td>драмы, криминал</td>\n",
       "      <td>Великобритания</td>\n",
       "      <td>16.0</td>\n",
       "      <td>Колм МакКарти, Тим Милантс, Дэвид Кэффри</td>\n",
       "    </tr>\n",
       "  </tbody>\n",
       "</table>\n",
       "</div>"
      ],
      "text/plain": [
       "      item_id                   title  release_year  \\\n",
       "4890    s1204  Почему женщины убивают        2019.0   \n",
       "9720    s9157               Твин Пикс        1990.0   \n",
       "11848  s15314         Острые козырьки        2013.0   \n",
       "\n",
       "                                    genres       countries  age_rating  \\\n",
       "4890   драмы, мелодрамы, триллеры, комедии             США        18.0   \n",
       "9720   драмы, мистика, триллеры, детективы             США        18.0   \n",
       "11848                      драмы, криминал  Великобритания        16.0   \n",
       "\n",
       "                                             directors  \n",
       "4890                      Дэвид Гроссман, Дэвид Уоррен  \n",
       "9720   Дэвид Линч, Калеб Дешанель, Лесли Линка Глаттер  \n",
       "11848         Колм МакКарти, Тим Милантс, Дэвид Кэффри  "
      ]
     },
     "execution_count": 37,
     "metadata": {},
     "output_type": "execute_result"
    }
   ],
   "source": [
    "df_series[df_series.item_id.isin(my_favorites)]"
   ]
  },
  {
   "cell_type": "code",
   "execution_count": 39,
   "id": "83294d65",
   "metadata": {},
   "outputs": [
    {
     "name": "stderr",
     "output_type": "stream",
     "text": [
      "100%|████████████████████████████████████████████████████████████████████████████| 1000/1000 [00:00<00:00, 5649.61it/s]\n"
     ]
    }
   ],
   "source": [
    "experiment('Top count recommends', TopRecommender(), {'n_to_save':100, 'metric':'count'}, {'mode':'deterministic'},\n",
    "           my_favorites, k=10)"
   ]
  },
  {
   "cell_type": "code",
   "execution_count": 40,
   "id": "4d52dccc",
   "metadata": {},
   "outputs": [
    {
     "name": "stderr",
     "output_type": "stream",
     "text": [
      "100%|████████████████████████████████████████████████████████████████████████████| 1000/1000 [00:00<00:00, 1282.05it/s]\n"
     ]
    }
   ],
   "source": [
    "experiment('Random recommends', TopRecommender(), {'n_to_save':1000, 'metric':'count'}, {'mode':'probabilistic'},\n",
    "           my_favorites, k=10)"
   ]
  },
  {
   "cell_type": "code",
   "execution_count": 41,
   "id": "e3c8706a",
   "metadata": {},
   "outputs": [
    {
     "name": "stderr",
     "output_type": "stream",
     "text": [
      "100%|█████████████████████████████████████████████████████████████████████████████| 1000/1000 [00:01<00:00, 732.48it/s]\n"
     ]
    }
   ],
   "source": [
    "experiment('CosineDistanceRecommender', CosineDistanceRecommender(), {}, {'mode':'deterministic'},\n",
    "           my_favorites, k=10)"
   ]
  },
  {
   "cell_type": "code",
   "execution_count": 59,
   "id": "805e000c",
   "metadata": {},
   "outputs": [
    {
     "name": "stderr",
     "output_type": "stream",
     "text": [
      "100%|█████████████████████████████████████████████████████████████████████████████| 1000/1000 [00:01<00:00, 580.60it/s]\n"
     ]
    }
   ],
   "source": [
    "experiment('CosineDistanceRecommender + random', CosineDistanceRecommender(), {}, {'mode':'probabilistic'},\n",
    "           my_favorites, k=10)"
   ]
  },
  {
   "cell_type": "code",
   "execution_count": 72,
   "id": "4278d1d0",
   "metadata": {},
   "outputs": [
    {
     "data": {
      "application/vnd.jupyter.widget-view+json": {
       "model_id": "df9cac4d8ea242a5819954c421120e00",
       "version_major": 2,
       "version_minor": 0
      },
      "text/plain": [
       "  0%|          | 0/15 [00:00<?, ?it/s]"
      ]
     },
     "metadata": {},
     "output_type": "display_data"
    },
    {
     "name": "stderr",
     "output_type": "stream",
     "text": [
      "100%|█████████████████████████████████████████████████████████████████████████████| 1000/1000 [00:01<00:00, 745.16it/s]\n"
     ]
    }
   ],
   "source": [
    "experiment('ALS Recommender', ALSBasedRecommender(), {}, {},\n",
    "           my_favorites, k=10)"
   ]
  },
  {
   "cell_type": "code",
   "execution_count": 73,
   "id": "e3c3aadf",
   "metadata": {},
   "outputs": [],
   "source": [
    "df_train['rating'] += 2"
   ]
  },
  {
   "cell_type": "code",
   "execution_count": 74,
   "id": "dfeec771",
   "metadata": {},
   "outputs": [
    {
     "data": {
      "application/vnd.jupyter.widget-view+json": {
       "model_id": "17aeaaae2c8b47998f169f4a7584d85b",
       "version_major": 2,
       "version_minor": 0
      },
      "text/plain": [
       "  0%|          | 0/15 [00:00<?, ?it/s]"
      ]
     },
     "metadata": {},
     "output_type": "display_data"
    },
    {
     "name": "stderr",
     "output_type": "stream",
     "text": [
      "100%|█████████████████████████████████████████████████████████████████████████████| 1000/1000 [00:01<00:00, 734.75it/s]\n"
     ]
    }
   ],
   "source": [
    "experiment('ALS Recommender + changed DS', ALSBasedRecommender(), {}, {},\n",
    "           my_favorites, k=10)"
   ]
  },
  {
   "cell_type": "code",
   "execution_count": 75,
   "id": "a1d74338",
   "metadata": {},
   "outputs": [
    {
     "data": {
      "application/vnd.jupyter.widget-view+json": {
       "model_id": "643df273e3b240c68b131e3c4ac3a37d",
       "version_major": 2,
       "version_minor": 0
      },
      "text/plain": [
       "  0%|          | 0/30 [00:00<?, ?it/s]"
      ]
     },
     "metadata": {},
     "output_type": "display_data"
    },
    {
     "name": "stderr",
     "output_type": "stream",
     "text": [
      "100%|████████████████████████████████████████████████████████████████████████████| 1000/1000 [00:00<00:00, 1026.70it/s]\n"
     ]
    }
   ],
   "source": [
    "experiment('ALS Recommender + changed DS', ALSBasedRecommender(), {'factors': 10, 'regularization': 0.5, 'iterations': 30}, {},\n",
    "           my_favorites, k=10)"
   ]
  },
  {
   "cell_type": "code",
   "execution_count": 76,
   "id": "9244cb0b",
   "metadata": {},
   "outputs": [
    {
     "data": {
      "application/vnd.jupyter.widget-view+json": {
       "model_id": "2294a7927b3b4cca9b7ca08a821c4297",
       "version_major": 2,
       "version_minor": 0
      },
      "text/plain": [
       "  0%|          | 0/30 [00:00<?, ?it/s]"
      ]
     },
     "metadata": {},
     "output_type": "display_data"
    },
    {
     "name": "stderr",
     "output_type": "stream",
     "text": [
      "100%|█████████████████████████████████████████████████████████████████████████████| 1000/1000 [00:01<00:00, 840.33it/s]\n"
     ]
    }
   ],
   "source": [
    "experiment('ALS Recommender + changed DS', ALSBasedRecommender(), {'factors': 50, 'regularization': 1, 'iterations': 30}, {},\n",
    "           my_favorites, k=10)"
   ]
  },
  {
   "cell_type": "markdown",
   "id": "ddfa3ca7",
   "metadata": {},
   "source": [
    "## Попробуем подобрать гипперы для ALS"
   ]
  },
  {
   "cell_type": "code",
   "execution_count": 78,
   "id": "d2622af6",
   "metadata": {},
   "outputs": [],
   "source": [
    "# Отложим 1000 наблюдений в качестве валидационной выборки\n",
    "\n",
    "val_samples = np.random.choice(range(len(df_train)), size = 1000, replace=False)\n",
    "\n",
    "df_train_val = df_train.iloc[val_samples]\n",
    "df_train_train = df_train[~df_train.index.isin(df_train_val.index)]"
   ]
  },
  {
   "cell_type": "code",
   "execution_count": 85,
   "id": "490d5aeb",
   "metadata": {},
   "outputs": [],
   "source": [
    "train_db_new = {user: items.item().split(', ') for user, items in (df_train_train\n",
    "                                                               .groupby('user_id')\n",
    "                                                               .agg({'item_id': lambda x: ', '.join(x)})\n",
    "                                                               .iterrows())}"
   ]
  },
  {
   "cell_type": "code",
   "execution_count": 89,
   "id": "a0d66dea",
   "metadata": {},
   "outputs": [],
   "source": [
    "# Напишем функцию для подбора гипперов\n",
    "def objective(trial):\n",
    "    factors = trial.suggest_int(\"factors\", 5, 100)\n",
    "    regularization = trial.suggest_float(\"regularization\", 0, 10)\n",
    "    \n",
    "    model.fit(interaction_data=df_train_train.rename({'user_id': 'user', 'item_id': 'item'}, axis=1),\n",
    "              factors = factors,\n",
    "              regularization = regularization,\n",
    "              iterations=30)\n",
    "    \n",
    "    maps = []\n",
    "    for new_user, new_item in df_train_val[['user_id', 'item_id']].values:\n",
    "        user_favorites = train_db_new.get(new_user, [])\n",
    "        recs = model.recommend(user_favorites, 10)\n",
    "        maps.append(average_single_precision(new_item, recs))\n",
    "\n",
    "    \n",
    "    return sum(maps)/len(maps)"
   ]
  },
  {
   "cell_type": "code",
   "execution_count": 90,
   "id": "46eec903",
   "metadata": {},
   "outputs": [],
   "source": [
    "model = ALSBasedRecommender()"
   ]
  },
  {
   "cell_type": "code",
   "execution_count": 92,
   "id": "1c4000ad",
   "metadata": {
    "scrolled": true
   },
   "outputs": [
    {
     "name": "stderr",
     "output_type": "stream",
     "text": [
      "\u001b[32m[I 2023-04-18 01:15:55,827]\u001b[0m A new study created in memory with name: no-name-79b976d2-d68c-4c37-864d-6406a640a1e2\u001b[0m\n"
     ]
    },
    {
     "data": {
      "application/vnd.jupyter.widget-view+json": {
       "model_id": "9e45f234d05544f198f4d14e1c5d1e0f",
       "version_major": 2,
       "version_minor": 0
      },
      "text/plain": [
       "  0%|          | 0/30 [00:00<?, ?it/s]"
      ]
     },
     "metadata": {},
     "output_type": "display_data"
    },
    {
     "name": "stderr",
     "output_type": "stream",
     "text": [
      "\u001b[32m[I 2023-04-18 01:16:13,914]\u001b[0m Trial 0 finished with value: 0.016224960317460315 and parameters: {'factors': 38, 'regularization': 9.919748184947982}. Best is trial 0 with value: 0.016224960317460315.\u001b[0m\n"
     ]
    },
    {
     "data": {
      "application/vnd.jupyter.widget-view+json": {
       "model_id": "2de82150dd81473d95f6368a8310f3d3",
       "version_major": 2,
       "version_minor": 0
      },
      "text/plain": [
       "  0%|          | 0/30 [00:00<?, ?it/s]"
      ]
     },
     "metadata": {},
     "output_type": "display_data"
    },
    {
     "name": "stderr",
     "output_type": "stream",
     "text": [
      "\u001b[32m[I 2023-04-18 01:17:12,526]\u001b[0m Trial 1 finished with value: 0.019889325396825423 and parameters: {'factors': 97, 'regularization': 7.748745346339712}. Best is trial 1 with value: 0.019889325396825423.\u001b[0m\n"
     ]
    },
    {
     "data": {
      "application/vnd.jupyter.widget-view+json": {
       "model_id": "cff5a2ab02704e2c9dd80fc25912ee1c",
       "version_major": 2,
       "version_minor": 0
      },
      "text/plain": [
       "  0%|          | 0/30 [00:00<?, ?it/s]"
      ]
     },
     "metadata": {},
     "output_type": "display_data"
    },
    {
     "name": "stderr",
     "output_type": "stream",
     "text": [
      "\u001b[32m[I 2023-04-18 01:17:39,801]\u001b[0m Trial 2 finished with value: 0.02059658730158734 and parameters: {'factors': 84, 'regularization': 9.375236971368652}. Best is trial 2 with value: 0.02059658730158734.\u001b[0m\n"
     ]
    },
    {
     "data": {
      "application/vnd.jupyter.widget-view+json": {
       "model_id": "0d114b5dd11d4aaf982d71ceb8312219",
       "version_major": 2,
       "version_minor": 0
      },
      "text/plain": [
       "  0%|          | 0/30 [00:00<?, ?it/s]"
      ]
     },
     "metadata": {},
     "output_type": "display_data"
    },
    {
     "name": "stderr",
     "output_type": "stream",
     "text": [
      "\u001b[32m[I 2023-04-18 01:18:19,070]\u001b[0m Trial 3 finished with value: 0.016541269841269832 and parameters: {'factors': 99, 'regularization': 5.093130616311459}. Best is trial 2 with value: 0.02059658730158734.\u001b[0m\n"
     ]
    },
    {
     "data": {
      "application/vnd.jupyter.widget-view+json": {
       "model_id": "6f0f064d5757460081a9b5f5aac949c7",
       "version_major": 2,
       "version_minor": 0
      },
      "text/plain": [
       "  0%|          | 0/30 [00:00<?, ?it/s]"
      ]
     },
     "metadata": {},
     "output_type": "display_data"
    },
    {
     "name": "stderr",
     "output_type": "stream",
     "text": [
      "\u001b[32m[I 2023-04-18 01:18:33,406]\u001b[0m Trial 4 finished with value: 0.008406468253968243 and parameters: {'factors': 22, 'regularization': 9.400437314550514}. Best is trial 2 with value: 0.02059658730158734.\u001b[0m\n"
     ]
    },
    {
     "data": {
      "application/vnd.jupyter.widget-view+json": {
       "model_id": "e6ab534c35864fea88714bbdfc3364e0",
       "version_major": 2,
       "version_minor": 0
      },
      "text/plain": [
       "  0%|          | 0/30 [00:00<?, ?it/s]"
      ]
     },
     "metadata": {},
     "output_type": "display_data"
    },
    {
     "name": "stderr",
     "output_type": "stream",
     "text": [
      "\u001b[32m[I 2023-04-18 01:18:55,972]\u001b[0m Trial 5 finished with value: 0.012120793650793634 and parameters: {'factors': 44, 'regularization': 6.244827333876559}. Best is trial 2 with value: 0.02059658730158734.\u001b[0m\n"
     ]
    },
    {
     "data": {
      "application/vnd.jupyter.widget-view+json": {
       "model_id": "528daa364a2446fbbfd0a5f2514923fb",
       "version_major": 2,
       "version_minor": 0
      },
      "text/plain": [
       "  0%|          | 0/30 [00:00<?, ?it/s]"
      ]
     },
     "metadata": {},
     "output_type": "display_data"
    },
    {
     "name": "stderr",
     "output_type": "stream",
     "text": [
      "\u001b[32m[I 2023-04-18 01:19:05,200]\u001b[0m Trial 6 finished with value: 0.014920793650793648 and parameters: {'factors': 5, 'regularization': 0.9888031068997993}. Best is trial 2 with value: 0.02059658730158734.\u001b[0m\n"
     ]
    },
    {
     "data": {
      "application/vnd.jupyter.widget-view+json": {
       "model_id": "743b5e55a15b4078973a433f1fa4e79f",
       "version_major": 2,
       "version_minor": 0
      },
      "text/plain": [
       "  0%|          | 0/30 [00:00<?, ?it/s]"
      ]
     },
     "metadata": {},
     "output_type": "display_data"
    },
    {
     "name": "stderr",
     "output_type": "stream",
     "text": [
      "\u001b[32m[I 2023-04-18 01:19:33,317]\u001b[0m Trial 7 finished with value: 0.0025986507936507936 and parameters: {'factors': 82, 'regularization': 0.4978743151945453}. Best is trial 2 with value: 0.02059658730158734.\u001b[0m\n"
     ]
    },
    {
     "data": {
      "application/vnd.jupyter.widget-view+json": {
       "model_id": "cd3b781ed8c840ecba98f19b5e588cc0",
       "version_major": 2,
       "version_minor": 0
      },
      "text/plain": [
       "  0%|          | 0/30 [00:00<?, ?it/s]"
      ]
     },
     "metadata": {},
     "output_type": "display_data"
    },
    {
     "name": "stderr",
     "output_type": "stream",
     "text": [
      "\u001b[32m[I 2023-04-18 01:19:50,139]\u001b[0m Trial 8 finished with value: 0.01440857142857141 and parameters: {'factors': 52, 'regularization': 6.249908880335084}. Best is trial 2 with value: 0.02059658730158734.\u001b[0m\n"
     ]
    },
    {
     "data": {
      "application/vnd.jupyter.widget-view+json": {
       "model_id": "b01f1726d34a484290224c9ef4d91ef5",
       "version_major": 2,
       "version_minor": 0
      },
      "text/plain": [
       "  0%|          | 0/30 [00:00<?, ?it/s]"
      ]
     },
     "metadata": {},
     "output_type": "display_data"
    },
    {
     "name": "stderr",
     "output_type": "stream",
     "text": [
      "\u001b[32m[I 2023-04-18 01:20:26,758]\u001b[0m Trial 9 finished with value: 0.013671944444444431 and parameters: {'factors': 84, 'regularization': 4.589232397201232}. Best is trial 2 with value: 0.02059658730158734.\u001b[0m\n"
     ]
    },
    {
     "data": {
      "application/vnd.jupyter.widget-view+json": {
       "model_id": "d63d4b8055c449658bf274d549598005",
       "version_major": 2,
       "version_minor": 0
      },
      "text/plain": [
       "  0%|          | 0/30 [00:00<?, ?it/s]"
      ]
     },
     "metadata": {},
     "output_type": "display_data"
    },
    {
     "name": "stderr",
     "output_type": "stream",
     "text": [
      "\u001b[32m[I 2023-04-18 01:20:55,611]\u001b[0m Trial 10 finished with value: 0.019101825396825423 and parameters: {'factors': 69, 'regularization': 8.375707337460392}. Best is trial 2 with value: 0.02059658730158734.\u001b[0m\n"
     ]
    },
    {
     "data": {
      "application/vnd.jupyter.widget-view+json": {
       "model_id": "663e90a77e9449cdbc0f0b9e5a7d671c",
       "version_major": 2,
       "version_minor": 0
      },
      "text/plain": [
       "  0%|          | 0/30 [00:00<?, ?it/s]"
      ]
     },
     "metadata": {},
     "output_type": "display_data"
    },
    {
     "name": "stderr",
     "output_type": "stream",
     "text": [
      "\u001b[32m[I 2023-04-18 01:21:35,834]\u001b[0m Trial 11 finished with value: 0.019889682539682572 and parameters: {'factors': 100, 'regularization': 7.781487265939125}. Best is trial 2 with value: 0.02059658730158734.\u001b[0m\n"
     ]
    },
    {
     "data": {
      "application/vnd.jupyter.widget-view+json": {
       "model_id": "55f1cb54d9364b4bbe39f3e9823f0d51",
       "version_major": 2,
       "version_minor": 0
      },
      "text/plain": [
       "  0%|          | 0/30 [00:00<?, ?it/s]"
      ]
     },
     "metadata": {},
     "output_type": "display_data"
    },
    {
     "name": "stderr",
     "output_type": "stream",
     "text": [
      "\u001b[32m[I 2023-04-18 01:22:09,382]\u001b[0m Trial 12 finished with value: 0.019805198412698444 and parameters: {'factors': 73, 'regularization': 8.265286757457549}. Best is trial 2 with value: 0.02059658730158734.\u001b[0m\n"
     ]
    },
    {
     "data": {
      "application/vnd.jupyter.widget-view+json": {
       "model_id": "bc3fa5c8c2d44444af5e6cb448eee995",
       "version_major": 2,
       "version_minor": 0
      },
      "text/plain": [
       "  0%|          | 0/30 [00:00<?, ?it/s]"
      ]
     },
     "metadata": {},
     "output_type": "display_data"
    },
    {
     "name": "stderr",
     "output_type": "stream",
     "text": [
      "\u001b[32m[I 2023-04-18 01:22:36,049]\u001b[0m Trial 13 finished with value: 0.020472936507936558 and parameters: {'factors': 69, 'regularization': 9.919675769508727}. Best is trial 2 with value: 0.02059658730158734.\u001b[0m\n"
     ]
    },
    {
     "data": {
      "application/vnd.jupyter.widget-view+json": {
       "model_id": "d21d0bf599e248b49691ed0ddec5b9cf",
       "version_major": 2,
       "version_minor": 0
      },
      "text/plain": [
       "  0%|          | 0/30 [00:00<?, ?it/s]"
      ]
     },
     "metadata": {},
     "output_type": "display_data"
    },
    {
     "name": "stderr",
     "output_type": "stream",
     "text": [
      "\u001b[32m[I 2023-04-18 01:23:00,949]\u001b[0m Trial 14 finished with value: 0.020242261904761933 and parameters: {'factors': 64, 'regularization': 9.463279650947177}. Best is trial 2 with value: 0.02059658730158734.\u001b[0m\n"
     ]
    },
    {
     "data": {
      "application/vnd.jupyter.widget-view+json": {
       "model_id": "31f6a774b0074f8482daadce792c368f",
       "version_major": 2,
       "version_minor": 0
      },
      "text/plain": [
       "  0%|          | 0/30 [00:00<?, ?it/s]"
      ]
     },
     "metadata": {},
     "output_type": "display_data"
    },
    {
     "name": "stderr",
     "output_type": "stream",
     "text": [
      "\u001b[32m[I 2023-04-18 01:23:27,206]\u001b[0m Trial 15 finished with value: 0.020556547619047662 and parameters: {'factors': 62, 'regularization': 9.91345569968235}. Best is trial 2 with value: 0.02059658730158734.\u001b[0m\n"
     ]
    },
    {
     "data": {
      "application/vnd.jupyter.widget-view+json": {
       "model_id": "449fc99a711841b6babde2983400b917",
       "version_major": 2,
       "version_minor": 0
      },
      "text/plain": [
       "  0%|          | 0/30 [00:00<?, ?it/s]"
      ]
     },
     "metadata": {},
     "output_type": "display_data"
    },
    {
     "name": "stderr",
     "output_type": "stream",
     "text": [
      "\u001b[32m[I 2023-04-18 01:23:46,762]\u001b[0m Trial 16 finished with value: 0.018722857142857163 and parameters: {'factors': 54, 'regularization': 8.408237373631573}. Best is trial 2 with value: 0.02059658730158734.\u001b[0m\n"
     ]
    },
    {
     "data": {
      "application/vnd.jupyter.widget-view+json": {
       "model_id": "791ff9689359459aaa257b6d169e7e02",
       "version_major": 2,
       "version_minor": 0
      },
      "text/plain": [
       "  0%|          | 0/30 [00:00<?, ?it/s]"
      ]
     },
     "metadata": {},
     "output_type": "display_data"
    },
    {
     "name": "stderr",
     "output_type": "stream",
     "text": [
      "\u001b[32m[I 2023-04-18 01:24:23,919]\u001b[0m Trial 17 finished with value: 0.01864750000000001 and parameters: {'factors': 83, 'regularization': 7.08135545428782}. Best is trial 2 with value: 0.02059658730158734.\u001b[0m\n"
     ]
    },
    {
     "data": {
      "application/vnd.jupyter.widget-view+json": {
       "model_id": "9da89c718c88403cb4676100add7d3be",
       "version_major": 2,
       "version_minor": 0
      },
      "text/plain": [
       "  0%|          | 0/30 [00:00<?, ?it/s]"
      ]
     },
     "metadata": {},
     "output_type": "display_data"
    },
    {
     "name": "stderr",
     "output_type": "stream",
     "text": [
      "\u001b[32m[I 2023-04-18 01:24:50,479]\u001b[0m Trial 18 finished with value: 0.019200555555555585 and parameters: {'factors': 57, 'regularization': 8.99277728967387}. Best is trial 2 with value: 0.02059658730158734.\u001b[0m\n"
     ]
    },
    {
     "data": {
      "application/vnd.jupyter.widget-view+json": {
       "model_id": "32423b0de053472ea7185174527e88f2",
       "version_major": 2,
       "version_minor": 0
      },
      "text/plain": [
       "  0%|          | 0/30 [00:00<?, ?it/s]"
      ]
     },
     "metadata": {},
     "output_type": "display_data"
    },
    {
     "name": "stderr",
     "output_type": "stream",
     "text": [
      "\u001b[32m[I 2023-04-18 01:25:10,384]\u001b[0m Trial 19 finished with value: 0.014561865079365058 and parameters: {'factors': 33, 'regularization': 8.90568819516401}. Best is trial 2 with value: 0.02059658730158734.\u001b[0m\n"
     ]
    },
    {
     "data": {
      "application/vnd.jupyter.widget-view+json": {
       "model_id": "14507fd21b8a4063bb23c89d6b7e339a",
       "version_major": 2,
       "version_minor": 0
      },
      "text/plain": [
       "  0%|          | 0/30 [00:00<?, ?it/s]"
      ]
     },
     "metadata": {},
     "output_type": "display_data"
    },
    {
     "name": "stderr",
     "output_type": "stream",
     "text": [
      "\u001b[32m[I 2023-04-18 01:25:41,024]\u001b[0m Trial 20 finished with value: 0.019110714285714297 and parameters: {'factors': 89, 'regularization': 7.150945238140539}. Best is trial 2 with value: 0.02059658730158734.\u001b[0m\n"
     ]
    },
    {
     "data": {
      "application/vnd.jupyter.widget-view+json": {
       "model_id": "85ee66b869454f40a5361e548bc7b633",
       "version_major": 2,
       "version_minor": 0
      },
      "text/plain": [
       "  0%|          | 0/30 [00:00<?, ?it/s]"
      ]
     },
     "metadata": {},
     "output_type": "display_data"
    },
    {
     "name": "stderr",
     "output_type": "stream",
     "text": [
      "\u001b[32m[I 2023-04-18 01:26:10,937]\u001b[0m Trial 21 finished with value: 0.020669365079365124 and parameters: {'factors': 73, 'regularization': 9.947220643151725}. Best is trial 21 with value: 0.020669365079365124.\u001b[0m\n"
     ]
    },
    {
     "data": {
      "application/vnd.jupyter.widget-view+json": {
       "model_id": "938e7db6c69b4043a8d1ab0f2ad8f6cc",
       "version_major": 2,
       "version_minor": 0
      },
      "text/plain": [
       "  0%|          | 0/30 [00:00<?, ?it/s]"
      ]
     },
     "metadata": {},
     "output_type": "display_data"
    },
    {
     "name": "stderr",
     "output_type": "stream",
     "text": [
      "\u001b[32m[I 2023-04-18 01:26:38,747]\u001b[0m Trial 22 finished with value: 0.020789484126984177 and parameters: {'factors': 79, 'regularization': 9.860345016597467}. Best is trial 22 with value: 0.020789484126984177.\u001b[0m\n"
     ]
    },
    {
     "data": {
      "application/vnd.jupyter.widget-view+json": {
       "model_id": "0c3b9dcd70194424902b7569af559bc9",
       "version_major": 2,
       "version_minor": 0
      },
      "text/plain": [
       "  0%|          | 0/30 [00:00<?, ?it/s]"
      ]
     },
     "metadata": {},
     "output_type": "display_data"
    },
    {
     "name": "stderr",
     "output_type": "stream",
     "text": [
      "\u001b[32m[I 2023-04-18 01:27:07,309]\u001b[0m Trial 23 finished with value: 0.020141944444444487 and parameters: {'factors': 78, 'regularization': 9.076876715902522}. Best is trial 22 with value: 0.020789484126984177.\u001b[0m\n"
     ]
    },
    {
     "data": {
      "application/vnd.jupyter.widget-view+json": {
       "model_id": "56e8a01a204048bab5851d11d3e9f1b1",
       "version_major": 2,
       "version_minor": 0
      },
      "text/plain": [
       "  0%|          | 0/30 [00:00<?, ?it/s]"
      ]
     },
     "metadata": {},
     "output_type": "display_data"
    },
    {
     "name": "stderr",
     "output_type": "stream",
     "text": [
      "\u001b[32m[I 2023-04-18 01:27:40,387]\u001b[0m Trial 24 finished with value: 0.02053706349206354 and parameters: {'factors': 77, 'regularization': 9.872573914169088}. Best is trial 22 with value: 0.020789484126984177.\u001b[0m\n"
     ]
    },
    {
     "data": {
      "application/vnd.jupyter.widget-view+json": {
       "model_id": "4e89cadc8f6341ae9c8a2b6a64bb86ef",
       "version_major": 2,
       "version_minor": 0
      },
      "text/plain": [
       "  0%|          | 0/30 [00:00<?, ?it/s]"
      ]
     },
     "metadata": {},
     "output_type": "display_data"
    },
    {
     "name": "stderr",
     "output_type": "stream",
     "text": [
      "\u001b[32m[I 2023-04-18 01:28:19,134]\u001b[0m Trial 25 finished with value: 0.020182023809523844 and parameters: {'factors': 90, 'regularization': 8.836267424384642}. Best is trial 22 with value: 0.020789484126984177.\u001b[0m\n"
     ]
    },
    {
     "data": {
      "application/vnd.jupyter.widget-view+json": {
       "model_id": "4a8dc8eb8e064ca5bb4c5d3f3ab97a03",
       "version_major": 2,
       "version_minor": 0
      },
      "text/plain": [
       "  0%|          | 0/30 [00:00<?, ?it/s]"
      ]
     },
     "metadata": {},
     "output_type": "display_data"
    },
    {
     "name": "stderr",
     "output_type": "stream",
     "text": [
      "\u001b[32m[I 2023-04-18 01:28:51,854]\u001b[0m Trial 26 finished with value: 0.02042107142857147 and parameters: {'factors': 89, 'regularization': 9.192531369477408}. Best is trial 22 with value: 0.020789484126984177.\u001b[0m\n"
     ]
    },
    {
     "data": {
      "application/vnd.jupyter.widget-view+json": {
       "model_id": "ca349e36f1154c43894a61695baf2db3",
       "version_major": 2,
       "version_minor": 0
      },
      "text/plain": [
       "  0%|          | 0/30 [00:00<?, ?it/s]"
      ]
     },
     "metadata": {},
     "output_type": "display_data"
    },
    {
     "name": "stderr",
     "output_type": "stream",
     "text": [
      "\u001b[32m[I 2023-04-18 01:29:16,175]\u001b[0m Trial 27 finished with value: 0.020068412698412738 and parameters: {'factors': 70, 'regularization': 8.482361593388962}. Best is trial 22 with value: 0.020789484126984177.\u001b[0m\n"
     ]
    },
    {
     "data": {
      "application/vnd.jupyter.widget-view+json": {
       "model_id": "2b9f6436ff9c41c5b126751de5f3d300",
       "version_major": 2,
       "version_minor": 0
      },
      "text/plain": [
       "  0%|          | 0/30 [00:00<?, ?it/s]"
      ]
     },
     "metadata": {},
     "output_type": "display_data"
    },
    {
     "name": "stderr",
     "output_type": "stream",
     "text": [
      "\u001b[32m[I 2023-04-18 01:29:45,832]\u001b[0m Trial 28 finished with value: 0.020949206349206394 and parameters: {'factors': 92, 'regularization': 9.970274324848962}. Best is trial 28 with value: 0.020949206349206394.\u001b[0m\n"
     ]
    },
    {
     "data": {
      "application/vnd.jupyter.widget-view+json": {
       "model_id": "42af4cc3fcf642baa82a05b88180641c",
       "version_major": 2,
       "version_minor": 0
      },
      "text/plain": [
       "  0%|          | 0/30 [00:00<?, ?it/s]"
      ]
     },
     "metadata": {},
     "output_type": "display_data"
    },
    {
     "name": "stderr",
     "output_type": "stream",
     "text": [
      "\u001b[32m[I 2023-04-18 01:30:17,864]\u001b[0m Trial 29 finished with value: 0.020507658730158772 and parameters: {'factors': 90, 'regularization': 9.481318594009554}. Best is trial 28 with value: 0.020949206349206394.\u001b[0m\n"
     ]
    },
    {
     "data": {
      "application/vnd.jupyter.widget-view+json": {
       "model_id": "7993dc6ac4b740189b882705f4ef74e2",
       "version_major": 2,
       "version_minor": 0
      },
      "text/plain": [
       "  0%|          | 0/30 [00:00<?, ?it/s]"
      ]
     },
     "metadata": {},
     "output_type": "display_data"
    },
    {
     "name": "stderr",
     "output_type": "stream",
     "text": [
      "\u001b[32m[I 2023-04-18 01:30:36,612]\u001b[0m Trial 30 finished with value: 0.018709682539682554 and parameters: {'factors': 46, 'regularization': 9.886941894650134}. Best is trial 28 with value: 0.020949206349206394.\u001b[0m\n"
     ]
    },
    {
     "data": {
      "application/vnd.jupyter.widget-view+json": {
       "model_id": "62616e5c186d435fb40e59f15c207397",
       "version_major": 2,
       "version_minor": 0
      },
      "text/plain": [
       "  0%|          | 0/30 [00:00<?, ?it/s]"
      ]
     },
     "metadata": {},
     "output_type": "display_data"
    },
    {
     "name": "stderr",
     "output_type": "stream",
     "text": [
      "\u001b[32m[I 2023-04-18 01:31:06,566]\u001b[0m Trial 31 finished with value: 0.02030345238095243 and parameters: {'factors': 77, 'regularization': 9.418236765793036}. Best is trial 28 with value: 0.020949206349206394.\u001b[0m\n"
     ]
    },
    {
     "data": {
      "application/vnd.jupyter.widget-view+json": {
       "model_id": "d0c2650e28ff45bfb9cd2174eeb61e2f",
       "version_major": 2,
       "version_minor": 0
      },
      "text/plain": [
       "  0%|          | 0/30 [00:00<?, ?it/s]"
      ]
     },
     "metadata": {},
     "output_type": "display_data"
    },
    {
     "name": "stderr",
     "output_type": "stream",
     "text": [
      "\u001b[32m[I 2023-04-18 01:31:37,163]\u001b[0m Trial 32 finished with value: 0.02102349206349212 and parameters: {'factors': 92, 'regularization': 9.905673538017696}. Best is trial 32 with value: 0.02102349206349212.\u001b[0m\n"
     ]
    },
    {
     "data": {
      "application/vnd.jupyter.widget-view+json": {
       "model_id": "4a6ffc2666104787a515ea725299871c",
       "version_major": 2,
       "version_minor": 0
      },
      "text/plain": [
       "  0%|          | 0/30 [00:00<?, ?it/s]"
      ]
     },
     "metadata": {},
     "output_type": "display_data"
    },
    {
     "name": "stderr",
     "output_type": "stream",
     "text": [
      "\u001b[32m[I 2023-04-18 01:32:16,851]\u001b[0m Trial 33 finished with value: 0.020586587301587335 and parameters: {'factors': 94, 'regularization': 9.952995230888309}. Best is trial 32 with value: 0.02102349206349212.\u001b[0m\n"
     ]
    },
    {
     "data": {
      "application/vnd.jupyter.widget-view+json": {
       "model_id": "b26f53693dac4b9db4a8741109f62781",
       "version_major": 2,
       "version_minor": 0
      },
      "text/plain": [
       "  0%|          | 0/30 [00:00<?, ?it/s]"
      ]
     },
     "metadata": {},
     "output_type": "display_data"
    },
    {
     "name": "stderr",
     "output_type": "stream",
     "text": [
      "\u001b[32m[I 2023-04-18 01:32:54,896]\u001b[0m Trial 34 finished with value: 0.019921269841269875 and parameters: {'factors': 95, 'regularization': 7.861390364955381}. Best is trial 32 with value: 0.02102349206349212.\u001b[0m\n"
     ]
    },
    {
     "data": {
      "application/vnd.jupyter.widget-view+json": {
       "model_id": "e3db3e08251f4ca08fb5a979be797d25",
       "version_major": 2,
       "version_minor": 0
      },
      "text/plain": [
       "  0%|          | 0/30 [00:00<?, ?it/s]"
      ]
     },
     "metadata": {},
     "output_type": "display_data"
    },
    {
     "name": "stderr",
     "output_type": "stream",
     "text": [
      "\u001b[32m[I 2023-04-18 01:33:26,718]\u001b[0m Trial 35 finished with value: 0.020388730158730196 and parameters: {'factors': 84, 'regularization': 8.783828359186922}. Best is trial 32 with value: 0.02102349206349212.\u001b[0m\n"
     ]
    },
    {
     "data": {
      "application/vnd.jupyter.widget-view+json": {
       "model_id": "700692662b0546faa2891df84ec43bb8",
       "version_major": 2,
       "version_minor": 0
      },
      "text/plain": [
       "  0%|          | 0/30 [00:00<?, ?it/s]"
      ]
     },
     "metadata": {},
     "output_type": "display_data"
    },
    {
     "name": "stderr",
     "output_type": "stream",
     "text": [
      "\u001b[32m[I 2023-04-18 01:34:06,516]\u001b[0m Trial 36 finished with value: 0.020748928571428606 and parameters: {'factors': 95, 'regularization': 9.280005964592144}. Best is trial 32 with value: 0.02102349206349212.\u001b[0m\n"
     ]
    },
    {
     "data": {
      "application/vnd.jupyter.widget-view+json": {
       "model_id": "663d7eb4d2f14df0ab29c85e1588d0dd",
       "version_major": 2,
       "version_minor": 0
      },
      "text/plain": [
       "  0%|          | 0/30 [00:00<?, ?it/s]"
      ]
     },
     "metadata": {},
     "output_type": "display_data"
    },
    {
     "name": "stderr",
     "output_type": "stream",
     "text": [
      "\u001b[32m[I 2023-04-18 01:34:46,638]\u001b[0m Trial 37 finished with value: 0.020794365079365128 and parameters: {'factors': 95, 'regularization': 9.231536867633928}. Best is trial 32 with value: 0.02102349206349212.\u001b[0m\n"
     ]
    },
    {
     "data": {
      "application/vnd.jupyter.widget-view+json": {
       "model_id": "8638f9833a284cd48bbd7340a08e486d",
       "version_major": 2,
       "version_minor": 0
      },
      "text/plain": [
       "  0%|          | 0/30 [00:00<?, ?it/s]"
      ]
     },
     "metadata": {},
     "output_type": "display_data"
    },
    {
     "name": "stderr",
     "output_type": "stream",
     "text": [
      "\u001b[32m[I 2023-04-18 01:35:24,526]\u001b[0m Trial 38 finished with value: 0.020250436507936544 and parameters: {'factors': 100, 'regularization': 8.206198530054463}. Best is trial 32 with value: 0.02102349206349212.\u001b[0m\n"
     ]
    },
    {
     "data": {
      "application/vnd.jupyter.widget-view+json": {
       "model_id": "8e0171558ea544a5be989bf711dbb561",
       "version_major": 2,
       "version_minor": 0
      },
      "text/plain": [
       "  0%|          | 0/30 [00:00<?, ?it/s]"
      ]
     },
     "metadata": {},
     "output_type": "display_data"
    },
    {
     "name": "stderr",
     "output_type": "stream",
     "text": [
      "\u001b[32m[I 2023-04-18 01:36:02,399]\u001b[0m Trial 39 finished with value: 0.020306626984127014 and parameters: {'factors': 93, 'regularization': 8.729393286984587}. Best is trial 32 with value: 0.02102349206349212.\u001b[0m\n"
     ]
    },
    {
     "data": {
      "application/vnd.jupyter.widget-view+json": {
       "model_id": "32a6de93210e4a4582c0a7bfa18f4a07",
       "version_major": 2,
       "version_minor": 0
      },
      "text/plain": [
       "  0%|          | 0/30 [00:00<?, ?it/s]"
      ]
     },
     "metadata": {},
     "output_type": "display_data"
    },
    {
     "name": "stderr",
     "output_type": "stream",
     "text": [
      "\u001b[32m[I 2023-04-18 01:36:37,093]\u001b[0m Trial 40 finished with value: 0.020265515873015914 and parameters: {'factors': 86, 'regularization': 9.41087213000666}. Best is trial 32 with value: 0.02102349206349212.\u001b[0m\n"
     ]
    },
    {
     "data": {
      "application/vnd.jupyter.widget-view+json": {
       "model_id": "89a4818f48854e39b2b5163517ada770",
       "version_major": 2,
       "version_minor": 0
      },
      "text/plain": [
       "  0%|          | 0/30 [00:00<?, ?it/s]"
      ]
     },
     "metadata": {},
     "output_type": "display_data"
    },
    {
     "name": "stderr",
     "output_type": "stream",
     "text": [
      "\u001b[32m[I 2023-04-18 01:37:10,192]\u001b[0m Trial 41 finished with value: 0.020590555555555598 and parameters: {'factors': 94, 'regularization': 9.0082211499245}. Best is trial 32 with value: 0.02102349206349212.\u001b[0m\n"
     ]
    },
    {
     "data": {
      "application/vnd.jupyter.widget-view+json": {
       "model_id": "ae0da4fe9b1d41739d529d160a0a672a",
       "version_major": 2,
       "version_minor": 0
      },
      "text/plain": [
       "  0%|          | 0/30 [00:00<?, ?it/s]"
      ]
     },
     "metadata": {},
     "output_type": "display_data"
    },
    {
     "name": "stderr",
     "output_type": "stream",
     "text": [
      "\u001b[32m[I 2023-04-18 01:37:55,751]\u001b[0m Trial 42 finished with value: 0.02103257936507941 and parameters: {'factors': 97, 'regularization': 9.418154957993593}. Best is trial 42 with value: 0.02103257936507941.\u001b[0m\n"
     ]
    },
    {
     "data": {
      "application/vnd.jupyter.widget-view+json": {
       "model_id": "497f713df6e4439baccfeec431df0a60",
       "version_major": 2,
       "version_minor": 0
      },
      "text/plain": [
       "  0%|          | 0/30 [00:00<?, ?it/s]"
      ]
     },
     "metadata": {},
     "output_type": "display_data"
    },
    {
     "name": "stderr",
     "output_type": "stream",
     "text": [
      "\u001b[32m[I 2023-04-18 01:38:40,912]\u001b[0m Trial 43 finished with value: 0.021010833333333385 and parameters: {'factors': 98, 'regularization': 9.51356169903456}. Best is trial 42 with value: 0.02103257936507941.\u001b[0m\n"
     ]
    },
    {
     "data": {
      "application/vnd.jupyter.widget-view+json": {
       "model_id": "9d7cef82038d462b820fd3cb4280474b",
       "version_major": 2,
       "version_minor": 0
      },
      "text/plain": [
       "  0%|          | 0/30 [00:00<?, ?it/s]"
      ]
     },
     "metadata": {},
     "output_type": "display_data"
    },
    {
     "name": "stderr",
     "output_type": "stream",
     "text": [
      "\u001b[32m[I 2023-04-18 01:39:21,370]\u001b[0m Trial 44 finished with value: 0.019998809523809558 and parameters: {'factors': 98, 'regularization': 7.661570164095995}. Best is trial 42 with value: 0.02103257936507941.\u001b[0m\n"
     ]
    },
    {
     "data": {
      "application/vnd.jupyter.widget-view+json": {
       "model_id": "c91788eedfb3413d9cc8c346f4b7bea2",
       "version_major": 2,
       "version_minor": 0
      },
      "text/plain": [
       "  0%|          | 0/30 [00:00<?, ?it/s]"
      ]
     },
     "metadata": {},
     "output_type": "display_data"
    },
    {
     "name": "stderr",
     "output_type": "stream",
     "text": [
      "\u001b[32m[I 2023-04-18 01:39:37,949]\u001b[0m Trial 45 finished with value: 0.008194166666666648 and parameters: {'factors': 20, 'regularization': 8.70189034248093}. Best is trial 42 with value: 0.02103257936507941.\u001b[0m\n"
     ]
    },
    {
     "data": {
      "application/vnd.jupyter.widget-view+json": {
       "model_id": "acab7534f8314af5b0599e99cd02b985",
       "version_major": 2,
       "version_minor": 0
      },
      "text/plain": [
       "  0%|          | 0/30 [00:00<?, ?it/s]"
      ]
     },
     "metadata": {},
     "output_type": "display_data"
    },
    {
     "name": "stderr",
     "output_type": "stream",
     "text": [
      "\u001b[32m[I 2023-04-18 01:40:10,662]\u001b[0m Trial 46 finished with value: 0.020785238095238124 and parameters: {'factors': 100, 'regularization': 9.424653461711204}. Best is trial 42 with value: 0.02103257936507941.\u001b[0m\n"
     ]
    },
    {
     "data": {
      "application/vnd.jupyter.widget-view+json": {
       "model_id": "751a4a5510514a74b12a629c43fe3b93",
       "version_major": 2,
       "version_minor": 0
      },
      "text/plain": [
       "  0%|          | 0/30 [00:00<?, ?it/s]"
      ]
     },
     "metadata": {},
     "output_type": "display_data"
    },
    {
     "name": "stderr",
     "output_type": "stream",
     "text": [
      "\u001b[32m[I 2023-04-18 01:40:48,340]\u001b[0m Trial 47 finished with value: 0.020122777777777812 and parameters: {'factors': 89, 'regularization': 8.09797135992447}. Best is trial 42 with value: 0.02103257936507941.\u001b[0m\n"
     ]
    },
    {
     "data": {
      "application/vnd.jupyter.widget-view+json": {
       "model_id": "a6258afd05de4ef4b30d0def97937a34",
       "version_major": 2,
       "version_minor": 0
      },
      "text/plain": [
       "  0%|          | 0/30 [00:00<?, ?it/s]"
      ]
     },
     "metadata": {},
     "output_type": "display_data"
    },
    {
     "name": "stderr",
     "output_type": "stream",
     "text": [
      "\u001b[32m[I 2023-04-18 01:41:25,304]\u001b[0m Trial 48 finished with value: 0.019988452380952416 and parameters: {'factors': 86, 'regularization': 8.560537711175737}. Best is trial 42 with value: 0.02103257936507941.\u001b[0m\n"
     ]
    },
    {
     "data": {
      "application/vnd.jupyter.widget-view+json": {
       "model_id": "33dbfe9caee24d859e4caa0f2f22e4a1",
       "version_major": 2,
       "version_minor": 0
      },
      "text/plain": [
       "  0%|          | 0/30 [00:00<?, ?it/s]"
      ]
     },
     "metadata": {},
     "output_type": "display_data"
    },
    {
     "name": "stderr",
     "output_type": "stream",
     "text": [
      "\u001b[32m[I 2023-04-18 01:41:54,654]\u001b[0m Trial 49 finished with value: 0.02069789682539687 and parameters: {'factors': 81, 'regularization': 9.538592831061518}. Best is trial 42 with value: 0.02103257936507941.\u001b[0m\n"
     ]
    }
   ],
   "source": [
    "study = optuna.create_study(direction='maximize')\n",
    "study.optimize(objective, n_trials=50)"
   ]
  },
  {
   "cell_type": "code",
   "execution_count": 95,
   "id": "05230f9c",
   "metadata": {},
   "outputs": [
    {
     "data": {
      "text/plain": [
       "{'factors': 97, 'regularization': 9.418154957993593}"
      ]
     },
     "execution_count": 95,
     "metadata": {},
     "output_type": "execute_result"
    }
   ],
   "source": [
    "study.best_params"
   ]
  },
  {
   "cell_type": "code",
   "execution_count": 96,
   "id": "cce67666",
   "metadata": {},
   "outputs": [
    {
     "data": {
      "application/vnd.jupyter.widget-view+json": {
       "model_id": "335186541b9347bf8f5d702a9f8fcd4c",
       "version_major": 2,
       "version_minor": 0
      },
      "text/plain": [
       "  0%|          | 0/30 [00:00<?, ?it/s]"
      ]
     },
     "metadata": {},
     "output_type": "display_data"
    },
    {
     "name": "stderr",
     "output_type": "stream",
     "text": [
      "100%|█████████████████████████████████████████████████████████████████████████████| 1000/1000 [00:01<00:00, 569.15it/s]\n"
     ]
    }
   ],
   "source": [
    "experiment('ALS Recommender + changed DS + optuna', ALSBasedRecommender(), {'factors': 97,\n",
    "                                                                            'regularization': 9.418154957993593,\n",
    "                                                                            'iterations':30}, {},\n",
    "           my_favorites, k=10)"
   ]
  },
  {
   "cell_type": "code",
   "execution_count": null,
   "id": "5688cdef",
   "metadata": {},
   "outputs": [],
   "source": []
  }
 ],
 "metadata": {
  "kernelspec": {
   "display_name": "Python 3 (ipykernel)",
   "language": "python",
   "name": "python3"
  },
  "language_info": {
   "codemirror_mode": {
    "name": "ipython",
    "version": 3
   },
   "file_extension": ".py",
   "mimetype": "text/x-python",
   "name": "python",
   "nbconvert_exporter": "python",
   "pygments_lexer": "ipython3",
   "version": "3.7.13"
  }
 },
 "nbformat": 4,
 "nbformat_minor": 5
}
