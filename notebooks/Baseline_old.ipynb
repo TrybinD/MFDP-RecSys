{
 "cells": [
  {
   "cell_type": "markdown",
   "id": "791d71d5",
   "metadata": {},
   "source": [
    "# MFDP. RecSys"
   ]
  },
  {
   "cell_type": "code",
   "execution_count": 71,
   "id": "32d4f086",
   "metadata": {},
   "outputs": [
    {
     "name": "stdout",
     "output_type": "stream",
     "text": [
      "The autoreload extension is already loaded. To reload it, use:\n",
      "  %reload_ext autoreload\n"
     ]
    }
   ],
   "source": [
    "%load_ext autoreload\n",
    "%autoreload 2\n",
    "\n",
    "import sys\n",
    "sys.path.append('../')"
   ]
  },
  {
   "cell_type": "markdown",
   "id": "3cdccd56",
   "metadata": {},
   "source": [
    "Необходимо реализовать baseline для задачи рекомендации контента. Пока что не будем учитывать ни время, которое есть у клиента (потому что пока таких данных нет), ни прочие данные о клиентах. Простой baseline, как отправная точка, для разработки сервиса."
   ]
  },
  {
   "cell_type": "code",
   "execution_count": 79,
   "id": "4916896f",
   "metadata": {},
   "outputs": [],
   "source": [
    "import pandas as pd\n",
    "import numpy as np\n",
    "from pathlib import Path\n",
    "from tqdm import tqdm\n",
    "\n",
    "from src.models.BaseModel import BaseRecommendModel\n",
    "from src.metrics import average_precision, average_single_precision"
   ]
  },
  {
   "cell_type": "code",
   "execution_count": 3,
   "id": "8dab8a21",
   "metadata": {},
   "outputs": [],
   "source": [
    "np.random.seed(42)"
   ]
  },
  {
   "cell_type": "code",
   "execution_count": 4,
   "id": "73db8c96",
   "metadata": {},
   "outputs": [],
   "source": [
    "data_path = Path('../data')"
   ]
  },
  {
   "cell_type": "code",
   "execution_count": 5,
   "id": "62c8fdba",
   "metadata": {},
   "outputs": [],
   "source": [
    "df_train = pd.read_parquet(data_path / 'df_train.parquet')"
   ]
  },
  {
   "cell_type": "code",
   "execution_count": 6,
   "id": "15d8d282",
   "metadata": {},
   "outputs": [],
   "source": [
    "users_bd = pd.read_parquet(data_path / 'users_bd.parquet')"
   ]
  },
  {
   "cell_type": "code",
   "execution_count": 7,
   "id": "011bc1a8",
   "metadata": {},
   "outputs": [],
   "source": [
    "model = BaseRecommendModel()"
   ]
  },
  {
   "cell_type": "code",
   "execution_count": 8,
   "id": "3dd826c5",
   "metadata": {},
   "outputs": [],
   "source": [
    "model.fit(df_train, history=users_bd)"
   ]
  },
  {
   "cell_type": "code",
   "execution_count": null,
   "id": "8d272734",
   "metadata": {},
   "outputs": [],
   "source": []
  },
  {
   "cell_type": "code",
   "execution_count": 9,
   "id": "3be6178e",
   "metadata": {},
   "outputs": [],
   "source": [
    "df_test = pd.read_parquet(data_path / 'df_test.parquet')"
   ]
  },
  {
   "cell_type": "code",
   "execution_count": 10,
   "id": "d52dda93",
   "metadata": {},
   "outputs": [],
   "source": [
    "# Рекомендуем всем одинаково, потому что генерить рекомендации, проверяя историю, для 1 000 000 строчек дорого по времени\n",
    "df_test['recomendation'] = ', '.join(model.recommend('', 20, use_history=False))"
   ]
  },
  {
   "cell_type": "code",
   "execution_count": 11,
   "id": "2d248a4b",
   "metadata": {},
   "outputs": [
    {
     "name": "stdout",
     "output_type": "stream",
     "text": [
      "CPU times: total: 34.5 s\n",
      "Wall time: 34.9 s\n"
     ]
    },
    {
     "data": {
      "text/plain": [
       "0.002971727412521274"
      ]
     },
     "execution_count": 11,
     "metadata": {},
     "output_type": "execute_result"
    }
   ],
   "source": [
    "%%time\n",
    "df_test.apply(lambda x: average_single_precision(x['item'], x['recomendation'].split(', ')), axis=1).mean()"
   ]
  },
  {
   "cell_type": "markdown",
   "id": "8e736bb1",
   "metadata": {},
   "source": [
    "Baseline score составил 0.00297"
   ]
  },
  {
   "cell_type": "code",
   "execution_count": 12,
   "id": "8a2e2f46",
   "metadata": {},
   "outputs": [
    {
     "data": {
      "text/plain": [
       "16.835016835016834"
      ]
     },
     "execution_count": 12,
     "metadata": {},
     "output_type": "execute_result"
    }
   ],
   "source": [
    "1/(0.00297 * 20)"
   ]
  },
  {
   "cell_type": "markdown",
   "id": "4668ee83",
   "metadata": {},
   "source": [
    "В среднем то, что понравится пользователю (из этих датасетов) находится на 16 позиции, что в принципе очень неплохо)"
   ]
  },
  {
   "cell_type": "markdown",
   "id": "71e51104",
   "metadata": {},
   "source": [
    "# Сохранение модели для использования"
   ]
  },
  {
   "cell_type": "code",
   "execution_count": 80,
   "id": "59f478e4",
   "metadata": {},
   "outputs": [],
   "source": [
    "import pickle"
   ]
  },
  {
   "cell_type": "code",
   "execution_count": 81,
   "id": "2c48a9eb",
   "metadata": {},
   "outputs": [],
   "source": [
    "model = BaseRecommendModel()"
   ]
  },
  {
   "cell_type": "code",
   "execution_count": 82,
   "id": "dc265832",
   "metadata": {},
   "outputs": [],
   "source": [
    "model.fit(df_train)"
   ]
  },
  {
   "cell_type": "code",
   "execution_count": 84,
   "id": "463c2609",
   "metadata": {},
   "outputs": [
    {
     "data": {
      "text/plain": [
       "array(['k15297', 'k13865', 'b0971880107', 'k10440', 'k3734', 'k9728',\n",
       "       'k142', 'k11237', 'k7417', 'k6809', 'k14431', 'k7571', 'k3182',\n",
       "       'k1819', 'k7626', 'k16166', 'k4495', 'k9169', 'k5693', 'k14461'],\n",
       "      dtype=object)"
      ]
     },
     "execution_count": 84,
     "metadata": {},
     "output_type": "execute_result"
    }
   ],
   "source": [
    "model.recommend('', 20, user_history=['k8636', 'k1844', 'k4457'])"
   ]
  },
  {
   "cell_type": "code",
   "execution_count": 85,
   "id": "fd39d1dd",
   "metadata": {},
   "outputs": [],
   "source": [
    "model_path = Path('../src/models')"
   ]
  },
  {
   "cell_type": "code",
   "execution_count": 86,
   "id": "7cbb674a",
   "metadata": {},
   "outputs": [],
   "source": [
    "with open(model_path / 'base_model.pickle', 'wb') as f:\n",
    "    pickle.dump(model, f)"
   ]
  },
  {
   "cell_type": "code",
   "execution_count": null,
   "id": "8774e879",
   "metadata": {},
   "outputs": [],
   "source": []
  }
 ],
 "metadata": {
  "kernelspec": {
   "display_name": "Python 3 (ipykernel)",
   "language": "python",
   "name": "python3"
  },
  "language_info": {
   "codemirror_mode": {
    "name": "ipython",
    "version": 3
   },
   "file_extension": ".py",
   "mimetype": "text/x-python",
   "name": "python",
   "nbconvert_exporter": "python",
   "pygments_lexer": "ipython3",
   "version": "3.7.13"
  }
 },
 "nbformat": 4,
 "nbformat_minor": 5
}
